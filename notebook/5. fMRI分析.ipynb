{
 "cells": [
  {
   "attachments": {},
   "cell_type": "markdown",
   "metadata": {},
   "source": [
    "# fMRI 分析\n",
    "## 0. 环境配置"
   ]
  },
  {
   "cell_type": "code",
   "execution_count": 6,
   "metadata": {
    "ExecuteTime": {
     "end_time": "2023-06-13T09:46:06.126365Z",
     "start_time": "2023-06-13T09:46:04.377426Z"
    }
   },
   "outputs": [],
   "source": [
    "# 配置基本环境\n",
    "import os\n",
    "import re\n",
    "import xia_fmri_workflow\n",
    "from pathlib import Path\n",
    "import pandas as pd\n",
    "import scipy.io\n",
    "from joblib import Parallel, delayed\n",
    "import multiprocessing\n",
    "num_cores = 6\n",
    "\n",
    "# 读取被试数据\n",
    "all_data = pd.read_csv(\"/Users/dddd1007/Research/project9_fmri_spatial_stroop/data/input/all_data_with_params.csv\")\n",
    "# 被试基本信息\n",
    "sub_num_list = pd.unique(all_data['sub_num'])\n",
    "session_num = 6\n",
    "\n",
    "# 数据位置\n",
    "root_dir = \"/Users/dddd1007/Research/project9_fmri_spatial_stroop/input/fmri_data/nii\"\n",
    "output_dir = \"/Users/dddd1007/Research/project9_fmri_spatial_stroop/output/fmri/\""
   ]
  },
  {
   "attachments": {},
   "cell_type": "markdown",
   "metadata": {},
   "source": [
    "## 1. GLM 分析"
   ]
  },
  {
   "cell_type": "code",
   "execution_count": 8,
   "metadata": {},
   "outputs": [
    {
     "data": {
      "text/html": [
       "<div>\n",
       "<style scoped>\n",
       "    .dataframe tbody tr th:only-of-type {\n",
       "        vertical-align: middle;\n",
       "    }\n",
       "\n",
       "    .dataframe tbody tr th {\n",
       "        vertical-align: top;\n",
       "    }\n",
       "\n",
       "    .dataframe thead th {\n",
       "        text-align: right;\n",
       "    }\n",
       "</style>\n",
       "<table border=\"1\" class=\"dataframe\">\n",
       "  <thead>\n",
       "    <tr style=\"text-align: right;\">\n",
       "      <th></th>\n",
       "      <th>run_num</th>\n",
       "      <th>sub_num</th>\n",
       "      <th>run</th>\n",
       "      <th>volatile</th>\n",
       "      <th>volatile_num</th>\n",
       "      <th>prop</th>\n",
       "      <th>prop_num</th>\n",
       "      <th>congruency</th>\n",
       "      <th>congruency_num</th>\n",
       "      <th>corr_resp</th>\n",
       "      <th>...</th>\n",
       "      <th>bl_ab_r_selected</th>\n",
       "      <th>bl_ab_PE</th>\n",
       "      <th>bl_sr_ll</th>\n",
       "      <th>bl_sr_lr</th>\n",
       "      <th>bl_sr_rl</th>\n",
       "      <th>bl_sr_rr</th>\n",
       "      <th>bl_sr_v</th>\n",
       "      <th>bl_sr_r_selected</th>\n",
       "      <th>bl_sr_PE</th>\n",
       "      <th>PC_factor</th>\n",
       "    </tr>\n",
       "  </thead>\n",
       "  <tbody>\n",
       "    <tr>\n",
       "      <th>0</th>\n",
       "      <td>1</td>\n",
       "      <td>9</td>\n",
       "      <td>1</td>\n",
       "      <td>s</td>\n",
       "      <td>0</td>\n",
       "      <td>MI</td>\n",
       "      <td>0</td>\n",
       "      <td>Con</td>\n",
       "      <td>1</td>\n",
       "      <td>4</td>\n",
       "      <td>...</td>\n",
       "      <td>0.500000</td>\n",
       "      <td>0.500000</td>\n",
       "      <td>0.500000</td>\n",
       "      <td>0.500000</td>\n",
       "      <td>0.500000</td>\n",
       "      <td>0.500000</td>\n",
       "      <td>-5.208408</td>\n",
       "      <td>0.500000</td>\n",
       "      <td>0.500000</td>\n",
       "      <td>s_MI_Con</td>\n",
       "    </tr>\n",
       "    <tr>\n",
       "      <th>1</th>\n",
       "      <td>1</td>\n",
       "      <td>9</td>\n",
       "      <td>1</td>\n",
       "      <td>s</td>\n",
       "      <td>0</td>\n",
       "      <td>MI</td>\n",
       "      <td>0</td>\n",
       "      <td>Inc</td>\n",
       "      <td>0</td>\n",
       "      <td>4</td>\n",
       "      <td>...</td>\n",
       "      <td>0.314636</td>\n",
       "      <td>0.685364</td>\n",
       "      <td>0.496343</td>\n",
       "      <td>0.503657</td>\n",
       "      <td>0.501921</td>\n",
       "      <td>0.498079</td>\n",
       "      <td>-5.208568</td>\n",
       "      <td>0.498079</td>\n",
       "      <td>0.501921</td>\n",
       "      <td>s_MI_Inc</td>\n",
       "    </tr>\n",
       "    <tr>\n",
       "      <th>2</th>\n",
       "      <td>1</td>\n",
       "      <td>9</td>\n",
       "      <td>1</td>\n",
       "      <td>s</td>\n",
       "      <td>0</td>\n",
       "      <td>MI</td>\n",
       "      <td>0</td>\n",
       "      <td>Inc</td>\n",
       "      <td>0</td>\n",
       "      <td>4</td>\n",
       "      <td>...</td>\n",
       "      <td>0.304298</td>\n",
       "      <td>0.695702</td>\n",
       "      <td>0.495979</td>\n",
       "      <td>0.504021</td>\n",
       "      <td>0.501220</td>\n",
       "      <td>0.498780</td>\n",
       "      <td>-5.208558</td>\n",
       "      <td>0.498780</td>\n",
       "      <td>0.501220</td>\n",
       "      <td>s_MI_Inc</td>\n",
       "    </tr>\n",
       "    <tr>\n",
       "      <th>3</th>\n",
       "      <td>1</td>\n",
       "      <td>9</td>\n",
       "      <td>1</td>\n",
       "      <td>s</td>\n",
       "      <td>0</td>\n",
       "      <td>MI</td>\n",
       "      <td>0</td>\n",
       "      <td>Inc</td>\n",
       "      <td>0</td>\n",
       "      <td>1</td>\n",
       "      <td>...</td>\n",
       "      <td>0.296511</td>\n",
       "      <td>0.703489</td>\n",
       "      <td>0.497761</td>\n",
       "      <td>0.502239</td>\n",
       "      <td>0.501890</td>\n",
       "      <td>0.498110</td>\n",
       "      <td>-5.208970</td>\n",
       "      <td>0.497761</td>\n",
       "      <td>0.502239</td>\n",
       "      <td>s_MI_Inc</td>\n",
       "    </tr>\n",
       "    <tr>\n",
       "      <th>4</th>\n",
       "      <td>1</td>\n",
       "      <td>9</td>\n",
       "      <td>1</td>\n",
       "      <td>s</td>\n",
       "      <td>0</td>\n",
       "      <td>MI</td>\n",
       "      <td>0</td>\n",
       "      <td>Inc</td>\n",
       "      <td>0</td>\n",
       "      <td>4</td>\n",
       "      <td>...</td>\n",
       "      <td>0.291804</td>\n",
       "      <td>0.708196</td>\n",
       "      <td>0.499820</td>\n",
       "      <td>0.500180</td>\n",
       "      <td>0.503333</td>\n",
       "      <td>0.496667</td>\n",
       "      <td>-5.209018</td>\n",
       "      <td>0.496667</td>\n",
       "      <td>0.503333</td>\n",
       "      <td>s_MI_Inc</td>\n",
       "    </tr>\n",
       "    <tr>\n",
       "      <th>...</th>\n",
       "      <td>...</td>\n",
       "      <td>...</td>\n",
       "      <td>...</td>\n",
       "      <td>...</td>\n",
       "      <td>...</td>\n",
       "      <td>...</td>\n",
       "      <td>...</td>\n",
       "      <td>...</td>\n",
       "      <td>...</td>\n",
       "      <td>...</td>\n",
       "      <td>...</td>\n",
       "      <td>...</td>\n",
       "      <td>...</td>\n",
       "      <td>...</td>\n",
       "      <td>...</td>\n",
       "      <td>...</td>\n",
       "      <td>...</td>\n",
       "      <td>...</td>\n",
       "      <td>...</td>\n",
       "      <td>...</td>\n",
       "      <td>...</td>\n",
       "    </tr>\n",
       "    <tr>\n",
       "      <th>32635</th>\n",
       "      <td>6</td>\n",
       "      <td>43</td>\n",
       "      <td>6</td>\n",
       "      <td>s</td>\n",
       "      <td>0</td>\n",
       "      <td>MC</td>\n",
       "      <td>1</td>\n",
       "      <td>Con</td>\n",
       "      <td>1</td>\n",
       "      <td>1</td>\n",
       "      <td>...</td>\n",
       "      <td>0.215555</td>\n",
       "      <td>0.784445</td>\n",
       "      <td>0.788592</td>\n",
       "      <td>0.211408</td>\n",
       "      <td>0.221720</td>\n",
       "      <td>0.778280</td>\n",
       "      <td>-5.199193</td>\n",
       "      <td>0.221720</td>\n",
       "      <td>0.778280</td>\n",
       "      <td>s_MC_Con</td>\n",
       "    </tr>\n",
       "    <tr>\n",
       "      <th>32636</th>\n",
       "      <td>6</td>\n",
       "      <td>43</td>\n",
       "      <td>6</td>\n",
       "      <td>s</td>\n",
       "      <td>0</td>\n",
       "      <td>MC</td>\n",
       "      <td>1</td>\n",
       "      <td>Con</td>\n",
       "      <td>1</td>\n",
       "      <td>4</td>\n",
       "      <td>...</td>\n",
       "      <td>0.206660</td>\n",
       "      <td>0.793340</td>\n",
       "      <td>0.792205</td>\n",
       "      <td>0.207795</td>\n",
       "      <td>0.219349</td>\n",
       "      <td>0.780651</td>\n",
       "      <td>-5.199214</td>\n",
       "      <td>0.207795</td>\n",
       "      <td>0.792205</td>\n",
       "      <td>s_MC_Con</td>\n",
       "    </tr>\n",
       "    <tr>\n",
       "      <th>32637</th>\n",
       "      <td>6</td>\n",
       "      <td>43</td>\n",
       "      <td>6</td>\n",
       "      <td>s</td>\n",
       "      <td>0</td>\n",
       "      <td>MC</td>\n",
       "      <td>1</td>\n",
       "      <td>Con</td>\n",
       "      <td>1</td>\n",
       "      <td>1</td>\n",
       "      <td>...</td>\n",
       "      <td>0.201238</td>\n",
       "      <td>0.798762</td>\n",
       "      <td>0.794904</td>\n",
       "      <td>0.205096</td>\n",
       "      <td>0.216875</td>\n",
       "      <td>0.783125</td>\n",
       "      <td>-5.200395</td>\n",
       "      <td>0.216875</td>\n",
       "      <td>0.783125</td>\n",
       "      <td>s_MC_Con</td>\n",
       "    </tr>\n",
       "    <tr>\n",
       "      <th>32638</th>\n",
       "      <td>6</td>\n",
       "      <td>43</td>\n",
       "      <td>6</td>\n",
       "      <td>s</td>\n",
       "      <td>0</td>\n",
       "      <td>MC</td>\n",
       "      <td>1</td>\n",
       "      <td>Con</td>\n",
       "      <td>1</td>\n",
       "      <td>1</td>\n",
       "      <td>...</td>\n",
       "      <td>0.195799</td>\n",
       "      <td>0.804201</td>\n",
       "      <td>0.797148</td>\n",
       "      <td>0.202852</td>\n",
       "      <td>0.216792</td>\n",
       "      <td>0.783208</td>\n",
       "      <td>-5.201335</td>\n",
       "      <td>0.216792</td>\n",
       "      <td>0.783208</td>\n",
       "      <td>s_MC_Con</td>\n",
       "    </tr>\n",
       "    <tr>\n",
       "      <th>32639</th>\n",
       "      <td>6</td>\n",
       "      <td>43</td>\n",
       "      <td>6</td>\n",
       "      <td>s</td>\n",
       "      <td>0</td>\n",
       "      <td>MC</td>\n",
       "      <td>1</td>\n",
       "      <td>Con</td>\n",
       "      <td>1</td>\n",
       "      <td>4</td>\n",
       "      <td>...</td>\n",
       "      <td>0.192974</td>\n",
       "      <td>0.807026</td>\n",
       "      <td>0.798246</td>\n",
       "      <td>0.201754</td>\n",
       "      <td>0.215813</td>\n",
       "      <td>0.784187</td>\n",
       "      <td>-5.203149</td>\n",
       "      <td>0.201754</td>\n",
       "      <td>0.798246</td>\n",
       "      <td>s_MC_Con</td>\n",
       "    </tr>\n",
       "  </tbody>\n",
       "</table>\n",
       "<p>32640 rows × 50 columns</p>\n",
       "</div>"
      ],
      "text/plain": [
       "       run_num  sub_num  run volatile  volatile_num prop  prop_num congruency  \\\n",
       "0            1        9    1        s             0   MI         0        Con   \n",
       "1            1        9    1        s             0   MI         0        Inc   \n",
       "2            1        9    1        s             0   MI         0        Inc   \n",
       "3            1        9    1        s             0   MI         0        Inc   \n",
       "4            1        9    1        s             0   MI         0        Inc   \n",
       "...        ...      ...  ...      ...           ...  ...       ...        ...   \n",
       "32635        6       43    6        s             0   MC         1        Con   \n",
       "32636        6       43    6        s             0   MC         1        Con   \n",
       "32637        6       43    6        s             0   MC         1        Con   \n",
       "32638        6       43    6        s             0   MC         1        Con   \n",
       "32639        6       43    6        s             0   MC         1        Con   \n",
       "\n",
       "       congruency_num  corr_resp  ...  bl_ab_r_selected  bl_ab_PE  bl_sr_ll  \\\n",
       "0                   1          4  ...          0.500000  0.500000  0.500000   \n",
       "1                   0          4  ...          0.314636  0.685364  0.496343   \n",
       "2                   0          4  ...          0.304298  0.695702  0.495979   \n",
       "3                   0          1  ...          0.296511  0.703489  0.497761   \n",
       "4                   0          4  ...          0.291804  0.708196  0.499820   \n",
       "...               ...        ...  ...               ...       ...       ...   \n",
       "32635               1          1  ...          0.215555  0.784445  0.788592   \n",
       "32636               1          4  ...          0.206660  0.793340  0.792205   \n",
       "32637               1          1  ...          0.201238  0.798762  0.794904   \n",
       "32638               1          1  ...          0.195799  0.804201  0.797148   \n",
       "32639               1          4  ...          0.192974  0.807026  0.798246   \n",
       "\n",
       "       bl_sr_lr  bl_sr_rl  bl_sr_rr   bl_sr_v  bl_sr_r_selected  bl_sr_PE  \\\n",
       "0      0.500000  0.500000  0.500000 -5.208408          0.500000  0.500000   \n",
       "1      0.503657  0.501921  0.498079 -5.208568          0.498079  0.501921   \n",
       "2      0.504021  0.501220  0.498780 -5.208558          0.498780  0.501220   \n",
       "3      0.502239  0.501890  0.498110 -5.208970          0.497761  0.502239   \n",
       "4      0.500180  0.503333  0.496667 -5.209018          0.496667  0.503333   \n",
       "...         ...       ...       ...       ...               ...       ...   \n",
       "32635  0.211408  0.221720  0.778280 -5.199193          0.221720  0.778280   \n",
       "32636  0.207795  0.219349  0.780651 -5.199214          0.207795  0.792205   \n",
       "32637  0.205096  0.216875  0.783125 -5.200395          0.216875  0.783125   \n",
       "32638  0.202852  0.216792  0.783208 -5.201335          0.216792  0.783208   \n",
       "32639  0.201754  0.215813  0.784187 -5.203149          0.201754  0.798246   \n",
       "\n",
       "      PC_factor  \n",
       "0      s_MI_Con  \n",
       "1      s_MI_Inc  \n",
       "2      s_MI_Inc  \n",
       "3      s_MI_Inc  \n",
       "4      s_MI_Inc  \n",
       "...         ...  \n",
       "32635  s_MC_Con  \n",
       "32636  s_MC_Con  \n",
       "32637  s_MC_Con  \n",
       "32638  s_MC_Con  \n",
       "32639  s_MC_Con  \n",
       "\n",
       "[32640 rows x 50 columns]"
      ]
     },
     "execution_count": 8,
     "metadata": {},
     "output_type": "execute_result"
    }
   ],
   "source": [
    "all_data.columns\n",
    "all_data['PC_factor'] = all_data[['volatile', 'prop', 'congruency']].apply(lambda row: '_'.join(row.astype(str)), axis=1)\n",
    "all_data"
   ]
  },
  {
   "cell_type": "code",
   "execution_count": 9,
   "metadata": {},
   "outputs": [
    {
     "name": "stdout",
     "output_type": "stream",
     "text": [
      "Save subject 35's data to \n",
      "/Users/dddd1007/Library/CloudStorage/Dropbox/Work/phd work/research/project9_fmri_spatial_stroopdata/output/fmri/condGLM/reverse_control/1stLevel/sub35\n",
      "Generating SPM model for subject 35...\n",
      "Estimating SPM model for subject 35 (1/2)...\n"
     ]
    },
    {
     "name": "stderr",
     "output_type": "stream",
     "text": [
      "stty: stdin isn't a terminal\n",
      "stty: stdin isn't a terminal\n"
     ]
    },
    {
     "name": "stdout",
     "output_type": "stream",
     "text": [
      "Estimating SPM model for subject 35 (2/2)...\n"
     ]
    },
    {
     "name": "stderr",
     "output_type": "stream",
     "text": [
      "stty: stdin isn't a terminal\n"
     ]
    },
    {
     "name": "stdout",
     "output_type": "stream",
     "text": [
      "Save subject 36's data to \n",
      "/Users/dddd1007/Library/CloudStorage/Dropbox/Work/phd work/research/project9_fmri_spatial_stroopdata/output/fmri/condGLM/reverse_control/1stLevel/sub36\n",
      "Generating SPM model for subject 36...\n",
      "Estimating SPM model for subject 36 (1/2)...\n"
     ]
    },
    {
     "name": "stderr",
     "output_type": "stream",
     "text": [
      "stty: stdin isn't a terminal\n"
     ]
    },
    {
     "name": "stdout",
     "output_type": "stream",
     "text": [
      "Estimating SPM model for subject 36 (2/2)...\n"
     ]
    },
    {
     "name": "stderr",
     "output_type": "stream",
     "text": [
      "stty: stdin isn't a terminal\n"
     ]
    },
    {
     "name": "stdout",
     "output_type": "stream",
     "text": [
      "Save subject 37's data to \n",
      "/Users/dddd1007/Library/CloudStorage/Dropbox/Work/phd work/research/project9_fmri_spatial_stroopdata/output/fmri/condGLM/reverse_control/1stLevel/sub37\n",
      "Generating SPM model for subject 37...\n",
      "Estimating SPM model for subject 37 (1/2)...\n"
     ]
    },
    {
     "name": "stderr",
     "output_type": "stream",
     "text": [
      "stty: stdin isn't a terminal\n"
     ]
    },
    {
     "name": "stdout",
     "output_type": "stream",
     "text": [
      "Estimating SPM model for subject 37 (2/2)...\n"
     ]
    },
    {
     "name": "stderr",
     "output_type": "stream",
     "text": [
      "stty: stdin isn't a terminal\n"
     ]
    },
    {
     "name": "stdout",
     "output_type": "stream",
     "text": [
      "Save subject 38's data to \n",
      "/Users/dddd1007/Library/CloudStorage/Dropbox/Work/phd work/research/project9_fmri_spatial_stroopdata/output/fmri/condGLM/reverse_control/1stLevel/sub38\n",
      "Generating SPM model for subject 38...\n",
      "Estimating SPM model for subject 38 (1/2)...\n"
     ]
    },
    {
     "name": "stderr",
     "output_type": "stream",
     "text": [
      "stty: stdin isn't a terminal\n"
     ]
    },
    {
     "name": "stdout",
     "output_type": "stream",
     "text": [
      "Estimating SPM model for subject 38 (2/2)...\n"
     ]
    },
    {
     "name": "stderr",
     "output_type": "stream",
     "text": [
      "stty: stdin isn't a terminal\n"
     ]
    },
    {
     "name": "stdout",
     "output_type": "stream",
     "text": [
      "Save subject 40's data to \n",
      "/Users/dddd1007/Library/CloudStorage/Dropbox/Work/phd work/research/project9_fmri_spatial_stroopdata/output/fmri/condGLM/reverse_control/1stLevel/sub40\n",
      "Generating SPM model for subject 40...\n",
      "Estimating SPM model for subject 40 (1/2)...\n"
     ]
    },
    {
     "name": "stderr",
     "output_type": "stream",
     "text": [
      "stty: stdin isn't a terminal\n"
     ]
    },
    {
     "name": "stdout",
     "output_type": "stream",
     "text": [
      "Estimating SPM model for subject 40 (2/2)...\n"
     ]
    },
    {
     "name": "stderr",
     "output_type": "stream",
     "text": [
      "stty: stdin isn't a terminal\n"
     ]
    },
    {
     "name": "stdout",
     "output_type": "stream",
     "text": [
      "Save subject 42's data to \n",
      "/Users/dddd1007/Library/CloudStorage/Dropbox/Work/phd work/research/project9_fmri_spatial_stroopdata/output/fmri/condGLM/reverse_control/1stLevel/sub42\n",
      "Generating SPM model for subject 42...\n",
      "Estimating SPM model for subject 42 (1/2)...\n"
     ]
    },
    {
     "name": "stderr",
     "output_type": "stream",
     "text": [
      "stty: stdin isn't a terminal\n"
     ]
    },
    {
     "name": "stdout",
     "output_type": "stream",
     "text": [
      "Estimating SPM model for subject 42 (2/2)...\n"
     ]
    },
    {
     "name": "stderr",
     "output_type": "stream",
     "text": [
      "stty: stdin isn't a terminal\n"
     ]
    },
    {
     "name": "stdout",
     "output_type": "stream",
     "text": [
      "Save subject 43's data to \n",
      "/Users/dddd1007/Library/CloudStorage/Dropbox/Work/phd work/research/project9_fmri_spatial_stroopdata/output/fmri/condGLM/reverse_control/1stLevel/sub43\n",
      "Generating SPM model for subject 43...\n",
      "Estimating SPM model for subject 43 (1/2)...\n"
     ]
    },
    {
     "name": "stderr",
     "output_type": "stream",
     "text": [
      "stty: stdin isn't a terminal\n"
     ]
    },
    {
     "name": "stdout",
     "output_type": "stream",
     "text": [
      "Estimating SPM model for subject 43 (2/2)...\n"
     ]
    },
    {
     "name": "stderr",
     "output_type": "stream",
     "text": [
      "stty: stdin isn't a terminal\n"
     ]
    }
   ],
   "source": [
    "factors_name = ['PC_factor']\n",
    "sub_num_list = sub_num_list[(sub_num_list > 34) & (sub_num_list != 41)]\n",
    "for sub_num in sub_num_list:\n",
    "    estimate_result = xia_fmri_workflow.workflow_condition_glm_1stlevel(root_dir, sub_num, session_num, factors_name, all_data, output_dir)"
   ]
  },
  {
   "cell_type": "code",
   "execution_count": 13,
   "metadata": {},
   "outputs": [
    {
     "name": "stdout",
     "output_type": "stream",
     "text": [
      "Generating SPM model for subject 41...\n"
     ]
    }
   ],
   "source": [
    "# The sub 41 don't have the session 1, so we treat it specially\n",
    "def nii_selector(root_dir, sub_num, session_num, all_sub_dataframe, data_type=\"Smooth_8mm\"):\n",
    "    import os\n",
    "    import glob\n",
    "    session_list = [\"session\" + str(i) for i in range(2, session_num+1)]\n",
    "    sub_name = \"sub\"+str(sub_num)\n",
    "    # print(file_path)\n",
    "    nii_list = []\n",
    "    realignment_para_file_list = []\n",
    "    for s in session_list:\n",
    "        file_path = os.path.join(root_dir, sub_name, data_type, s)\n",
    "        Orig_path = os.path.join(root_dir, sub_name, 'Orig', s)\n",
    "        nii_list.append(sorted(glob.glob(file_path + \"/*.nii\")))\n",
    "        realignment_para_file_list.append(glob.glob(Orig_path + \"/rp_*.txt\"))\n",
    "\n",
    "    single_sub_data = all_sub_dataframe[all_sub_dataframe.sub_num == sub_num]\n",
    "    return (nii_list, realignment_para_file_list, single_sub_data, sub_name)\n",
    "\n",
    "\n",
    "def head_movement_regressor_generator(single_realignment_para_file):\n",
    "    import numpy as np\n",
    "    if type(single_realignment_para_file) is list:\n",
    "        single_realignment_para_file = single_realignment_para_file[0]\n",
    "    relignment_params = np.loadtxt(single_realignment_para_file)\n",
    "    head_movement_regressor = relignment_params.T.tolist()\n",
    "    return head_movement_regressor\n",
    "\n",
    "   # Build the relationship between onsets and parameters\n",
    "\n",
    "\n",
    "def factor_condition_generator(single_sub_data, factors_name, realignment_para_file_list, duration=0):\n",
    "    \"\"\"Build a bunch to show the relationship between each onset and parameter\n",
    "\n",
    "    Build a bunch for make a design matrix for next analysis. This bunch is for describing the relationship\n",
    "    between each onset and parameter.\n",
    "\n",
    "    Args:\n",
    "        single_sub_data: A pandas DataFrame which contains data for one subject.\n",
    "                        It must contains the information about run, onsets, and parameters.\n",
    "        factors_name: A list of names of conditions which you want to analysis.\n",
    "        duration: The duration of a TR.\n",
    "\n",
    "    Returns:\n",
    "        subject_info: A list of bunch type which can be resolve by SpecifySPMModel interface in nipype.\n",
    "    \"\"\"\n",
    "    from nipype.interfaces.base import Bunch\n",
    "    run_num = set(single_sub_data.run)\n",
    "    subject_info = []\n",
    "    for i in run_num:\n",
    "        single_run_table = single_sub_data[single_sub_data.run == i]\n",
    "\n",
    "        tmp_table_right = single_run_table[single_run_table['stim_resp.corr'] == 1]\n",
    "        tmp_table_wrong = single_run_table[single_run_table['stim_resp.corr'] == 0]\n",
    "\n",
    "        condition_table = pd.DataFrame()\n",
    "        condition_table[factors_name] = tmp_table_right[factors_name].astype(\n",
    "            \"category\")\n",
    "        condition_table['onset'] = tmp_table_right.onset\n",
    "        onset_condition_table = condition_table.pivot(\n",
    "            values='onset', columns=factors_name)\n",
    "\n",
    "        bunch_condition = []\n",
    "        bunch_onsets = []\n",
    "        bunch_duration = []\n",
    "\n",
    "        error_onsets = tmp_table_wrong.onset.values.tolist()\n",
    "        if len(error_onsets) == 0:\n",
    "            error_onsets = [510]\n",
    "\n",
    "        for j in range(len(onset_condition_table.columns)):\n",
    "            bunch_condition.append(\n",
    "                'run_' + str(i) + '_' + str(onset_condition_table.columns[j]))\n",
    "            bunch_onsets.append(\n",
    "                onset_condition_table[onset_condition_table.columns[j]].dropna(how='all').tolist())\n",
    "            bunch_duration.append([duration])\n",
    "        bunch_condition.append(\"run_error_\"+str(i))\n",
    "        bunch_onsets.append(error_onsets)\n",
    "        bunch_duration.append([duration])\n",
    "        tmp_Bunch = Bunch(conditions=bunch_condition,\n",
    "                          onsets=bunch_onsets,\n",
    "                          durations=bunch_duration,\n",
    "                          regressor_names=['X', 'Y', 'Z', 'x_r', 'y_r', 'z_r'],\n",
    "                          regressors=head_movement_regressor_generator(realignment_para_file_list[i-2]))\n",
    "        subject_info.append(tmp_Bunch)\n",
    "    return subject_info\n",
    "\n",
    "output_dir = \"/Users/dddd1007/Research/project9_fmri_spatial_stroop/output/fmri/condGLM/reverse_control/1stLevel/sub41\"\n",
    "Path(output_dir).mkdir(parents=True, exist_ok=True)\n",
    "os.chdir(output_dir)\n",
    "root_dir = \"/Users/dddd1007/Research/project9_fmri_spatial_stroop/input/fmri_data/nii/\"\n",
    "sub_num = 41\n",
    "session_num = 6\n",
    "\n",
    "print(\"Generating SPM model for subject \" + str(sub_num) + \"...\")"
   ]
  },
  {
   "cell_type": "code",
   "execution_count": 19,
   "metadata": {},
   "outputs": [],
   "source": [
    "from nipype.interfaces.spm import Level1Design, EstimateModel, EstimateContrast\n",
    "from nipype.algorithms.modelgen import SpecifySPMModel\n",
    "from numpy import single\n",
    "factors_name = ['PC_factor']\n",
    "nii_list, realignment_para_file_list, single_sub_data, sub_name = nii_selector(\n",
    "    root_dir, sub_num, session_num, all_data)\n",
    "single_sub_data = single_sub_data[single_sub_data['run_num'] >= 2]\n"
   ]
  },
  {
   "cell_type": "code",
   "execution_count": 20,
   "metadata": {},
   "outputs": [
    {
     "data": {
      "text/html": [
       "<div>\n",
       "<style scoped>\n",
       "    .dataframe tbody tr th:only-of-type {\n",
       "        vertical-align: middle;\n",
       "    }\n",
       "\n",
       "    .dataframe tbody tr th {\n",
       "        vertical-align: top;\n",
       "    }\n",
       "\n",
       "    .dataframe thead th {\n",
       "        text-align: right;\n",
       "    }\n",
       "</style>\n",
       "<table border=\"1\" class=\"dataframe\">\n",
       "  <thead>\n",
       "    <tr style=\"text-align: right;\">\n",
       "      <th></th>\n",
       "      <th>run_num</th>\n",
       "      <th>sub_num</th>\n",
       "      <th>run</th>\n",
       "      <th>volatile</th>\n",
       "      <th>volatile_num</th>\n",
       "      <th>prop</th>\n",
       "      <th>prop_num</th>\n",
       "      <th>congruency</th>\n",
       "      <th>congruency_num</th>\n",
       "      <th>corr_resp</th>\n",
       "      <th>...</th>\n",
       "      <th>bl_ab_r_selected</th>\n",
       "      <th>bl_ab_PE</th>\n",
       "      <th>bl_sr_ll</th>\n",
       "      <th>bl_sr_lr</th>\n",
       "      <th>bl_sr_rl</th>\n",
       "      <th>bl_sr_rr</th>\n",
       "      <th>bl_sr_v</th>\n",
       "      <th>bl_sr_r_selected</th>\n",
       "      <th>bl_sr_PE</th>\n",
       "      <th>PC_factor</th>\n",
       "    </tr>\n",
       "  </thead>\n",
       "  <tbody>\n",
       "    <tr>\n",
       "      <th>29920</th>\n",
       "      <td>2</td>\n",
       "      <td>41</td>\n",
       "      <td>2</td>\n",
       "      <td>s</td>\n",
       "      <td>0</td>\n",
       "      <td>MC</td>\n",
       "      <td>1</td>\n",
       "      <td>Inc</td>\n",
       "      <td>0</td>\n",
       "      <td>1</td>\n",
       "      <td>...</td>\n",
       "      <td>0.773092</td>\n",
       "      <td>0.226908</td>\n",
       "      <td>0.808799</td>\n",
       "      <td>0.191201</td>\n",
       "      <td>0.277865</td>\n",
       "      <td>0.722135</td>\n",
       "      <td>-5.897234</td>\n",
       "      <td>0.808799</td>\n",
       "      <td>0.191201</td>\n",
       "      <td>s_MC_Inc</td>\n",
       "    </tr>\n",
       "    <tr>\n",
       "      <th>29921</th>\n",
       "      <td>2</td>\n",
       "      <td>41</td>\n",
       "      <td>2</td>\n",
       "      <td>s</td>\n",
       "      <td>0</td>\n",
       "      <td>MC</td>\n",
       "      <td>1</td>\n",
       "      <td>Con</td>\n",
       "      <td>1</td>\n",
       "      <td>4</td>\n",
       "      <td>...</td>\n",
       "      <td>0.222919</td>\n",
       "      <td>0.777081</td>\n",
       "      <td>0.809778</td>\n",
       "      <td>0.190222</td>\n",
       "      <td>0.275069</td>\n",
       "      <td>0.724931</td>\n",
       "      <td>-5.928867</td>\n",
       "      <td>0.190222</td>\n",
       "      <td>0.809778</td>\n",
       "      <td>s_MC_Con</td>\n",
       "    </tr>\n",
       "    <tr>\n",
       "      <th>29922</th>\n",
       "      <td>2</td>\n",
       "      <td>41</td>\n",
       "      <td>2</td>\n",
       "      <td>s</td>\n",
       "      <td>0</td>\n",
       "      <td>MC</td>\n",
       "      <td>1</td>\n",
       "      <td>Con</td>\n",
       "      <td>1</td>\n",
       "      <td>1</td>\n",
       "      <td>...</td>\n",
       "      <td>0.213475</td>\n",
       "      <td>0.786525</td>\n",
       "      <td>0.811095</td>\n",
       "      <td>0.188905</td>\n",
       "      <td>0.268670</td>\n",
       "      <td>0.731330</td>\n",
       "      <td>-5.956105</td>\n",
       "      <td>0.268670</td>\n",
       "      <td>0.731330</td>\n",
       "      <td>s_MC_Con</td>\n",
       "    </tr>\n",
       "    <tr>\n",
       "      <th>29923</th>\n",
       "      <td>2</td>\n",
       "      <td>41</td>\n",
       "      <td>2</td>\n",
       "      <td>s</td>\n",
       "      <td>0</td>\n",
       "      <td>MC</td>\n",
       "      <td>1</td>\n",
       "      <td>Con</td>\n",
       "      <td>1</td>\n",
       "      <td>4</td>\n",
       "      <td>...</td>\n",
       "      <td>0.205910</td>\n",
       "      <td>0.794090</td>\n",
       "      <td>0.812974</td>\n",
       "      <td>0.187026</td>\n",
       "      <td>0.262800</td>\n",
       "      <td>0.737200</td>\n",
       "      <td>-5.977163</td>\n",
       "      <td>0.187026</td>\n",
       "      <td>0.812974</td>\n",
       "      <td>s_MC_Con</td>\n",
       "    </tr>\n",
       "    <tr>\n",
       "      <th>29924</th>\n",
       "      <td>2</td>\n",
       "      <td>41</td>\n",
       "      <td>2</td>\n",
       "      <td>s</td>\n",
       "      <td>0</td>\n",
       "      <td>MC</td>\n",
       "      <td>1</td>\n",
       "      <td>Con</td>\n",
       "      <td>1</td>\n",
       "      <td>1</td>\n",
       "      <td>...</td>\n",
       "      <td>0.199431</td>\n",
       "      <td>0.800569</td>\n",
       "      <td>0.813405</td>\n",
       "      <td>0.186595</td>\n",
       "      <td>0.257680</td>\n",
       "      <td>0.742320</td>\n",
       "      <td>-5.996497</td>\n",
       "      <td>0.257680</td>\n",
       "      <td>0.742320</td>\n",
       "      <td>s_MC_Con</td>\n",
       "    </tr>\n",
       "    <tr>\n",
       "      <th>...</th>\n",
       "      <td>...</td>\n",
       "      <td>...</td>\n",
       "      <td>...</td>\n",
       "      <td>...</td>\n",
       "      <td>...</td>\n",
       "      <td>...</td>\n",
       "      <td>...</td>\n",
       "      <td>...</td>\n",
       "      <td>...</td>\n",
       "      <td>...</td>\n",
       "      <td>...</td>\n",
       "      <td>...</td>\n",
       "      <td>...</td>\n",
       "      <td>...</td>\n",
       "      <td>...</td>\n",
       "      <td>...</td>\n",
       "      <td>...</td>\n",
       "      <td>...</td>\n",
       "      <td>...</td>\n",
       "      <td>...</td>\n",
       "      <td>...</td>\n",
       "    </tr>\n",
       "    <tr>\n",
       "      <th>30715</th>\n",
       "      <td>6</td>\n",
       "      <td>41</td>\n",
       "      <td>6</td>\n",
       "      <td>v</td>\n",
       "      <td>1</td>\n",
       "      <td>MC</td>\n",
       "      <td>1</td>\n",
       "      <td>Con</td>\n",
       "      <td>1</td>\n",
       "      <td>1</td>\n",
       "      <td>...</td>\n",
       "      <td>0.251991</td>\n",
       "      <td>0.748009</td>\n",
       "      <td>0.778356</td>\n",
       "      <td>0.221644</td>\n",
       "      <td>0.298691</td>\n",
       "      <td>0.701309</td>\n",
       "      <td>-5.260125</td>\n",
       "      <td>0.298691</td>\n",
       "      <td>0.701309</td>\n",
       "      <td>v_MC_Con</td>\n",
       "    </tr>\n",
       "    <tr>\n",
       "      <th>30716</th>\n",
       "      <td>6</td>\n",
       "      <td>41</td>\n",
       "      <td>6</td>\n",
       "      <td>v</td>\n",
       "      <td>1</td>\n",
       "      <td>MC</td>\n",
       "      <td>1</td>\n",
       "      <td>Con</td>\n",
       "      <td>1</td>\n",
       "      <td>4</td>\n",
       "      <td>...</td>\n",
       "      <td>0.232993</td>\n",
       "      <td>0.767007</td>\n",
       "      <td>0.784596</td>\n",
       "      <td>0.215404</td>\n",
       "      <td>0.292521</td>\n",
       "      <td>0.707479</td>\n",
       "      <td>-5.270535</td>\n",
       "      <td>0.215404</td>\n",
       "      <td>0.784596</td>\n",
       "      <td>v_MC_Con</td>\n",
       "    </tr>\n",
       "    <tr>\n",
       "      <th>30717</th>\n",
       "      <td>6</td>\n",
       "      <td>41</td>\n",
       "      <td>6</td>\n",
       "      <td>v</td>\n",
       "      <td>1</td>\n",
       "      <td>MC</td>\n",
       "      <td>1</td>\n",
       "      <td>Con</td>\n",
       "      <td>1</td>\n",
       "      <td>1</td>\n",
       "      <td>...</td>\n",
       "      <td>0.221885</td>\n",
       "      <td>0.778115</td>\n",
       "      <td>0.788031</td>\n",
       "      <td>0.211969</td>\n",
       "      <td>0.287038</td>\n",
       "      <td>0.712962</td>\n",
       "      <td>-5.273093</td>\n",
       "      <td>0.287038</td>\n",
       "      <td>0.712962</td>\n",
       "      <td>v_MC_Con</td>\n",
       "    </tr>\n",
       "    <tr>\n",
       "      <th>30718</th>\n",
       "      <td>6</td>\n",
       "      <td>41</td>\n",
       "      <td>6</td>\n",
       "      <td>v</td>\n",
       "      <td>1</td>\n",
       "      <td>MC</td>\n",
       "      <td>1</td>\n",
       "      <td>Con</td>\n",
       "      <td>1</td>\n",
       "      <td>1</td>\n",
       "      <td>...</td>\n",
       "      <td>0.212162</td>\n",
       "      <td>0.787838</td>\n",
       "      <td>0.791348</td>\n",
       "      <td>0.208652</td>\n",
       "      <td>0.284497</td>\n",
       "      <td>0.715503</td>\n",
       "      <td>-5.275823</td>\n",
       "      <td>0.284497</td>\n",
       "      <td>0.715503</td>\n",
       "      <td>v_MC_Con</td>\n",
       "    </tr>\n",
       "    <tr>\n",
       "      <th>30719</th>\n",
       "      <td>6</td>\n",
       "      <td>41</td>\n",
       "      <td>6</td>\n",
       "      <td>v</td>\n",
       "      <td>1</td>\n",
       "      <td>MC</td>\n",
       "      <td>1</td>\n",
       "      <td>Con</td>\n",
       "      <td>1</td>\n",
       "      <td>4</td>\n",
       "      <td>...</td>\n",
       "      <td>0.205788</td>\n",
       "      <td>0.794212</td>\n",
       "      <td>0.793062</td>\n",
       "      <td>0.206938</td>\n",
       "      <td>0.281757</td>\n",
       "      <td>0.718243</td>\n",
       "      <td>-5.277349</td>\n",
       "      <td>0.206938</td>\n",
       "      <td>0.793062</td>\n",
       "      <td>v_MC_Con</td>\n",
       "    </tr>\n",
       "  </tbody>\n",
       "</table>\n",
       "<p>800 rows × 50 columns</p>\n",
       "</div>"
      ],
      "text/plain": [
       "       run_num  sub_num  run volatile  volatile_num prop  prop_num congruency  \\\n",
       "29920        2       41    2        s             0   MC         1        Inc   \n",
       "29921        2       41    2        s             0   MC         1        Con   \n",
       "29922        2       41    2        s             0   MC         1        Con   \n",
       "29923        2       41    2        s             0   MC         1        Con   \n",
       "29924        2       41    2        s             0   MC         1        Con   \n",
       "...        ...      ...  ...      ...           ...  ...       ...        ...   \n",
       "30715        6       41    6        v             1   MC         1        Con   \n",
       "30716        6       41    6        v             1   MC         1        Con   \n",
       "30717        6       41    6        v             1   MC         1        Con   \n",
       "30718        6       41    6        v             1   MC         1        Con   \n",
       "30719        6       41    6        v             1   MC         1        Con   \n",
       "\n",
       "       congruency_num  corr_resp  ...  bl_ab_r_selected  bl_ab_PE  bl_sr_ll  \\\n",
       "29920               0          1  ...          0.773092  0.226908  0.808799   \n",
       "29921               1          4  ...          0.222919  0.777081  0.809778   \n",
       "29922               1          1  ...          0.213475  0.786525  0.811095   \n",
       "29923               1          4  ...          0.205910  0.794090  0.812974   \n",
       "29924               1          1  ...          0.199431  0.800569  0.813405   \n",
       "...               ...        ...  ...               ...       ...       ...   \n",
       "30715               1          1  ...          0.251991  0.748009  0.778356   \n",
       "30716               1          4  ...          0.232993  0.767007  0.784596   \n",
       "30717               1          1  ...          0.221885  0.778115  0.788031   \n",
       "30718               1          1  ...          0.212162  0.787838  0.791348   \n",
       "30719               1          4  ...          0.205788  0.794212  0.793062   \n",
       "\n",
       "       bl_sr_lr  bl_sr_rl  bl_sr_rr   bl_sr_v  bl_sr_r_selected  bl_sr_PE  \\\n",
       "29920  0.191201  0.277865  0.722135 -5.897234          0.808799  0.191201   \n",
       "29921  0.190222  0.275069  0.724931 -5.928867          0.190222  0.809778   \n",
       "29922  0.188905  0.268670  0.731330 -5.956105          0.268670  0.731330   \n",
       "29923  0.187026  0.262800  0.737200 -5.977163          0.187026  0.812974   \n",
       "29924  0.186595  0.257680  0.742320 -5.996497          0.257680  0.742320   \n",
       "...         ...       ...       ...       ...               ...       ...   \n",
       "30715  0.221644  0.298691  0.701309 -5.260125          0.298691  0.701309   \n",
       "30716  0.215404  0.292521  0.707479 -5.270535          0.215404  0.784596   \n",
       "30717  0.211969  0.287038  0.712962 -5.273093          0.287038  0.712962   \n",
       "30718  0.208652  0.284497  0.715503 -5.275823          0.284497  0.715503   \n",
       "30719  0.206938  0.281757  0.718243 -5.277349          0.206938  0.793062   \n",
       "\n",
       "      PC_factor  \n",
       "29920  s_MC_Inc  \n",
       "29921  s_MC_Con  \n",
       "29922  s_MC_Con  \n",
       "29923  s_MC_Con  \n",
       "29924  s_MC_Con  \n",
       "...         ...  \n",
       "30715  v_MC_Con  \n",
       "30716  v_MC_Con  \n",
       "30717  v_MC_Con  \n",
       "30718  v_MC_Con  \n",
       "30719  v_MC_Con  \n",
       "\n",
       "[800 rows x 50 columns]"
      ]
     },
     "execution_count": 20,
     "metadata": {},
     "output_type": "execute_result"
    }
   ],
   "source": [
    "single_sub_data"
   ]
  },
  {
   "cell_type": "code",
   "execution_count": 21,
   "metadata": {},
   "outputs": [
    {
     "name": "stdout",
     "output_type": "stream",
     "text": [
      "Estimating SPM model for subject 41 (1/2)...\n"
     ]
    },
    {
     "name": "stderr",
     "output_type": "stream",
     "text": [
      "stty: stdin isn't a terminal\n"
     ]
    },
    {
     "name": "stdout",
     "output_type": "stream",
     "text": [
      "Estimating SPM model for subject 41 (2/2)...\n"
     ]
    },
    {
     "name": "stderr",
     "output_type": "stream",
     "text": [
      "stty: stdin isn't a terminal\n"
     ]
    }
   ],
   "source": [
    "subject_info = factor_condition_generator(\n",
    "    single_sub_data, factors_name, realignment_para_file_list)\n",
    "gen_model = SpecifySPMModel(concatenate_runs=False,\n",
    "                            input_units='scans',\n",
    "                            output_units='scans',\n",
    "                            time_repetition=1.5,\n",
    "                            high_pass_filter_cutoff=128,\n",
    "                            subject_info=subject_info,\n",
    "                            functional_runs=nii_list)\n",
    "spmModel = gen_model.run()\n",
    "\n",
    "print(\"Estimating SPM model for subject \" + str(sub_num) + \" (1/2)...\")\n",
    "design_model = Level1Design(bases={'hrf': {'derivs': [1, 0]}},\n",
    "                            timing_units='scans',\n",
    "                            interscan_interval=1.5,\n",
    "                            microtime_resolution=32,\n",
    "                            microtime_onset=1,\n",
    "                            session_info=spmModel.outputs.session_info,\n",
    "                            spm_mat_dir=output_dir)\n",
    "\n",
    "firstLevelModel = design_model.run()\n",
    "\n",
    "print(\"Estimating SPM model for subject \" + str(sub_num) + \" (2/2)...\")\n",
    "estimator = EstimateModel(estimation_method={'Classical': 1},\n",
    "                          spm_mat_file=firstLevelModel.outputs.spm_mat_file)\n",
    "estimateResult = estimator.run()"
   ]
  },
  {
   "attachments": {},
   "cell_type": "markdown",
   "metadata": {},
   "source": [
    "## 2. Parametric GLM 分析\n",
    "### 2.1 Bayesian Model"
   ]
  },
  {
   "cell_type": "code",
   "execution_count": 9,
   "metadata": {
    "ExecuteTime": {
     "end_time": "2023-06-13T12:29:13.890636Z",
     "start_time": "2023-06-13T12:19:46.898797Z"
    }
   },
   "outputs": [
    {
     "name": "stdout",
     "output_type": "stream",
     "text": [
      "Processing subject  run_num\n",
      "Save subject run_num's data to \n",
      "/Users/dddd1007/Research/project9_fmri_spatial_stroop/output/fmri/paramGLM/bl/1stLevel/subrun_num\n",
      "Generating SPM model for subject run_num...\n"
     ]
    },
    {
     "ename": "ValueError",
     "evalue": "SpecifySPMModel requires a value for one of the inputs 'subject_info, event_files, bids_event_file'. For a list of required inputs, see SpecifySPMModel.help()",
     "output_type": "error",
     "traceback": [
      "\u001b[0;31m---------------------------------------------------------------------------\u001b[0m",
      "\u001b[0;31mValueError\u001b[0m                                Traceback (most recent call last)",
      "Cell \u001b[0;32mIn[9], line 37\u001b[0m\n\u001b[1;32m     35\u001b[0m \u001b[39mfor\u001b[39;00m sub_num \u001b[39min\u001b[39;00m inputs:\n\u001b[1;32m     36\u001b[0m     \u001b[39mprint\u001b[39m(\u001b[39m\"\u001b[39m\u001b[39mProcessing subject \u001b[39m\u001b[39m\"\u001b[39m, \u001b[39mstr\u001b[39m(sub_num))\n\u001b[0;32m---> 37\u001b[0m     bl_processInput(sub_num)\n",
      "Cell \u001b[0;32mIn[9], line 32\u001b[0m, in \u001b[0;36mbl_processInput\u001b[0;34m(sub_num)\u001b[0m\n\u001b[1;32m     31\u001b[0m \u001b[39mdef\u001b[39;00m \u001b[39mbl_processInput\u001b[39m(sub_num):\n\u001b[0;32m---> 32\u001b[0m     estimate_result \u001b[39m=\u001b[39m xia_fmri_workflow\u001b[39m.\u001b[39;49mworkflow_param_glm_1stlevel(root_dir, sub_num, session_num, params_name, all_data, output_dir, \u001b[39m\"\u001b[39;49m\u001b[39mbl\u001b[39;49m\u001b[39m\"\u001b[39;49m)\n\u001b[1;32m     33\u001b[0m     contrast_result \u001b[39m=\u001b[39m xia_fmri_workflow\u001b[39m.\u001b[39mworkflow_contrast(estimate_result, contrast_list)\n",
      "File \u001b[0;32m~/.local/lib/python3.10/site-packages/xia_fmri_workflow/__init__.py:170\u001b[0m, in \u001b[0;36mworkflow_param_glm_1stlevel\u001b[0;34m(root_dir, sub_num, session_num, params_name, all_data, output_dir, folder_name)\u001b[0m\n\u001b[1;32m    161\u001b[0m subject_info \u001b[39m=\u001b[39m parametric_condition_generator(\n\u001b[1;32m    162\u001b[0m     single_sub_data, params_name, realignment_para_file_list, centering\u001b[39m=\u001b[39m\u001b[39mFalse\u001b[39;00m)\n\u001b[1;32m    163\u001b[0m gen_model \u001b[39m=\u001b[39m SpecifySPMModel(concatenate_runs\u001b[39m=\u001b[39m\u001b[39mFalse\u001b[39;00m,\n\u001b[1;32m    164\u001b[0m                             input_units\u001b[39m=\u001b[39m\u001b[39m'\u001b[39m\u001b[39mscans\u001b[39m\u001b[39m'\u001b[39m,\n\u001b[1;32m    165\u001b[0m                             output_units\u001b[39m=\u001b[39m\u001b[39m'\u001b[39m\u001b[39mscans\u001b[39m\u001b[39m'\u001b[39m,\n\u001b[0;32m   (...)\u001b[0m\n\u001b[1;32m    168\u001b[0m                             subject_info\u001b[39m=\u001b[39msubject_info,\n\u001b[1;32m    169\u001b[0m                             functional_runs\u001b[39m=\u001b[39mnii_list)\n\u001b[0;32m--> 170\u001b[0m spmModel \u001b[39m=\u001b[39m gen_model\u001b[39m.\u001b[39;49mrun()\n\u001b[1;32m    172\u001b[0m \u001b[39mprint\u001b[39m(\u001b[39m\"\u001b[39m\u001b[39mEstimating SPM model for subject \u001b[39m\u001b[39m\"\u001b[39m \u001b[39m+\u001b[39m \u001b[39mstr\u001b[39m(sub_num) \u001b[39m+\u001b[39m \u001b[39m\"\u001b[39m\u001b[39m (1/2)...\u001b[39m\u001b[39m\"\u001b[39m)\n\u001b[1;32m    173\u001b[0m design_model \u001b[39m=\u001b[39m Level1Design(bases\u001b[39m=\u001b[39m{\u001b[39m'\u001b[39m\u001b[39mhrf\u001b[39m\u001b[39m'\u001b[39m: {\u001b[39m'\u001b[39m\u001b[39mderivs\u001b[39m\u001b[39m'\u001b[39m: [\u001b[39m1\u001b[39m, \u001b[39m0\u001b[39m]}},\n\u001b[1;32m    174\u001b[0m                             timing_units\u001b[39m=\u001b[39m\u001b[39m'\u001b[39m\u001b[39mscans\u001b[39m\u001b[39m'\u001b[39m,\n\u001b[1;32m    175\u001b[0m                             interscan_interval\u001b[39m=\u001b[39m\u001b[39m1.5\u001b[39m,\n\u001b[0;32m   (...)\u001b[0m\n\u001b[1;32m    178\u001b[0m                             session_info\u001b[39m=\u001b[39mspmModel\u001b[39m.\u001b[39moutputs\u001b[39m.\u001b[39msession_info,\n\u001b[1;32m    179\u001b[0m                             spm_mat_dir\u001b[39m=\u001b[39moutput_dir)\n",
      "File \u001b[0;32m~/anaconda3/lib/python3.10/site-packages/nipype/interfaces/base/core.py:388\u001b[0m, in \u001b[0;36mBaseInterface.run\u001b[0;34m(self, cwd, ignore_exception, **inputs)\u001b[0m\n\u001b[1;32m    386\u001b[0m \u001b[39mwith\u001b[39;00m indirectory(cwd \u001b[39mor\u001b[39;00m os\u001b[39m.\u001b[39mgetcwd()):\n\u001b[1;32m    387\u001b[0m     \u001b[39mself\u001b[39m\u001b[39m.\u001b[39minputs\u001b[39m.\u001b[39mtrait_set(\u001b[39m*\u001b[39m\u001b[39m*\u001b[39minputs)\n\u001b[0;32m--> 388\u001b[0m \u001b[39mself\u001b[39;49m\u001b[39m.\u001b[39;49m_check_mandatory_inputs()\n\u001b[1;32m    389\u001b[0m \u001b[39mself\u001b[39m\u001b[39m.\u001b[39m_check_version_requirements(\u001b[39mself\u001b[39m\u001b[39m.\u001b[39minputs)\n\u001b[1;32m    391\u001b[0m \u001b[39mwith\u001b[39;00m rtc(\u001b[39mself\u001b[39m, cwd\u001b[39m=\u001b[39mcwd, redirect_x\u001b[39m=\u001b[39m\u001b[39mself\u001b[39m\u001b[39m.\u001b[39m_redirect_x) \u001b[39mas\u001b[39;00m runtime:\n\u001b[1;32m    392\u001b[0m     \u001b[39m# Grab inputs now, as they should not change during execution\u001b[39;00m\n",
      "File \u001b[0;32m~/anaconda3/lib/python3.10/site-packages/nipype/interfaces/base/core.py:268\u001b[0m, in \u001b[0;36mBaseInterface._check_mandatory_inputs\u001b[0;34m(self)\u001b[0m\n\u001b[1;32m    266\u001b[0m \u001b[39mfor\u001b[39;00m name, spec \u001b[39min\u001b[39;00m \u001b[39mlist\u001b[39m(\u001b[39mself\u001b[39m\u001b[39m.\u001b[39minputs\u001b[39m.\u001b[39mtraits(mandatory\u001b[39m=\u001b[39m\u001b[39mTrue\u001b[39;00m)\u001b[39m.\u001b[39mitems()):\n\u001b[1;32m    267\u001b[0m     value \u001b[39m=\u001b[39m \u001b[39mgetattr\u001b[39m(\u001b[39mself\u001b[39m\u001b[39m.\u001b[39minputs, name)\n\u001b[0;32m--> 268\u001b[0m     \u001b[39mself\u001b[39;49m\u001b[39m.\u001b[39;49m_check_xor(spec, name, value)\n\u001b[1;32m    269\u001b[0m     \u001b[39mif\u001b[39;00m \u001b[39mnot\u001b[39;00m isdefined(value) \u001b[39mand\u001b[39;00m spec\u001b[39m.\u001b[39mxor \u001b[39mis\u001b[39;00m \u001b[39mNone\u001b[39;00m:\n\u001b[1;32m    270\u001b[0m         msg \u001b[39m=\u001b[39m (\n\u001b[1;32m    271\u001b[0m             \u001b[39m\"\u001b[39m\u001b[39m%s\u001b[39;00m\u001b[39m requires a value for input \u001b[39m\u001b[39m'\u001b[39m\u001b[39m%s\u001b[39;00m\u001b[39m'\u001b[39m\u001b[39m. \u001b[39m\u001b[39m\"\u001b[39m\n\u001b[1;32m    272\u001b[0m             \u001b[39m\"\u001b[39m\u001b[39mFor a list of required inputs, see \u001b[39m\u001b[39m%s\u001b[39;00m\u001b[39m.help()\u001b[39m\u001b[39m\"\u001b[39m\n\u001b[1;32m    273\u001b[0m             \u001b[39m%\u001b[39m (\u001b[39mself\u001b[39m\u001b[39m.\u001b[39m\u001b[39m__class__\u001b[39m\u001b[39m.\u001b[39m\u001b[39m__name__\u001b[39m, name, \u001b[39mself\u001b[39m\u001b[39m.\u001b[39m\u001b[39m__class__\u001b[39m\u001b[39m.\u001b[39m\u001b[39m__name__\u001b[39m)\n\u001b[1;32m    274\u001b[0m         )\n",
      "File \u001b[0;32m~/anaconda3/lib/python3.10/site-packages/nipype/interfaces/base/core.py:262\u001b[0m, in \u001b[0;36mBaseInterface._check_xor\u001b[0;34m(self, spec, name, value)\u001b[0m\n\u001b[1;32m    252\u001b[0m \u001b[39mif\u001b[39;00m \u001b[39mnot\u001b[39;00m \u001b[39many\u001b[39m(values) \u001b[39mand\u001b[39;00m \u001b[39mnot\u001b[39;00m isdefined(value):\n\u001b[1;32m    253\u001b[0m     msg \u001b[39m=\u001b[39m (\n\u001b[1;32m    254\u001b[0m         \u001b[39m\"\u001b[39m\u001b[39m%s\u001b[39;00m\u001b[39m requires a value for one of the inputs \u001b[39m\u001b[39m'\u001b[39m\u001b[39m%s\u001b[39;00m\u001b[39m'\u001b[39m\u001b[39m. \u001b[39m\u001b[39m\"\u001b[39m\n\u001b[1;32m    255\u001b[0m         \u001b[39m\"\u001b[39m\u001b[39mFor a list of required inputs, see \u001b[39m\u001b[39m%s\u001b[39;00m\u001b[39m.help()\u001b[39m\u001b[39m\"\u001b[39m\n\u001b[0;32m   (...)\u001b[0m\n\u001b[1;32m    260\u001b[0m         )\n\u001b[1;32m    261\u001b[0m     )\n\u001b[0;32m--> 262\u001b[0m     \u001b[39mraise\u001b[39;00m \u001b[39mValueError\u001b[39;00m(msg)\n",
      "\u001b[0;31mValueError\u001b[0m: SpecifySPMModel requires a value for one of the inputs 'subject_info, event_files, bids_event_file'. For a list of required inputs, see SpecifySPMModel.help()"
     ]
    }
   ],
   "source": [
    "# Set the basic params\n",
    "params_name = ['congruency_num', 'bl_sr_v', 'bl_sr_PE']\n",
    "# make the contrast matrix\n",
    "condition_names = [\"run_1\", \"\", \"run_1xcongruency_num^1\", \"\", \"run_1xbl_sr_v^1\", \"\",\n",
    "                   \"run_1xbl_sr_PE^1\", \"\", \"run_error_1\", \"\", \"X\", \"Y\", \"Z\", \"x_r\", \"y_r\", \"z_r\",\n",
    "                   \"run_2\", \"\", \"run_2xcongruency_num^1\", \"\", \"run_2xbl_sr_v^1\", \"\",\n",
    "                   \"run_2xbl_sr_PE^1\", \"\", \"run_error_2\", \"\", \"X\", \"Y\", \"Z\", \"x_r\", \"y_r\", \"z_r\",\n",
    "                   \"run_3\", \"\", \"run_3xcongruency_num^1\", \"\", \"run_3xbl_sr_v^1\", \"\",\n",
    "                   \"run_3xbl_sr_PE^1\", \"\", \"run_error_3\", \"\", \"X\", \"Y\", \"Z\", \"x_r\", \"y_r\", \"z_r\",\n",
    "                   \"run_4\", \"\", \"run_4xcongruency_num^1\", \"\", \"run_4xbl_sr_v^1\", \"\",\n",
    "                   \"run_4xbl_sr_PE^1\", \"\", \"run_error_4\", \"\", \"X\", \"Y\", \"Z\", \"x_r\", \"y_r\", \"z_r\",\n",
    "                   \"run_5\", \"\", \"run_5xcongruency_num^1\", \"\", \"run_5xbl_sr_v^1\", \"\",\n",
    "                   \"run_5xbl_sr_PE^1\", \"\", \"run_error_5\", \"\", \"X\", \"Y\", \"Z\", \"x_r\", \"y_r\", \"z_r\",\n",
    "                   \"run_6\", \"\", \"run_6xcongruency_num^1\", \"\", \"run_6xbl_sr_v^1\", \"\",\n",
    "                   \"run_6xbl_sr_PE^1\", \"\", \"run_error_6\", \"\", \"X\", \"Y\", \"Z\", \"x_r\", \"y_r\", \"z_r\"]\n",
    "cont1 = [\"-V\", 'T', condition_names,   [0, 0, 0, 0,-1, 0, 0, 0, 0, 0, 0, 0, 0, 0, 0, 0,\n",
    "                                        0, 0, 0, 0,-1, 0, 0, 0, 0, 0, 0, 0, 0, 0, 0, 0,\n",
    "                                        0, 0, 0, 0,-1, 0, 0, 0, 0, 0, 0, 0, 0, 0, 0, 0,\n",
    "                                        0, 0, 0, 0,-1, 0, 0, 0, 0, 0, 0, 0, 0, 0, 0, 0,\n",
    "                                        0, 0, 0, 0,-1, 0, 0, 0, 0, 0, 0, 0, 0, 0, 0, 0,\n",
    "                                        0, 0, 0, 0,-1, 0, 0, 0, 0, 0, 0, 0, 0, 0, 0, 0]]\n",
    "cont2 = [\"PE\", 'T', condition_names,   [0, 0, 0, 0, 0, 0, 1, 0, 0, 0, 0, 0, 0, 0, 0, 0,\n",
    "                                        0, 0, 0, 0, 0, 0, 1, 0, 0, 0, 0, 0, 0, 0, 0, 0,\n",
    "                                        0, 0, 0, 0, 0, 0, 1, 0, 0, 0, 0, 0, 0, 0, 0, 0,\n",
    "                                        0, 0, 0, 0, 0, 0, 1, 0, 0, 0, 0, 0, 0, 0, 0, 0,\n",
    "                                        0, 0, 0, 0, 0, 0, 1, 0, 0, 0, 0, 0, 0, 0, 0, 0,\n",
    "                                        0, 0, 0, 0, 0, 0, 1, 0, 0, 0, 0, 0, 0, 0, 0, 0]]\n",
    "contrast_list = [cont1, cont2]\n",
    "# batch analysis\n",
    "inputs = all_data[all_data['sub_num'] != 41]\n",
    "def bl_processInput(sub_num):\n",
    "    estimate_result = xia_fmri_workflow.workflow_param_glm_1stlevel(root_dir, sub_num, session_num, params_name, all_data, output_dir, \"bl\")\n",
    "    contrast_result = xia_fmri_workflow.workflow_contrast(estimate_result, contrast_list)\n",
    "\n",
    "for sub_num in inputs:\n",
    "    print(\"Processing subject \", str(sub_num))\n",
    "    bl_processInput(sub_num)"
   ]
  },
  {
   "cell_type": "code",
   "execution_count": 7,
   "metadata": {
    "ExecuteTime": {
     "end_time": "2023-06-13T09:47:35.511446Z",
     "start_time": "2023-06-13T09:47:35.508668Z"
    },
    "collapsed": false
   },
   "outputs": [
    {
     "name": "stdout",
     "output_type": "stream",
     "text": [
      "Generating SPM model for subject 41...\n"
     ]
    }
   ],
   "source": [
    "# The sub 41 don't have the session 1, so we treat it specially\n",
    "\n",
    "# Set the basic params\n",
    "params_name = ['congruency_num', 'bl_sr_v', 'bl_sr_PE']\n",
    "# make the contrast matrix\n",
    "condition_names = [\"run_2\", \"\", \"run_2xcongruency_num^1\", \"\", \"run_2xbl_sr_v^1\", \"\",\n",
    "                   \"run_2xbl_sr_PE^1\", \"\", \"run_error_2\", \"\", \"X\", \"Y\", \"Z\", \"x_r\", \"y_r\", \"z_r\",\n",
    "                   \"run_3\", \"\", \"run_3xcongruency_num^1\", \"\", \"run_3xbl_sr_v^1\", \"\",\n",
    "                   \"run_3xbl_sr_PE^1\", \"\", \"run_error_3\", \"\", \"X\", \"Y\", \"Z\", \"x_r\", \"y_r\", \"z_r\",\n",
    "                   \"run_4\", \"\", \"run_4xcongruency_num^1\", \"\", \"run_4xbl_sr_v^1\", \"\",\n",
    "                   \"run_4xbl_sr_PE^1\", \"\", \"run_error_4\", \"\", \"X\", \"Y\", \"Z\", \"x_r\", \"y_r\", \"z_r\",\n",
    "                   \"run_5\", \"\", \"run_5xcongruency_num^1\", \"\", \"run_5xbl_sr_v^1\", \"\",\n",
    "                   \"run_5xbl_sr_PE^1\", \"\", \"run_error_5\", \"\", \"X\", \"Y\", \"Z\", \"x_r\", \"y_r\", \"z_r\",\n",
    "                   \"run_6\", \"\", \"run_6xcongruency_num^1\", \"\", \"run_6xbl_sr_v^1\", \"\",\n",
    "                   \"run_6xbl_sr_PE^1\", \"\", \"run_error_6\", \"\", \"X\", \"Y\", \"Z\", \"x_r\", \"y_r\", \"z_r\"]\n",
    "cont1 = [\"-V\", 'T', condition_names,   [\n",
    "                                        0, 0, 0, 0,-1, 0, 0, 0, 0, 0, 0, 0, 0, 0, 0, 0,\n",
    "                                        0, 0, 0, 0,-1, 0, 0, 0, 0, 0, 0, 0, 0, 0, 0, 0,\n",
    "                                        0, 0, 0, 0,-1, 0, 0, 0, 0, 0, 0, 0, 0, 0, 0, 0,\n",
    "                                        0, 0, 0, 0,-1, 0, 0, 0, 0, 0, 0, 0, 0, 0, 0, 0,\n",
    "                                        0, 0, 0, 0,-1, 0, 0, 0, 0, 0, 0, 0, 0, 0, 0, 0]]\n",
    "cont2 = [\"PE\", 'T', condition_names,   [\n",
    "                                        0, 0, 0, 0, 0, 0, 1, 0, 0, 0, 0, 0, 0, 0, 0, 0,\n",
    "                                        0, 0, 0, 0, 0, 0, 1, 0, 0, 0, 0, 0, 0, 0, 0, 0,\n",
    "                                        0, 0, 0, 0, 0, 0, 1, 0, 0, 0, 0, 0, 0, 0, 0, 0,\n",
    "                                        0, 0, 0, 0, 0, 0, 1, 0, 0, 0, 0, 0, 0, 0, 0, 0,\n",
    "                                        0, 0, 0, 0, 0, 0, 1, 0, 0, 0, 0, 0, 0, 0, 0, 0]]\n",
    "contrast_list = [cont1, cont2]\n",
    "\n",
    "# Modified the function in the workflow\n",
    "import pandas as pd\n",
    "import os\n",
    "import re\n",
    "import scipy.io\n",
    "from pathlib import Path\n",
    "from nipype.interfaces.spm import Level1Design, EstimateModel, EstimateContrast\n",
    "from nipype.algorithms.modelgen import SpecifySPMModel\n",
    "def nii_selector(root_dir, sub_num, session_num, all_sub_dataframe, data_type=\"Smooth_8mm\"):\n",
    "    import os\n",
    "    import glob\n",
    "    session_list = [\"session\" + str(i) for i in range(2, session_num+1)]\n",
    "    sub_name = \"sub\"+str(sub_num)\n",
    "    # print(file_path)\n",
    "    nii_list = []\n",
    "    realignment_para_file_list = []\n",
    "    for s in session_list:\n",
    "        file_path = os.path.join(root_dir, sub_name, data_type, s)\n",
    "        Orig_path = os.path.join(root_dir, sub_name, 'Orig', s)\n",
    "        nii_list.append(sorted(glob.glob(file_path + \"/*.nii\")))\n",
    "        realignment_para_file_list.append(glob.glob(Orig_path + \"/rp_*.txt\"))\n",
    "\n",
    "    single_sub_data = all_sub_dataframe[all_sub_dataframe.sub_num == sub_num]\n",
    "    return (nii_list, realignment_para_file_list, single_sub_data, sub_name)\n",
    "\n",
    "\n",
    "def head_movement_regressor_generator(single_realignment_para_file):\n",
    "    import numpy as np\n",
    "    if type(single_realignment_para_file) is list:\n",
    "        single_realignment_para_file = single_realignment_para_file[0]\n",
    "    relignment_params = np.loadtxt(single_realignment_para_file)\n",
    "    head_movement_regressor = relignment_params.T.tolist()\n",
    "    return head_movement_regressor\n",
    "\n",
    "# Build the relationship between onsets and parameters\n",
    "\n",
    "\n",
    "def factor_condition_generator(single_sub_data, factors_name, realignment_para_file_list, duration=0):\n",
    "    \"\"\"Build a bunch to show the relationship between each onset and parameter\n",
    "\n",
    "    Build a bunch for make a design matrix for next analysis. This bunch is for describing the relationship\n",
    "    between each onset and parameter.\n",
    "\n",
    "    Args:\n",
    "        single_sub_data: A pandas DataFrame which contains data for one subject.\n",
    "                        It must contains the information about run, onsets, and parameters.\n",
    "        factors_name: A list of names of conditions which you want to analysis.\n",
    "        duration: The duration of a TR.\n",
    "\n",
    "    Returns:\n",
    "        subject_info: A list of bunch type which can be resolve by SpecifySPMModel interface in nipype.\n",
    "    \"\"\"\n",
    "    from nipype.interfaces.base import Bunch\n",
    "    run_num = set(single_sub_data.run)\n",
    "    subject_info = []\n",
    "    for i in run_num:\n",
    "        single_run_table = single_sub_data[single_sub_data.run == i]\n",
    "\n",
    "        tmp_table_right = single_run_table[single_run_table['stim_resp.corr'] == 1]\n",
    "        tmp_table_wrong = single_run_table[single_run_table['stim_resp.corr'] == 0]\n",
    "\n",
    "        condition_table = pd.DataFrame()\n",
    "        condition_table[factors_name] = tmp_table_right[factors_name].astype(\n",
    "            \"category\")\n",
    "        condition_table['onset'] = tmp_table_right.onset\n",
    "        onset_condition_table = condition_table.pivot(\n",
    "            values='onset', columns=factors_name)\n",
    "\n",
    "        bunch_condition = []\n",
    "        bunch_onsets = []\n",
    "        bunch_duration = []\n",
    "\n",
    "        error_onsets = tmp_table_wrong.onset.values.tolist()\n",
    "        if len(error_onsets) == 0:\n",
    "            error_onsets = [510]\n",
    "\n",
    "        for j in range(len(onset_condition_table.columns)):\n",
    "            bunch_condition.append(\n",
    "                'run_' + str(i) + '_' + str(onset_condition_table.columns[j]))\n",
    "            bunch_onsets.append(\n",
    "                onset_condition_table[onset_condition_table.columns[j]].dropna(how='all').tolist())\n",
    "            bunch_duration.append([duration])\n",
    "        bunch_condition.append(\"run_error_\"+str(i))\n",
    "        bunch_onsets.append(error_onsets)\n",
    "        bunch_duration.append([duration])\n",
    "        tmp_Bunch = Bunch(conditions=bunch_condition,\n",
    "                          onsets=bunch_onsets,\n",
    "                          durations=bunch_duration,\n",
    "                          regressor_names=['X', 'Y', 'Z', 'x_r', 'y_r', 'z_r'],\n",
    "                          regressors=head_movement_regressor_generator(realignment_para_file_list[i-1]))\n",
    "        subject_info.append(tmp_Bunch)\n",
    "    return subject_info\n",
    "\n",
    "\n",
    "def parametric_condition_generator(single_sub_data, params_name, realignment_para_file_list, duration=0, centering=True):\n",
    "    from nipype.interfaces.base import Bunch\n",
    "    import numpy as np\n",
    "    run_num = set(single_sub_data.run_num)\n",
    "    print(run_num)\n",
    "    subject_info = []\n",
    "    for i in run_num:\n",
    "        tmp_table = single_sub_data[single_sub_data.run == i]\n",
    "\n",
    "        tmp_table_right = tmp_table[tmp_table['stim_resp.corr'] == 1]\n",
    "        tmp_table_wrong = tmp_table[tmp_table['stim_resp.corr'] == 0]\n",
    "\n",
    "        pmod_names = []\n",
    "        pmod_params = []\n",
    "        pmod_poly = []\n",
    "        for param in params_name:\n",
    "            param_value = tmp_table_right[param].values.tolist()\n",
    "            demean_value = param_value - np.mean(param_value)\n",
    "            centered_value = demean_value / np.max(demean_value)\n",
    "            if centering == True:\n",
    "                # Doing the mean centering\n",
    "                pmod_params.append(centered_value.tolist())\n",
    "            elif centering == False:\n",
    "                pmod_params.append(param_value)\n",
    "            pmod_names.append(param)\n",
    "            pmod_poly.append(1)\n",
    "\n",
    "        error_onsets = tmp_table_wrong.onset.values.tolist()\n",
    "        if len(error_onsets) == 0:\n",
    "            error_onsets = [510]\n",
    "\n",
    "        tmp_Bunch = Bunch(conditions=[\"run_\"+str(i), \"run_error_\"+str(i)],\n",
    "                          onsets=[tmp_table_right.onset.values.tolist(),\n",
    "                                  error_onsets],\n",
    "                          durations=[[duration], [duration]],\n",
    "                          pmod=[Bunch(name=pmod_names, poly=pmod_poly,\n",
    "                                      param=pmod_params), None],\n",
    "                          regressor_names=['X', 'Y', 'Z', 'x_r', 'y_r', 'z_r'],\n",
    "                          regressors=head_movement_regressor_generator(realignment_para_file_list[i-2]))\n",
    "        subject_info.append(tmp_Bunch)\n",
    "\n",
    "    return subject_info\n",
    "\n",
    "\n",
    "def generate_spm_conditions(matfile):\n",
    "    spm = scipy.io.loadmat(matfile)\n",
    "    all_conditions_list = spm['SPM'][0][0]['xX']['name'][0][0][0].tolist()\n",
    "    all_conditions = [x.tolist()[0] for x in spm['SPM'][0][0]['xX']['name'][0][0][0].tolist()]\n",
    "    condition_names = [re.sub(\"Sn\\(.\\) \", \"\", i) for i in all_conditions]\n",
    "    conditions_count = len(all_conditions) / 6\n",
    "    single_run_conditions = [all_conditions_list[x][0] for x in range(int(conditions_count - 1))]\n",
    "\n",
    "    return condition_names, single_run_conditions\n",
    "\n",
    "output_dir = \"/Users/dddd1007/Research/project9_fmri_spatial_stroop/output/fmri/paramGLM/bl/1stLevel/sub41\"\n",
    "Path(output_dir).mkdir(parents=True, exist_ok=True)\n",
    "os.chdir(output_dir)\n",
    "root_dir = \"/Users/dddd1007/Research/project9_fmri_spatial_stroop/input/fmri_data/nii/\"\n",
    "sub_num = 41\n",
    "session_num = 6\n",
    "\n",
    "print(\"Generating SPM model for subject \" + str(sub_num) + \"...\")"
   ]
  },
  {
   "cell_type": "code",
   "execution_count": 8,
   "metadata": {
    "ExecuteTime": {
     "end_time": "2023-06-13T10:30:58.651492Z",
     "start_time": "2023-06-13T10:30:15.158300Z"
    },
    "collapsed": false
   },
   "outputs": [
    {
     "name": "stdout",
     "output_type": "stream",
     "text": [
      "[['/Users/dddd1007/Library/CloudStorage/Dropbox/Work/phd work/research/project9_fmri_spatial_stroopdata/input/fmri_data/nii/sub41/Orig/session2/rp_f202303076_wl-180354-00005-00005-1.txt'], ['/Users/dddd1007/Library/CloudStorage/Dropbox/Work/phd work/research/project9_fmri_spatial_stroopdata/input/fmri_data/nii/sub41/Orig/session3/rp_f202303076_wl-181757-00005-00005-1.txt'], ['/Users/dddd1007/Library/CloudStorage/Dropbox/Work/phd work/research/project9_fmri_spatial_stroopdata/input/fmri_data/nii/sub41/Orig/session4/rp_f202303076_wl-183251-00005-00005-1.txt'], ['/Users/dddd1007/Library/CloudStorage/Dropbox/Work/phd work/research/project9_fmri_spatial_stroopdata/input/fmri_data/nii/sub41/Orig/session5/rp_f202303076_wl-184705-00005-00005-1.txt'], ['/Users/dddd1007/Library/CloudStorage/Dropbox/Work/phd work/research/project9_fmri_spatial_stroopdata/input/fmri_data/nii/sub41/Orig/session6/rp_f202303076_wl-190109-00005-00005-1.txt']]\n",
      "{2, 3, 4, 5, 6}\n",
      "Estimating SPM model for subject 41 (1/2)...\n"
     ]
    },
    {
     "name": "stderr",
     "output_type": "stream",
     "text": [
      "stty: stdin isn't a terminal\n"
     ]
    },
    {
     "name": "stdout",
     "output_type": "stream",
     "text": [
      "Contrast SPM model for subject 41 (2/2)...\n"
     ]
    },
    {
     "name": "stderr",
     "output_type": "stream",
     "text": [
      "stty: stdin isn't a terminal\n"
     ]
    },
    {
     "name": "stdout",
     "output_type": "stream",
     "text": [
      "Contrast SPM model\n"
     ]
    },
    {
     "name": "stderr",
     "output_type": "stream",
     "text": [
      "stty: stdin isn't a terminal\n"
     ]
    }
   ],
   "source": [
    "nii_list, realignment_para_file_list, single_sub_data, sub_name = nii_selector(\n",
    "    root_dir, sub_num, session_num, all_data)\n",
    "single_sub_data = single_sub_data[single_sub_data.run_num >= 2]\n",
    "print(realignment_para_file_list)\n",
    "subject_info = parametric_condition_generator(\n",
    "    single_sub_data, params_name, realignment_para_file_list, centering=False)\n",
    "gen_model = SpecifySPMModel(concatenate_runs=False,\n",
    "                            input_units='scans',\n",
    "                            output_units='scans',\n",
    "                            time_repetition=1.5,\n",
    "                            high_pass_filter_cutoff=128,\n",
    "                            subject_info=subject_info,\n",
    "                            functional_runs=nii_list)\n",
    "spmModel = gen_model.run()\n",
    "print(\"Estimating SPM model for subject \" + str(sub_num) + \" (1/2)...\")\n",
    "design_model = Level1Design(bases={'hrf': {'derivs': [1, 0]}},\n",
    "                            timing_units='scans',\n",
    "                            interscan_interval=1.5,\n",
    "                            microtime_resolution=32,\n",
    "                            microtime_onset=1,\n",
    "                            session_info=spmModel.outputs.session_info,\n",
    "                            spm_mat_dir=output_dir)\n",
    "\n",
    "firstLevelModel = design_model.run()\n",
    "\n",
    "print(\"Contrast SPM model for subject \" + str(sub_num) + \" (2/2)...\")\n",
    "estimator = EstimateModel(estimation_method={'Classical': 1},\n",
    "                          spm_mat_file=firstLevelModel.outputs.spm_mat_file)\n",
    "estimateResult = estimator.run()\n",
    "print(\"Contrast SPM model\")\n",
    "level1conest = EstimateContrast(beta_images=estimateResult.outputs.beta_images,\n",
    "                                residual_image=estimateResult.outputs.residual_image,\n",
    "                                spm_mat_file=estimateResult.outputs.spm_mat_file,\n",
    "                                contrasts=contrast_list)\n",
    "contrastResult = level1conest.run()"
   ]
  },
  {
   "attachments": {},
   "cell_type": "markdown",
   "metadata": {
    "collapsed": false
   },
   "source": [
    "### 2.2 Reinforcement learning"
   ]
  },
  {
   "cell_type": "code",
   "execution_count": 19,
   "metadata": {
    "ExecuteTime": {
     "end_time": "2023-06-13T10:35:38.447944Z",
     "start_time": "2023-06-13T10:35:38.441449Z"
    },
    "collapsed": false
   },
   "outputs": [],
   "source": [
    "# Set the basic params\n",
    "params_name = ['congruency_num', 'rl_sr_v_pe']\n",
    "# make the contrast matrix\n",
    "condition_names = [\"run_1\", \"\", \"run_1xcongruency_num^1\", \"\", \"run_1xrl_sr_v_pe^1\", \"\",\n",
    "                   \"run_error_1\", \"\", \"X\", \"Y\", \"Z\", \"x_r\", \"y_r\", \"z_r\",\n",
    "                   \"run_2\", \"\", \"run_2xcongruency_num^1\", \"\", \"run_2xrl_sr_v_pe^1\", \"\",\n",
    "                   \"run_error_2\", \"\", \"X\", \"Y\", \"Z\", \"x_r\", \"y_r\", \"z_r\",\n",
    "                   \"run_3\", \"\", \"run_3xcongruency_num^1\", \"\", \"run_3xrl_sr_v_pe^1\", \"\",\n",
    "                   \"run_error_3\", \"\", \"X\", \"Y\", \"Z\", \"x_r\", \"y_r\", \"z_r\",\n",
    "                   \"run_4\", \"\", \"run_4xcongruency_num^1\", \"\", \"run_4xrl_sr_v_pe^1\", \"\",\n",
    "                   \"run_error_4\", \"\", \"X\", \"Y\", \"Z\", \"x_r\", \"y_r\", \"z_r\",\n",
    "                   \"run_5\", \"\", \"run_5xcongruency_num^1\", \"\", \"run_5xrl_sr_v_pe^1\", \"\",\n",
    "                   \"run_error_5\", \"\", \"X\", \"Y\", \"Z\", \"x_r\", \"y_r\", \"z_r\",\n",
    "                   \"run_6\", \"\", \"run_6xcongruency_num^1\", \"\", \"run_6xrl_sr_v_pe^1\", \"\",\n",
    "                   \"run_error_6\", \"\", \"X\", \"Y\", \"Z\", \"x_r\", \"y_r\", \"z_r\"]\n",
    "cont1 = [\"-V\", 'T', condition_names,   [0, 0, 0, 0, 1, 0, 0, 0, 0, 0, 0, 0, 0, 0,\n",
    "                                        0, 0, 0, 0, 1, 0, 0, 0, 0, 0, 0, 0, 0, 0,\n",
    "                                        0, 0, 0, 0, 1, 0, 0, 0, 0, 0, 0, 0, 0, 0,\n",
    "                                        0, 0, 0, 0, 1, 0, 0, 0, 0, 0, 0, 0, 0, 0,\n",
    "                                        0, 0, 0, 0, 1, 0, 0, 0, 0, 0, 0, 0, 0, 0,\n",
    "                                        0, 0, 0, 0, 1, 0, 0, 0, 0, 0, 0, 0, 0, 0]]\n",
    "contrast_list = [cont1]"
   ]
  },
  {
   "cell_type": "code",
   "execution_count": 5,
   "metadata": {
    "ExecuteTime": {
     "start_time": "2023-06-13T12:50:13.205201Z"
    },
    "collapsed": false,
    "is_executing": true,
    "pycharm": {
     "is_executing": true
    }
   },
   "outputs": [
    {
     "name": "stdout",
     "output_type": "stream",
     "text": [
      "Save subject 38's data to \n",
      "/Users/dddd1007/Library/CloudStorage/Dropbox/Work/phd work/research/project9_fmri_spatial_stroopdata/output/fmri/paramGLM/rl/1stLevel/sub38Save subject 40's data to \n",
      "/Users/dddd1007/Library/CloudStorage/Dropbox/Work/phd work/research/project9_fmri_spatial_stroopdata/output/fmri/paramGLM/rl/1stLevel/sub40\n",
      "\n",
      "Save subject 34's data to \n",
      "/Users/dddd1007/Library/CloudStorage/Dropbox/Work/phd work/research/project9_fmri_spatial_stroopdata/output/fmri/paramGLM/rl/1stLevel/sub34\n",
      "Save subject 35's data to \n",
      "/Users/dddd1007/Library/CloudStorage/Dropbox/Work/phd work/research/project9_fmri_spatial_stroopdata/output/fmri/paramGLM/rl/1stLevel/sub35\n",
      "Save subject 37's data to \n",
      "/Users/dddd1007/Library/CloudStorage/Dropbox/Work/phd work/research/project9_fmri_spatial_stroopdata/output/fmri/paramGLM/rl/1stLevel/sub37\n",
      "Generating SPM model for subject 40...\n",
      "Generating SPM model for subject 38...Generating SPM model for subject 34...\n",
      "\n",
      "Generating SPM model for subject 35...\n",
      "Generating SPM model for subject 37...\n",
      "Save subject 36's data to \n",
      "/Users/dddd1007/Library/CloudStorage/Dropbox/Work/phd work/research/project9_fmri_spatial_stroopdata/output/fmri/paramGLM/rl/1stLevel/sub36\n",
      "Generating SPM model for subject 36...\n",
      "Estimating SPM model for subject 40 (1/2)...\n",
      "Estimating SPM model for subject 34 (1/2)...\n",
      "Estimating SPM model for subject 38 (1/2)...\n",
      "Estimating SPM model for subject 36 (1/2)...\n",
      "Estimating SPM model for subject 37 (1/2)...\n",
      "Estimating SPM model for subject 35 (1/2)...\n"
     ]
    },
    {
     "name": "stderr",
     "output_type": "stream",
     "text": [
      "stty: stdin isn't a terminal\n",
      "stty: stdin isn't a terminal\n",
      "stty: stdin isn't a terminal\n",
      "stty: stdin isn't a terminal\n",
      "stty: stdin isn't a terminal\n",
      "stty: stdin isn't a terminal\n",
      "stty: stdin isn't a terminal\n"
     ]
    },
    {
     "name": "stdout",
     "output_type": "stream",
     "text": [
      "Contrast SPM model for subject 35 (2/2)...\n"
     ]
    },
    {
     "name": "stderr",
     "output_type": "stream",
     "text": [
      "stty: stdin isn't a terminal\n",
      "stty: stdin isn't a terminal\n",
      "stty: stdin isn't a terminal\n"
     ]
    },
    {
     "name": "stdout",
     "output_type": "stream",
     "text": [
      "Contrast SPM model for subject 40 (2/2)...\n",
      "Contrast SPM model for subject 38 (2/2)...\n",
      "Contrast SPM model for subject 37 (2/2)...\n"
     ]
    },
    {
     "name": "stderr",
     "output_type": "stream",
     "text": [
      "stty: stdin isn't a terminal\n"
     ]
    },
    {
     "name": "stdout",
     "output_type": "stream",
     "text": [
      "Contrast SPM model for subject 36 (2/2)...\n"
     ]
    },
    {
     "name": "stderr",
     "output_type": "stream",
     "text": [
      "stty: stdin isn't a terminal\n"
     ]
    },
    {
     "name": "stdout",
     "output_type": "stream",
     "text": [
      "Contrast SPM model\n"
     ]
    },
    {
     "name": "stderr",
     "output_type": "stream",
     "text": [
      "stty: stdin isn't a terminal\n"
     ]
    },
    {
     "name": "stdout",
     "output_type": "stream",
     "text": [
      "Contrast SPM model\n"
     ]
    },
    {
     "name": "stderr",
     "output_type": "stream",
     "text": [
      "stty: stdin isn't a terminal\n"
     ]
    },
    {
     "name": "stdout",
     "output_type": "stream",
     "text": [
      "Contrast SPM model\n"
     ]
    },
    {
     "name": "stderr",
     "output_type": "stream",
     "text": [
      "stty: stdin isn't a terminal\n"
     ]
    },
    {
     "name": "stdout",
     "output_type": "stream",
     "text": [
      "Save subject 42's data to \n",
      "/Users/dddd1007/Library/CloudStorage/Dropbox/Work/phd work/research/project9_fmri_spatial_stroopdata/output/fmri/paramGLM/rl/1stLevel/sub42\n",
      "Generating SPM model for subject 42...\n",
      "Estimating SPM model for subject 42 (1/2)...\n"
     ]
    },
    {
     "name": "stderr",
     "output_type": "stream",
     "text": [
      "stty: stdin isn't a terminal\n"
     ]
    },
    {
     "name": "stdout",
     "output_type": "stream",
     "text": [
      "Contrast SPM model\n"
     ]
    },
    {
     "name": "stderr",
     "output_type": "stream",
     "text": [
      "stty: stdin isn't a terminal\n"
     ]
    },
    {
     "name": "stdout",
     "output_type": "stream",
     "text": [
      "Contrast SPM model\n"
     ]
    },
    {
     "name": "stderr",
     "output_type": "stream",
     "text": [
      "stty: stdin isn't a terminal\n"
     ]
    },
    {
     "name": "stdout",
     "output_type": "stream",
     "text": [
      "Save subject 43's data to \n",
      "/Users/dddd1007/Library/CloudStorage/Dropbox/Work/phd work/research/project9_fmri_spatial_stroopdata/output/fmri/paramGLM/rl/1stLevel/sub43\n",
      "Generating SPM model for subject 43...\n",
      "Estimating SPM model for subject 43 (1/2)...\n"
     ]
    },
    {
     "name": "stderr",
     "output_type": "stream",
     "text": [
      "stty: stdin isn't a terminal\n",
      "stty: stdin isn't a terminal\n",
      "stty: stdin isn't a terminal\n",
      "stty: stdin isn't a terminal\n"
     ]
    },
    {
     "name": "stdout",
     "output_type": "stream",
     "text": [
      "Contrast SPM model for subject 42 (2/2)...\n"
     ]
    },
    {
     "name": "stderr",
     "output_type": "stream",
     "text": [
      "stty: stdin isn't a terminal\n"
     ]
    },
    {
     "name": "stdout",
     "output_type": "stream",
     "text": [
      "Contrast SPM model for subject 43 (2/2)...\n"
     ]
    },
    {
     "name": "stderr",
     "output_type": "stream",
     "text": [
      "stty: stdin isn't a terminal\n"
     ]
    },
    {
     "name": "stdout",
     "output_type": "stream",
     "text": [
      "Contrast SPM model\n"
     ]
    },
    {
     "name": "stderr",
     "output_type": "stream",
     "text": [
      "stty: stdin isn't a terminal\n"
     ]
    },
    {
     "name": "stdout",
     "output_type": "stream",
     "text": [
      "Contrast SPM model\n"
     ]
    },
    {
     "name": "stderr",
     "output_type": "stream",
     "text": [
      "stty: stdin isn't a terminal\n",
      "stty: stdin isn't a terminal\n"
     ]
    },
    {
     "ename": "KeyboardInterrupt",
     "evalue": "",
     "output_type": "error",
     "traceback": [
      "\u001b[0;31m---------------------------------------------------------------------------\u001b[0m",
      "\u001b[0;31mKeyboardInterrupt\u001b[0m                         Traceback (most recent call last)",
      "Cell \u001b[0;32mIn[5], line 8\u001b[0m\n\u001b[1;32m      5\u001b[0m     estimate_result \u001b[39m=\u001b[39m xia_fmri_workflow\u001b[39m.\u001b[39mworkflow_param_glm_1stlevel(root_dir, sub_num, session_num, params_name, all_data, output_dir, \u001b[39m\"\u001b[39m\u001b[39mrl\u001b[39m\u001b[39m\"\u001b[39m)\n\u001b[1;32m      6\u001b[0m     contrast_result \u001b[39m=\u001b[39m xia_fmri_workflow\u001b[39m.\u001b[39mworkflow_contrast(estimate_result, contrast_list)\n\u001b[0;32m----> 8\u001b[0m results \u001b[39m=\u001b[39m Parallel(n_jobs\u001b[39m=\u001b[39;49mnum_cores)(delayed(rl_processInput)(sub_num) \u001b[39mfor\u001b[39;49;00m sub_num \u001b[39min\u001b[39;49;00m inputs)\n",
      "File \u001b[0;32m~/anaconda3/lib/python3.10/site-packages/joblib/parallel.py:1098\u001b[0m, in \u001b[0;36mParallel.__call__\u001b[0;34m(self, iterable)\u001b[0m\n\u001b[1;32m   1095\u001b[0m     \u001b[39mself\u001b[39m\u001b[39m.\u001b[39m_iterating \u001b[39m=\u001b[39m \u001b[39mFalse\u001b[39;00m\n\u001b[1;32m   1097\u001b[0m \u001b[39mwith\u001b[39;00m \u001b[39mself\u001b[39m\u001b[39m.\u001b[39m_backend\u001b[39m.\u001b[39mretrieval_context():\n\u001b[0;32m-> 1098\u001b[0m     \u001b[39mself\u001b[39;49m\u001b[39m.\u001b[39;49mretrieve()\n\u001b[1;32m   1099\u001b[0m \u001b[39m# Make sure that we get a last message telling us we are done\u001b[39;00m\n\u001b[1;32m   1100\u001b[0m elapsed_time \u001b[39m=\u001b[39m time\u001b[39m.\u001b[39mtime() \u001b[39m-\u001b[39m \u001b[39mself\u001b[39m\u001b[39m.\u001b[39m_start_time\n",
      "File \u001b[0;32m~/anaconda3/lib/python3.10/site-packages/joblib/parallel.py:975\u001b[0m, in \u001b[0;36mParallel.retrieve\u001b[0;34m(self)\u001b[0m\n\u001b[1;32m    973\u001b[0m \u001b[39mtry\u001b[39;00m:\n\u001b[1;32m    974\u001b[0m     \u001b[39mif\u001b[39;00m \u001b[39mgetattr\u001b[39m(\u001b[39mself\u001b[39m\u001b[39m.\u001b[39m_backend, \u001b[39m'\u001b[39m\u001b[39msupports_timeout\u001b[39m\u001b[39m'\u001b[39m, \u001b[39mFalse\u001b[39;00m):\n\u001b[0;32m--> 975\u001b[0m         \u001b[39mself\u001b[39m\u001b[39m.\u001b[39m_output\u001b[39m.\u001b[39mextend(job\u001b[39m.\u001b[39;49mget(timeout\u001b[39m=\u001b[39;49m\u001b[39mself\u001b[39;49m\u001b[39m.\u001b[39;49mtimeout))\n\u001b[1;32m    976\u001b[0m     \u001b[39melse\u001b[39;00m:\n\u001b[1;32m    977\u001b[0m         \u001b[39mself\u001b[39m\u001b[39m.\u001b[39m_output\u001b[39m.\u001b[39mextend(job\u001b[39m.\u001b[39mget())\n",
      "File \u001b[0;32m~/anaconda3/lib/python3.10/site-packages/joblib/_parallel_backends.py:567\u001b[0m, in \u001b[0;36mLokyBackend.wrap_future_result\u001b[0;34m(future, timeout)\u001b[0m\n\u001b[1;32m    564\u001b[0m \u001b[39m\u001b[39m\u001b[39m\"\"\"Wrapper for Future.result to implement the same behaviour as\u001b[39;00m\n\u001b[1;32m    565\u001b[0m \u001b[39mAsyncResults.get from multiprocessing.\"\"\"\u001b[39;00m\n\u001b[1;32m    566\u001b[0m \u001b[39mtry\u001b[39;00m:\n\u001b[0;32m--> 567\u001b[0m     \u001b[39mreturn\u001b[39;00m future\u001b[39m.\u001b[39;49mresult(timeout\u001b[39m=\u001b[39;49mtimeout)\n\u001b[1;32m    568\u001b[0m \u001b[39mexcept\u001b[39;00m CfTimeoutError \u001b[39mas\u001b[39;00m e:\n\u001b[1;32m    569\u001b[0m     \u001b[39mraise\u001b[39;00m \u001b[39mTimeoutError\u001b[39;00m \u001b[39mfrom\u001b[39;00m \u001b[39me\u001b[39;00m\n",
      "File \u001b[0;32m~/anaconda3/lib/python3.10/concurrent/futures/_base.py:453\u001b[0m, in \u001b[0;36mFuture.result\u001b[0;34m(self, timeout)\u001b[0m\n\u001b[1;32m    450\u001b[0m \u001b[39melif\u001b[39;00m \u001b[39mself\u001b[39m\u001b[39m.\u001b[39m_state \u001b[39m==\u001b[39m FINISHED:\n\u001b[1;32m    451\u001b[0m     \u001b[39mreturn\u001b[39;00m \u001b[39mself\u001b[39m\u001b[39m.\u001b[39m__get_result()\n\u001b[0;32m--> 453\u001b[0m \u001b[39mself\u001b[39;49m\u001b[39m.\u001b[39;49m_condition\u001b[39m.\u001b[39;49mwait(timeout)\n\u001b[1;32m    455\u001b[0m \u001b[39mif\u001b[39;00m \u001b[39mself\u001b[39m\u001b[39m.\u001b[39m_state \u001b[39min\u001b[39;00m [CANCELLED, CANCELLED_AND_NOTIFIED]:\n\u001b[1;32m    456\u001b[0m     \u001b[39mraise\u001b[39;00m CancelledError()\n",
      "File \u001b[0;32m~/anaconda3/lib/python3.10/threading.py:320\u001b[0m, in \u001b[0;36mCondition.wait\u001b[0;34m(self, timeout)\u001b[0m\n\u001b[1;32m    318\u001b[0m \u001b[39mtry\u001b[39;00m:    \u001b[39m# restore state no matter what (e.g., KeyboardInterrupt)\u001b[39;00m\n\u001b[1;32m    319\u001b[0m     \u001b[39mif\u001b[39;00m timeout \u001b[39mis\u001b[39;00m \u001b[39mNone\u001b[39;00m:\n\u001b[0;32m--> 320\u001b[0m         waiter\u001b[39m.\u001b[39;49macquire()\n\u001b[1;32m    321\u001b[0m         gotit \u001b[39m=\u001b[39m \u001b[39mTrue\u001b[39;00m\n\u001b[1;32m    322\u001b[0m     \u001b[39melse\u001b[39;00m:\n",
      "\u001b[0;31mKeyboardInterrupt\u001b[0m: "
     ]
    }
   ],
   "source": [
    "# batch analysis\n",
    "sub_num_list = pd.unique(all_data['sub_num'])\n",
    "inputs = sub_num_list[(sub_num_list >= 34) & (sub_num_list != 41)]\n",
    "def rl_processInput(sub_num):\n",
    "    estimate_result = xia_fmri_workflow.workflow_param_glm_1stlevel(root_dir, sub_num, session_num, params_name, all_data, output_dir, \"rl\")\n",
    "    contrast_result = xia_fmri_workflow.workflow_contrast(estimate_result, contrast_list)\n",
    "\n",
    "results = Parallel(n_jobs=num_cores)(delayed(rl_processInput)(sub_num) for sub_num in inputs)"
   ]
  },
  {
   "cell_type": "code",
   "execution_count": 4,
   "metadata": {
    "ExecuteTime": {
     "end_time": "2023-06-13T12:39:36.703975Z",
     "start_time": "2023-06-13T12:38:58.525091Z"
    },
    "collapsed": false
   },
   "outputs": [
    {
     "name": "stdout",
     "output_type": "stream",
     "text": [
      "Generating SPM model for subject 41...\n"
     ]
    }
   ],
   "source": [
    "# for the sub 41\n",
    "# Set the basic params\n",
    "params_name = ['congruency_num', 'rl_sr_v_pe']\n",
    "# make the contrast matrix\n",
    "condition_names = [\"run_1\", \"\", \"run_1xcongruency_num^1\", \"\", \"run_1xrl_sr_v_pe^1\", \"\",\n",
    "                   \"run_error_1\", \"\", \"X\", \"Y\", \"Z\", \"x_r\", \"y_r\", \"z_r\",\n",
    "                   \"run_2\", \"\", \"run_2xcongruency_num^1\", \"\", \"run_2xrl_sr_v_pe^1\", \"\",\n",
    "                   \"run_error_2\", \"\", \"X\", \"Y\", \"Z\", \"x_r\", \"y_r\", \"z_r\",\n",
    "                   \"run_3\", \"\", \"run_3xcongruency_num^1\", \"\", \"run_3xrl_sr_v_pe^1\", \"\",\n",
    "                   \"run_error_3\", \"\", \"X\", \"Y\", \"Z\", \"x_r\", \"y_r\", \"z_r\",\n",
    "                   \"run_4\", \"\", \"run_4xcongruency_num^1\", \"\", \"run_4xrl_sr_v_pe^1\", \"\",\n",
    "                   \"run_error_4\", \"\", \"X\", \"Y\", \"Z\", \"x_r\", \"y_r\", \"z_r\",\n",
    "                   \"run_5\", \"\", \"run_5xcongruency_num^1\", \"\", \"run_5xrl_sr_v_pe^1\", \"\",\n",
    "                   \"run_error_5\", \"\", \"X\", \"Y\", \"Z\", \"x_r\", \"y_r\", \"z_r\",\n",
    "                   \"run_6\", \"\", \"run_6xcongruency_num^1\", \"\", \"run_6xrl_sr_v_pe^1\", \"\",\n",
    "                   \"run_error_6\", \"\", \"X\", \"Y\", \"Z\", \"x_r\", \"y_r\", \"z_r\"]\n",
    "cont1 = [\"-V\", 'T', condition_names,   [0, 0, 0, 0, 1, 0, 0, 0, 0, 0, 0, 0, 0, 0,\n",
    "                                        0, 0, 0, 0, 1, 0, 0, 0, 0, 0, 0, 0, 0, 0,\n",
    "                                        0, 0, 0, 0, 1, 0, 0, 0, 0, 0, 0, 0, 0, 0,\n",
    "                                        0, 0, 0, 0, 1, 0, 0, 0, 0, 0, 0, 0, 0, 0,\n",
    "                                        0, 0, 0, 0, 1, 0, 0, 0, 0, 0, 0, 0, 0, 0,\n",
    "                                        0, 0, 0, 0, 1, 0, 0, 0, 0, 0, 0, 0, 0, 0]]\n",
    "contrast_list = [cont1]\n",
    "\n",
    "# Modified the function in the workflow\n",
    "import pandas as pd\n",
    "import os\n",
    "import re\n",
    "import scipy.io\n",
    "from pathlib import Path\n",
    "from nipype.interfaces.spm import Level1Design, EstimateModel, EstimateContrast\n",
    "from nipype.algorithms.modelgen import SpecifySPMModel\n",
    "def nii_selector(root_dir, sub_num, session_num, all_sub_dataframe, data_type=\"Smooth_8mm\"):\n",
    "    import os\n",
    "    import glob\n",
    "    session_list = [\"session\" + str(i) for i in range(2, session_num+1)]\n",
    "    sub_name = \"sub\"+str(sub_num)\n",
    "    # print(file_path)\n",
    "    nii_list = []\n",
    "    realignment_para_file_list = []\n",
    "    for s in session_list:\n",
    "        file_path = os.path.join(root_dir, sub_name, data_type, s)\n",
    "        Orig_path = os.path.join(root_dir, sub_name, 'Orig', s)\n",
    "        nii_list.append(sorted(glob.glob(file_path + \"/*.nii\")))\n",
    "        realignment_para_file_list.append(glob.glob(Orig_path + \"/rp_*.txt\"))\n",
    "\n",
    "    single_sub_data = all_sub_dataframe[all_sub_dataframe.sub_num == sub_num]\n",
    "    return (nii_list, realignment_para_file_list, single_sub_data, sub_name)\n",
    "\n",
    "\n",
    "def head_movement_regressor_generator(single_realignment_para_file):\n",
    "    import numpy as np\n",
    "    if type(single_realignment_para_file) is list:\n",
    "        single_realignment_para_file = single_realignment_para_file[0]\n",
    "    relignment_params = np.loadtxt(single_realignment_para_file)\n",
    "    head_movement_regressor = relignment_params.T.tolist()\n",
    "    return head_movement_regressor\n",
    "\n",
    "# Build the relationship between onsets and parameters\n",
    "\n",
    "\n",
    "def factor_condition_generator(single_sub_data, factors_name, realignment_para_file_list, duration=0):\n",
    "    \"\"\"Build a bunch to show the relationship between each onset and parameter\n",
    "\n",
    "    Build a bunch for make a design matrix for next analysis. This bunch is for describing the relationship\n",
    "    between each onset and parameter.\n",
    "\n",
    "    Args:\n",
    "        single_sub_data: A pandas DataFrame which contains data for one subject.\n",
    "                        It must contains the information about run, onsets, and parameters.\n",
    "        factors_name: A list of names of conditions which you want to analysis.\n",
    "        duration: The duration of a TR.\n",
    "\n",
    "    Returns:\n",
    "        subject_info: A list of bunch type which can be resolve by SpecifySPMModel interface in nipype.\n",
    "    \"\"\"\n",
    "    from nipype.interfaces.base import Bunch\n",
    "    run_num = set(single_sub_data.run)\n",
    "    subject_info = []\n",
    "    for i in run_num:\n",
    "        single_run_table = single_sub_data[single_sub_data.run == i]\n",
    "\n",
    "        tmp_table_right = single_run_table[single_run_table['stim_resp.corr'] == 1]\n",
    "        tmp_table_wrong = single_run_table[single_run_table['stim_resp.corr'] == 0]\n",
    "\n",
    "        condition_table = pd.DataFrame()\n",
    "        condition_table[factors_name] = tmp_table_right[factors_name].astype(\n",
    "            \"category\")\n",
    "        condition_table['onset'] = tmp_table_right.onset\n",
    "        onset_condition_table = condition_table.pivot(\n",
    "            values='onset', columns=factors_name)\n",
    "\n",
    "        bunch_condition = []\n",
    "        bunch_onsets = []\n",
    "        bunch_duration = []\n",
    "\n",
    "        error_onsets = tmp_table_wrong.onset.values.tolist()\n",
    "        if len(error_onsets) == 0:\n",
    "            error_onsets = [510]\n",
    "\n",
    "        for j in range(len(onset_condition_table.columns)):\n",
    "            bunch_condition.append(\n",
    "                'run_' + str(i) + '_' + str(onset_condition_table.columns[j]))\n",
    "            bunch_onsets.append(\n",
    "                onset_condition_table[onset_condition_table.columns[j]].dropna(how='all').tolist())\n",
    "            bunch_duration.append([duration])\n",
    "        bunch_condition.append(\"run_error_\"+str(i))\n",
    "        bunch_onsets.append(error_onsets)\n",
    "        bunch_duration.append([duration])\n",
    "        tmp_Bunch = Bunch(conditions=bunch_condition,\n",
    "                          onsets=bunch_onsets,\n",
    "                          durations=bunch_duration,\n",
    "                          regressor_names=['X', 'Y', 'Z', 'x_r', 'y_r', 'z_r'],\n",
    "                          regressors=head_movement_regressor_generator(realignment_para_file_list[i-1]))\n",
    "        subject_info.append(tmp_Bunch)\n",
    "    return subject_info\n",
    "\n",
    "\n",
    "def parametric_condition_generator(single_sub_data, params_name, realignment_para_file_list, duration=0, centering=True):\n",
    "    from nipype.interfaces.base import Bunch\n",
    "    import numpy as np\n",
    "    run_num = set(single_sub_data.run_num)\n",
    "    print(run_num)\n",
    "    subject_info = []\n",
    "    for i in run_num:\n",
    "        tmp_table = single_sub_data[single_sub_data.run == i]\n",
    "\n",
    "        tmp_table_right = tmp_table[tmp_table['stim_resp.corr'] == 1]\n",
    "        tmp_table_wrong = tmp_table[tmp_table['stim_resp.corr'] == 0]\n",
    "\n",
    "        pmod_names = []\n",
    "        pmod_params = []\n",
    "        pmod_poly = []\n",
    "        for param in params_name:\n",
    "            param_value = tmp_table_right[param].values.tolist()\n",
    "            demean_value = param_value - np.mean(param_value)\n",
    "            centered_value = demean_value / np.max(demean_value)\n",
    "            if centering == True:\n",
    "                # Doing the mean centering\n",
    "                pmod_params.append(centered_value.tolist())\n",
    "            elif centering == False:\n",
    "                pmod_params.append(param_value)\n",
    "            pmod_names.append(param)\n",
    "            pmod_poly.append(1)\n",
    "\n",
    "        error_onsets = tmp_table_wrong.onset.values.tolist()\n",
    "        if len(error_onsets) == 0:\n",
    "            error_onsets = [510]\n",
    "\n",
    "        tmp_Bunch = Bunch(conditions=[\"run_\"+str(i), \"run_error_\"+str(i)],\n",
    "                          onsets=[tmp_table_right.onset.values.tolist(),\n",
    "                                  error_onsets],\n",
    "                          durations=[[duration], [duration]],\n",
    "                          pmod=[Bunch(name=pmod_names, poly=pmod_poly,\n",
    "                                      param=pmod_params), None],\n",
    "                          regressor_names=['X', 'Y', 'Z', 'x_r', 'y_r', 'z_r'],\n",
    "                          regressors=head_movement_regressor_generator(realignment_para_file_list[i-2]))\n",
    "        subject_info.append(tmp_Bunch)\n",
    "\n",
    "    return subject_info\n",
    "\n",
    "\n",
    "def generate_spm_conditions(matfile):\n",
    "    spm = scipy.io.loadmat(matfile)\n",
    "    all_conditions_list = spm['SPM'][0][0]['xX']['name'][0][0][0].tolist()\n",
    "    all_conditions = [x.tolist()[0] for x in spm['SPM'][0][0]['xX']['name'][0][0][0].tolist()]\n",
    "    condition_names = [re.sub(\"Sn\\(.\\) \", \"\", i) for i in all_conditions]\n",
    "    conditions_count = len(all_conditions) / 6\n",
    "    single_run_conditions = [all_conditions_list[x][0] for x in range(int(conditions_count - 1))]\n",
    "\n",
    "    return condition_names, single_run_conditions\n",
    "\n",
    "output_dir = \"/Users/dddd1007/Research/project9_fmri_spatial_stroop/output/fmri/paramGLM/rl/1stLevel/sub41\"\n",
    "Path(output_dir).mkdir(parents=True, exist_ok=True)\n",
    "os.chdir(output_dir)\n",
    "root_dir = \"/Users/dddd1007/Research/project9_fmri_spatial_stroop/input/fmri_data/nii/\"\n",
    "sub_num = 41\n",
    "session_num = 6\n",
    "\n",
    "print(\"Generating SPM model for subject \" + str(sub_num) + \"...\")"
   ]
  },
  {
   "cell_type": "code",
   "execution_count": 5,
   "metadata": {},
   "outputs": [
    {
     "name": "stdout",
     "output_type": "stream",
     "text": [
      "[['/Users/dddd1007/Library/CloudStorage/Dropbox/Work/phd work/research/project9_fmri_spatial_stroopdata/input/fmri_data/nii/sub41/Orig/session2/rp_f202303076_wl-180354-00005-00005-1.txt'], ['/Users/dddd1007/Library/CloudStorage/Dropbox/Work/phd work/research/project9_fmri_spatial_stroopdata/input/fmri_data/nii/sub41/Orig/session3/rp_f202303076_wl-181757-00005-00005-1.txt'], ['/Users/dddd1007/Library/CloudStorage/Dropbox/Work/phd work/research/project9_fmri_spatial_stroopdata/input/fmri_data/nii/sub41/Orig/session4/rp_f202303076_wl-183251-00005-00005-1.txt'], ['/Users/dddd1007/Library/CloudStorage/Dropbox/Work/phd work/research/project9_fmri_spatial_stroopdata/input/fmri_data/nii/sub41/Orig/session5/rp_f202303076_wl-184705-00005-00005-1.txt'], ['/Users/dddd1007/Library/CloudStorage/Dropbox/Work/phd work/research/project9_fmri_spatial_stroopdata/input/fmri_data/nii/sub41/Orig/session6/rp_f202303076_wl-190109-00005-00005-1.txt']]\n",
      "{2, 3, 4, 5, 6}\n",
      "Estimating SPM model for subject 41 (1/2)...\n"
     ]
    },
    {
     "name": "stderr",
     "output_type": "stream",
     "text": [
      "stty: stdin isn't a terminal\n"
     ]
    },
    {
     "name": "stdout",
     "output_type": "stream",
     "text": [
      "Contrast SPM model for subject 41 (2/2)...\n"
     ]
    },
    {
     "name": "stderr",
     "output_type": "stream",
     "text": [
      "stty: stdin isn't a terminal\n"
     ]
    },
    {
     "name": "stdout",
     "output_type": "stream",
     "text": [
      "Contrast SPM model\n"
     ]
    },
    {
     "name": "stderr",
     "output_type": "stream",
     "text": [
      "stty: stdin isn't a terminal\n"
     ]
    },
    {
     "ename": "RuntimeError",
     "evalue": "Command:\nmatlab -nodesktop -nosplash -singleCompThread -r \"addpath('/Users/dddd1007/Library/CloudStorage/Dropbox/Work/phd work/research/project9_fmri_spatial_stroopdata/output/fmri/paramGLM/rl/1stLevel/sub41');pyscript_estimatecontrast;exit\"\nStandard output:\n\n                            < M A T L A B (R) >\n                  Copyright 1984-2023 The MathWorks, Inc.\n              R2023a Update 2 (9.14.0.2254940) 64-bit (maci64)\n                               April 17, 2023\n\n \nTo get started, type doc.\nFor product information, visit www.mathworks.com.\n \nExecuting pyscript_estimatecontrast at 14-Jun-2023 10:29:05:\nExecuting pyscript_estimatecontrast at 14-Jun-2023 10:29:05:\n-----------------------------------------------------------------------------------------------------\nMATLAB Version: 9.14.0.2254940 (R2023a) Update 2\nMATLAB License Number: 40843189\nOperating System: macOS  Version: 14.0 Build: 23A5257q \nJava Version: Java 1.8.0_202-b08 with Oracle Corporation Java HotSpot(TM) 64-Bit Server VM mixed mode\n-----------------------------------------------------------------------------------------------------\nMATLAB                                                Version 9.14        (R2023a)\nSimulink                                              Version 10.7        (R2023a)\n5G Toolbox                                            Version 2.6         (R2023a)\nAUTOSAR Blockset                                      Version 3.1         (R2023a)\nAerospace Blockset                                    Version 6.0         (R2023a)\nAerospace Toolbox                                     Version 4.4         (R2023a)\nAntenna Toolbox                                       Version 5.4         (R2023a)\nAudio Toolbox                                         Version 3.4         (R2023a)\nAutomated Driving Toolbox                             Version 3.7         (R2023a)\nBioinformatics Toolbox                                Version 4.17        (R2023a)\nBluetooth Toolbox                                     Version 1.2         (R2023a)\nCommunications Toolbox                                Version 8.0         (R2023a)\nComputer Vision Toolbox                               Version 10.4        (R2023a)\nControl System Toolbox                                Version 10.13       (R2023a)\nCurve Fitting Toolbox                                 Version 3.9         (R2023a)\nDDS Blockset                                          Version 1.4         (R2023a)\nDSP HDL Toolbox                                       Version 1.2         (R2023a)\nDSP System Toolbox                                    Version 9.16        (R2023a)\nDatabase Toolbox                                      Version 11.0        (R2023a)\nDatafeed Toolbox                                      Version 6.4         (R2023a)\nDeep Learning Toolbox                                 Version 14.6        (R2023a)\nEEGLAB Toolbox to process EEG data                    Version -           see     \nEconometrics Toolbox                                  Version 6.2         (R2023a)\nEmbedded Coder                                        Version 7.10        (R2023a)\nFilter Design HDL Coder                               Version 3.1.13      (R2023a)\nFinancial Instruments Toolbox                         Version 3.6         (R2023a)\nFinancial Toolbox                                     Version 6.5         (R2023a)\nFixed-Point Designer                                  Version 7.6         (R2023a)\nFuzzy Logic Toolbox                                   Version 3.1         (R2023a)\nGlobal Optimization Toolbox                           Version 4.8.1       (R2023a)\nHDL Coder                                             Version 4.1         (R2023a)\nImage Acquisition Toolbox                             Version 6.7.1       (R2023a)\nImage Processing Toolbox                              Version 11.7        (R2023a)\nIndustrial Communication Toolbox                      Version 6.2         (R2023a)\nInstrument Control Toolbox                            Version 4.8         (R2023a)\nLTE Toolbox                                           Version 3.9         (R2023a)\nLidar Toolbox                                         Version 2.3         (R2023a)\nMATLAB Coder                                          Version 5.6         (R2023a)\nMATLAB Compiler                                       Version 8.6         (R2023a)\nMATLAB Compiler SDK                                   Version 7.2         (R2023a)\nMATLAB Report Generator                               Version 5.14        (R2023a)\nMATLAB Test                                           Version 1.0         (R2023a)\nMapping Toolbox                                       Version 5.5         (R2023a)\nMedical Imaging Toolbox                               Version 1.1         (R2023a)\nMixed-Signal Blockset                                 Version 2.4         (R2023a)\nModel Predictive Control Toolbox                      Version 8.1         (R2023a)\nMotor Control Blockset                                Version 2.0         (R2023a)\nNavigation Toolbox                                    Version 2.4         (R2023a)\nOptimization Toolbox                                  Version 9.5         (R2023a)\nParallel Computing Toolbox                            Version 7.8         (R2023a)\nPartial Differential Equation Toolbox                 Version 3.10        (R2023a)\nPhased Array System Toolbox                           Version 5.0         (R2023a)\nPowertrain Blockset                                   Version 2.0         (R2023a)\nPredictive Maintenance Toolbox                        Version 2.7         (R2023a)\nRF Blockset                                           Version 8.5         (R2023a)\nRF PCB Toolbox                                        Version 1.3         (R2023a)\nRF Toolbox                                            Version 4.5         (R2023a)\nROS Toolbox                                           Version 2.0         (R2023a)\nRadar Toolbox                                         Version 1.4         (R2023a)\nReinforcement Learning Toolbox                        Version 2.4         (R2023a)\nRequirements Toolbox                                  Version 2.2         (R2023a)\nRisk Management Toolbox                               Version 2.2         (R2023a)\nRobotics System Toolbox                               Version 4.2         (R2023a)\nRobust Control Toolbox                                Version 6.11.3      (R2023a)\nSatellite Communications Toolbox                      Version 1.4         (R2023a)\nSensor Fusion and Tracking Toolbox                    Version 2.5         (R2023a)\nSerDes Toolbox                                        Version 3.0         (R2023a)\nSignal Processing Toolbox                             Version 9.2         (R2023a)\nSimBiology                                            Version 6.4.1       (R2023a)\nSimEvents                                             Version 5.14        (R2023a)\nSimscape                                              Version 5.5         (R2023a)\nSimscape Battery                                      Version 1.1         (R2023a)\nSimscape Driveline                                    Version 3.7         (R2023a)\nSimscape Electrical                                   Version 7.9         (R2023a)\nSimscape Fluids                                       Version 3.6         (R2023a)\nSimscape Multibody                                    Version 7.7         (R2023a)\nSimulink 3D Animation                                 Version 9.6         (R2023a)\nSimulink Check                                        Version 6.2         (R2023a)\nSimulink Coder                                        Version 9.9         (R2023a)\nSimulink Compiler                                     Version 1.6         (R2023a)\nSimulink Control Design                               Version 7.0         (R2023a)\nSimulink Coverage                                     Version 5.6         (R2023a)\nSimulink Design Optimization                          Version 3.13        (R2023a)\nSimulink Design Verifier                              Version 4.9         (R2023a)\nSimulink Desktop Real-Time                            Version 5.16        (R2023a)\nSimulink PLC Coder                                    Version 3.8         (R2023a)\nSimulink Report Generator                             Version 5.14        (R2023a)\nSimulink Test                                         Version 3.8         (R2023a)\nStateflow                                             Version 10.8        (R2023a)\nStatistical Parametric Mapping                        Version 7771        (SPM12) \nStatistics and Machine Learning Toolbox               Version 12.5        (R2023a)\nSymbolic Math Toolbox                                 Version 9.3         (R2023a)\nSystem Composer                                       Version 2.4         (R2023a)\nSystem Identification Toolbox                         Version 10.1        (R2023a)\nText Analytics Toolbox                                Version 1.10        (R2023a)\nUAV Toolbox                                           Version 1.5         (R2023a)\nVehicle Dynamics Blockset                             Version 2.0         (R2023a)\nWLAN Toolbox                                          Version 3.6         (R2023a)\nWavelet Toolbox                                       Version 6.3         (R2023a)\nWireless HDL Toolbox                                  Version 2.6         (R2023a)\nDirect calls to spm_defauts are deprecated.\nPlease use spm('Defaults',modality) or spm_get_defaults instead.\nStandard error:\nMATLAB code threw an exception:\nCondition run_1 not found in design\nFile:/Users/dddd1007/Library/CloudStorage/Dropbox/Work/phd work/research/project9_fmri_spatial_stroopdata/output/fmri/paramGLM/rl/1stLevel/sub41/pyscript_estimatecontrast.m\nName:pyscript_estimatecontrast\nLine:27\nReturn code: 0",
     "output_type": "error",
     "traceback": [
      "\u001b[0;31m---------------------------------------------------------------------------\u001b[0m",
      "\u001b[0;31mRuntimeError\u001b[0m                              Traceback (most recent call last)",
      "Cell \u001b[0;32mIn[5], line 35\u001b[0m\n\u001b[1;32m     30\u001b[0m \u001b[39mprint\u001b[39m(\u001b[39m\"\u001b[39m\u001b[39mContrast SPM model\u001b[39m\u001b[39m\"\u001b[39m)\n\u001b[1;32m     31\u001b[0m level1conest \u001b[39m=\u001b[39m EstimateContrast(beta_images\u001b[39m=\u001b[39mestimateResult\u001b[39m.\u001b[39moutputs\u001b[39m.\u001b[39mbeta_images,\n\u001b[1;32m     32\u001b[0m                                 residual_image\u001b[39m=\u001b[39mestimateResult\u001b[39m.\u001b[39moutputs\u001b[39m.\u001b[39mresidual_image,\n\u001b[1;32m     33\u001b[0m                                 spm_mat_file\u001b[39m=\u001b[39mestimateResult\u001b[39m.\u001b[39moutputs\u001b[39m.\u001b[39mspm_mat_file,\n\u001b[1;32m     34\u001b[0m                                 contrasts\u001b[39m=\u001b[39mcontrast_list)\n\u001b[0;32m---> 35\u001b[0m contrastResult \u001b[39m=\u001b[39m level1conest\u001b[39m.\u001b[39;49mrun()\n",
      "File \u001b[0;32m~/anaconda3/lib/python3.10/site-packages/nipype/interfaces/base/core.py:397\u001b[0m, in \u001b[0;36mBaseInterface.run\u001b[0;34m(self, cwd, ignore_exception, **inputs)\u001b[0m\n\u001b[1;32m    395\u001b[0m \u001b[39m# Run interface\u001b[39;00m\n\u001b[1;32m    396\u001b[0m runtime \u001b[39m=\u001b[39m \u001b[39mself\u001b[39m\u001b[39m.\u001b[39m_pre_run_hook(runtime)\n\u001b[0;32m--> 397\u001b[0m runtime \u001b[39m=\u001b[39m \u001b[39mself\u001b[39;49m\u001b[39m.\u001b[39;49m_run_interface(runtime)\n\u001b[1;32m    398\u001b[0m runtime \u001b[39m=\u001b[39m \u001b[39mself\u001b[39m\u001b[39m.\u001b[39m_post_run_hook(runtime)\n\u001b[1;32m    399\u001b[0m \u001b[39m# Collect outputs\u001b[39;00m\n",
      "File \u001b[0;32m~/anaconda3/lib/python3.10/site-packages/nipype/interfaces/spm/base.py:386\u001b[0m, in \u001b[0;36mSPMCommand._run_interface\u001b[0;34m(self, runtime)\u001b[0m\n\u001b[1;32m    382\u001b[0m \u001b[39m\u001b[39m\u001b[39m\"\"\"Executes the SPM function using MATLAB.\"\"\"\u001b[39;00m\n\u001b[1;32m    383\u001b[0m \u001b[39mself\u001b[39m\u001b[39m.\u001b[39mmlab\u001b[39m.\u001b[39minputs\u001b[39m.\u001b[39mscript \u001b[39m=\u001b[39m \u001b[39mself\u001b[39m\u001b[39m.\u001b[39m_make_matlab_command(\n\u001b[1;32m    384\u001b[0m     deepcopy(\u001b[39mself\u001b[39m\u001b[39m.\u001b[39m_parse_inputs())\n\u001b[1;32m    385\u001b[0m )\n\u001b[0;32m--> 386\u001b[0m results \u001b[39m=\u001b[39m \u001b[39mself\u001b[39;49m\u001b[39m.\u001b[39;49mmlab\u001b[39m.\u001b[39;49mrun()\n\u001b[1;32m    387\u001b[0m runtime\u001b[39m.\u001b[39mreturncode \u001b[39m=\u001b[39m results\u001b[39m.\u001b[39mruntime\u001b[39m.\u001b[39mreturncode\n\u001b[1;32m    388\u001b[0m \u001b[39mif\u001b[39;00m \u001b[39mself\u001b[39m\u001b[39m.\u001b[39mmlab\u001b[39m.\u001b[39minputs\u001b[39m.\u001b[39muses_mcr:\n",
      "File \u001b[0;32m~/anaconda3/lib/python3.10/site-packages/nipype/interfaces/base/core.py:397\u001b[0m, in \u001b[0;36mBaseInterface.run\u001b[0;34m(self, cwd, ignore_exception, **inputs)\u001b[0m\n\u001b[1;32m    395\u001b[0m \u001b[39m# Run interface\u001b[39;00m\n\u001b[1;32m    396\u001b[0m runtime \u001b[39m=\u001b[39m \u001b[39mself\u001b[39m\u001b[39m.\u001b[39m_pre_run_hook(runtime)\n\u001b[0;32m--> 397\u001b[0m runtime \u001b[39m=\u001b[39m \u001b[39mself\u001b[39;49m\u001b[39m.\u001b[39;49m_run_interface(runtime)\n\u001b[1;32m    398\u001b[0m runtime \u001b[39m=\u001b[39m \u001b[39mself\u001b[39m\u001b[39m.\u001b[39m_post_run_hook(runtime)\n\u001b[1;32m    399\u001b[0m \u001b[39m# Collect outputs\u001b[39;00m\n",
      "File \u001b[0;32m~/anaconda3/lib/python3.10/site-packages/nipype/interfaces/matlab.py:164\u001b[0m, in \u001b[0;36mMatlabCommand._run_interface\u001b[0;34m(self, runtime)\u001b[0m\n\u001b[1;32m    162\u001b[0m     \u001b[39mpass\u001b[39;00m\n\u001b[1;32m    163\u001b[0m \u001b[39mif\u001b[39;00m \u001b[39m\"\u001b[39m\u001b[39mMATLAB code threw an exception\u001b[39m\u001b[39m\"\u001b[39m \u001b[39min\u001b[39;00m runtime\u001b[39m.\u001b[39mstderr:\n\u001b[0;32m--> 164\u001b[0m     \u001b[39mself\u001b[39;49m\u001b[39m.\u001b[39;49mraise_exception(runtime)\n\u001b[1;32m    165\u001b[0m \u001b[39mreturn\u001b[39;00m runtime\n",
      "File \u001b[0;32m~/anaconda3/lib/python3.10/site-packages/nipype/interfaces/base/core.py:685\u001b[0m, in \u001b[0;36mCommandLine.raise_exception\u001b[0;34m(self, runtime)\u001b[0m\n\u001b[1;32m    684\u001b[0m \u001b[39mdef\u001b[39;00m \u001b[39mraise_exception\u001b[39m(\u001b[39mself\u001b[39m, runtime):\n\u001b[0;32m--> 685\u001b[0m     \u001b[39mraise\u001b[39;00m \u001b[39mRuntimeError\u001b[39;00m(\n\u001b[1;32m    686\u001b[0m         (\n\u001b[1;32m    687\u001b[0m             \u001b[39m\"\u001b[39m\u001b[39mCommand:\u001b[39m\u001b[39m\\n\u001b[39;00m\u001b[39m{cmdline}\u001b[39;00m\u001b[39m\\n\u001b[39;00m\u001b[39mStandard output:\u001b[39m\u001b[39m\\n\u001b[39;00m\u001b[39m{stdout}\u001b[39;00m\u001b[39m\\n\u001b[39;00m\u001b[39m\"\u001b[39m\n\u001b[1;32m    688\u001b[0m             \u001b[39m\"\u001b[39m\u001b[39mStandard error:\u001b[39m\u001b[39m\\n\u001b[39;00m\u001b[39m{stderr}\u001b[39;00m\u001b[39m\\n\u001b[39;00m\u001b[39mReturn code: \u001b[39m\u001b[39m{returncode}\u001b[39;00m\u001b[39m\"\u001b[39m\n\u001b[1;32m    689\u001b[0m         )\u001b[39m.\u001b[39mformat(\u001b[39m*\u001b[39m\u001b[39m*\u001b[39mruntime\u001b[39m.\u001b[39mdictcopy())\n\u001b[1;32m    690\u001b[0m     )\n",
      "\u001b[0;31mRuntimeError\u001b[0m: Command:\nmatlab -nodesktop -nosplash -singleCompThread -r \"addpath('/Users/dddd1007/Library/CloudStorage/Dropbox/Work/phd work/research/project9_fmri_spatial_stroopdata/output/fmri/paramGLM/rl/1stLevel/sub41');pyscript_estimatecontrast;exit\"\nStandard output:\n\n                            < M A T L A B (R) >\n                  Copyright 1984-2023 The MathWorks, Inc.\n              R2023a Update 2 (9.14.0.2254940) 64-bit (maci64)\n                               April 17, 2023\n\n \nTo get started, type doc.\nFor product information, visit www.mathworks.com.\n \nExecuting pyscript_estimatecontrast at 14-Jun-2023 10:29:05:\nExecuting pyscript_estimatecontrast at 14-Jun-2023 10:29:05:\n-----------------------------------------------------------------------------------------------------\nMATLAB Version: 9.14.0.2254940 (R2023a) Update 2\nMATLAB License Number: 40843189\nOperating System: macOS  Version: 14.0 Build: 23A5257q \nJava Version: Java 1.8.0_202-b08 with Oracle Corporation Java HotSpot(TM) 64-Bit Server VM mixed mode\n-----------------------------------------------------------------------------------------------------\nMATLAB                                                Version 9.14        (R2023a)\nSimulink                                              Version 10.7        (R2023a)\n5G Toolbox                                            Version 2.6         (R2023a)\nAUTOSAR Blockset                                      Version 3.1         (R2023a)\nAerospace Blockset                                    Version 6.0         (R2023a)\nAerospace Toolbox                                     Version 4.4         (R2023a)\nAntenna Toolbox                                       Version 5.4         (R2023a)\nAudio Toolbox                                         Version 3.4         (R2023a)\nAutomated Driving Toolbox                             Version 3.7         (R2023a)\nBioinformatics Toolbox                                Version 4.17        (R2023a)\nBluetooth Toolbox                                     Version 1.2         (R2023a)\nCommunications Toolbox                                Version 8.0         (R2023a)\nComputer Vision Toolbox                               Version 10.4        (R2023a)\nControl System Toolbox                                Version 10.13       (R2023a)\nCurve Fitting Toolbox                                 Version 3.9         (R2023a)\nDDS Blockset                                          Version 1.4         (R2023a)\nDSP HDL Toolbox                                       Version 1.2         (R2023a)\nDSP System Toolbox                                    Version 9.16        (R2023a)\nDatabase Toolbox                                      Version 11.0        (R2023a)\nDatafeed Toolbox                                      Version 6.4         (R2023a)\nDeep Learning Toolbox                                 Version 14.6        (R2023a)\nEEGLAB Toolbox to process EEG data                    Version -           see     \nEconometrics Toolbox                                  Version 6.2         (R2023a)\nEmbedded Coder                                        Version 7.10        (R2023a)\nFilter Design HDL Coder                               Version 3.1.13      (R2023a)\nFinancial Instruments Toolbox                         Version 3.6         (R2023a)\nFinancial Toolbox                                     Version 6.5         (R2023a)\nFixed-Point Designer                                  Version 7.6         (R2023a)\nFuzzy Logic Toolbox                                   Version 3.1         (R2023a)\nGlobal Optimization Toolbox                           Version 4.8.1       (R2023a)\nHDL Coder                                             Version 4.1         (R2023a)\nImage Acquisition Toolbox                             Version 6.7.1       (R2023a)\nImage Processing Toolbox                              Version 11.7        (R2023a)\nIndustrial Communication Toolbox                      Version 6.2         (R2023a)\nInstrument Control Toolbox                            Version 4.8         (R2023a)\nLTE Toolbox                                           Version 3.9         (R2023a)\nLidar Toolbox                                         Version 2.3         (R2023a)\nMATLAB Coder                                          Version 5.6         (R2023a)\nMATLAB Compiler                                       Version 8.6         (R2023a)\nMATLAB Compiler SDK                                   Version 7.2         (R2023a)\nMATLAB Report Generator                               Version 5.14        (R2023a)\nMATLAB Test                                           Version 1.0         (R2023a)\nMapping Toolbox                                       Version 5.5         (R2023a)\nMedical Imaging Toolbox                               Version 1.1         (R2023a)\nMixed-Signal Blockset                                 Version 2.4         (R2023a)\nModel Predictive Control Toolbox                      Version 8.1         (R2023a)\nMotor Control Blockset                                Version 2.0         (R2023a)\nNavigation Toolbox                                    Version 2.4         (R2023a)\nOptimization Toolbox                                  Version 9.5         (R2023a)\nParallel Computing Toolbox                            Version 7.8         (R2023a)\nPartial Differential Equation Toolbox                 Version 3.10        (R2023a)\nPhased Array System Toolbox                           Version 5.0         (R2023a)\nPowertrain Blockset                                   Version 2.0         (R2023a)\nPredictive Maintenance Toolbox                        Version 2.7         (R2023a)\nRF Blockset                                           Version 8.5         (R2023a)\nRF PCB Toolbox                                        Version 1.3         (R2023a)\nRF Toolbox                                            Version 4.5         (R2023a)\nROS Toolbox                                           Version 2.0         (R2023a)\nRadar Toolbox                                         Version 1.4         (R2023a)\nReinforcement Learning Toolbox                        Version 2.4         (R2023a)\nRequirements Toolbox                                  Version 2.2         (R2023a)\nRisk Management Toolbox                               Version 2.2         (R2023a)\nRobotics System Toolbox                               Version 4.2         (R2023a)\nRobust Control Toolbox                                Version 6.11.3      (R2023a)\nSatellite Communications Toolbox                      Version 1.4         (R2023a)\nSensor Fusion and Tracking Toolbox                    Version 2.5         (R2023a)\nSerDes Toolbox                                        Version 3.0         (R2023a)\nSignal Processing Toolbox                             Version 9.2         (R2023a)\nSimBiology                                            Version 6.4.1       (R2023a)\nSimEvents                                             Version 5.14        (R2023a)\nSimscape                                              Version 5.5         (R2023a)\nSimscape Battery                                      Version 1.1         (R2023a)\nSimscape Driveline                                    Version 3.7         (R2023a)\nSimscape Electrical                                   Version 7.9         (R2023a)\nSimscape Fluids                                       Version 3.6         (R2023a)\nSimscape Multibody                                    Version 7.7         (R2023a)\nSimulink 3D Animation                                 Version 9.6         (R2023a)\nSimulink Check                                        Version 6.2         (R2023a)\nSimulink Coder                                        Version 9.9         (R2023a)\nSimulink Compiler                                     Version 1.6         (R2023a)\nSimulink Control Design                               Version 7.0         (R2023a)\nSimulink Coverage                                     Version 5.6         (R2023a)\nSimulink Design Optimization                          Version 3.13        (R2023a)\nSimulink Design Verifier                              Version 4.9         (R2023a)\nSimulink Desktop Real-Time                            Version 5.16        (R2023a)\nSimulink PLC Coder                                    Version 3.8         (R2023a)\nSimulink Report Generator                             Version 5.14        (R2023a)\nSimulink Test                                         Version 3.8         (R2023a)\nStateflow                                             Version 10.8        (R2023a)\nStatistical Parametric Mapping                        Version 7771        (SPM12) \nStatistics and Machine Learning Toolbox               Version 12.5        (R2023a)\nSymbolic Math Toolbox                                 Version 9.3         (R2023a)\nSystem Composer                                       Version 2.4         (R2023a)\nSystem Identification Toolbox                         Version 10.1        (R2023a)\nText Analytics Toolbox                                Version 1.10        (R2023a)\nUAV Toolbox                                           Version 1.5         (R2023a)\nVehicle Dynamics Blockset                             Version 2.0         (R2023a)\nWLAN Toolbox                                          Version 3.6         (R2023a)\nWavelet Toolbox                                       Version 6.3         (R2023a)\nWireless HDL Toolbox                                  Version 2.6         (R2023a)\nDirect calls to spm_defauts are deprecated.\nPlease use spm('Defaults',modality) or spm_get_defaults instead.\nStandard error:\nMATLAB code threw an exception:\nCondition run_1 not found in design\nFile:/Users/dddd1007/Library/CloudStorage/Dropbox/Work/phd work/research/project9_fmri_spatial_stroopdata/output/fmri/paramGLM/rl/1stLevel/sub41/pyscript_estimatecontrast.m\nName:pyscript_estimatecontrast\nLine:27\nReturn code: 0"
     ]
    }
   ],
   "source": [
    "nii_list, realignment_para_file_list, single_sub_data, sub_name = nii_selector(\n",
    "    root_dir, sub_num, session_num, all_data)\n",
    "single_sub_data = single_sub_data[single_sub_data.run_num >= 2]\n",
    "print(realignment_para_file_list)\n",
    "subject_info = parametric_condition_generator(\n",
    "    single_sub_data, params_name, realignment_para_file_list, centering=False)\n",
    "gen_model = SpecifySPMModel(concatenate_runs=False,\n",
    "                            input_units='scans',\n",
    "                            output_units='scans',\n",
    "                            time_repetition=1.5,\n",
    "                            high_pass_filter_cutoff=128,\n",
    "                            subject_info=subject_info,\n",
    "                            functional_runs=nii_list)\n",
    "spmModel = gen_model.run()\n",
    "print(\"Estimating SPM model for subject \" + str(sub_num) + \" (1/2)...\")\n",
    "design_model = Level1Design(bases={'hrf': {'derivs': [1, 0]}},\n",
    "                            timing_units='scans',\n",
    "                            interscan_interval=1.5,\n",
    "                            microtime_resolution=32,\n",
    "                            microtime_onset=1,\n",
    "                            session_info=spmModel.outputs.session_info,\n",
    "                            spm_mat_dir=output_dir)\n",
    "\n",
    "firstLevelModel = design_model.run()\n",
    "\n",
    "print(\"Contrast SPM model for subject \" + str(sub_num) + \" (2/2)...\")\n",
    "estimator = EstimateModel(estimation_method={'Classical': 1},\n",
    "                          spm_mat_file=firstLevelModel.outputs.spm_mat_file)\n",
    "estimateResult = estimator.run()\n",
    "print(\"Contrast SPM model\")\n",
    "level1conest = EstimateContrast(beta_images=estimateResult.outputs.beta_images,\n",
    "                                residual_image=estimateResult.outputs.residual_image,\n",
    "                                spm_mat_file=estimateResult.outputs.spm_mat_file,\n",
    "                                contrasts=contrast_list)\n",
    "contrastResult = level1conest.run()"
   ]
  },
  {
   "cell_type": "code",
   "execution_count": null,
   "metadata": {
    "collapsed": false
   },
   "outputs": [],
   "source": []
  }
 ],
 "metadata": {
  "kernelspec": {
   "display_name": "base",
   "language": "python",
   "name": "python3"
  },
  "language_info": {
   "codemirror_mode": {
    "name": "ipython",
    "version": 3
   },
   "file_extension": ".py",
   "mimetype": "text/x-python",
   "name": "python",
   "nbconvert_exporter": "python",
   "pygments_lexer": "ipython3",
   "version": "3.10.8"
  },
  "orig_nbformat": 4,
  "vscode": {
   "interpreter": {
    "hash": "984040fab1ccb5ba6a68235d0db52f534f998eef5bc0a8ef165cb4656f5649ce"
   }
  }
 },
 "nbformat": 4,
 "nbformat_minor": 2
}
