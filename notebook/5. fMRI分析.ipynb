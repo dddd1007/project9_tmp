{
 "cells": [
  {
   "attachments": {},
   "cell_type": "markdown",
   "metadata": {},
   "source": [
    "# fMRI 分析\n",
    "## 0. 环境配置"
   ]
  },
  {
   "cell_type": "code",
   "execution_count": 1,
   "metadata": {},
   "outputs": [],
   "source": [
    "# 配置基本环境\n",
    "import os\n",
    "import re\n",
    "import xia_fmri_workflow\n",
    "from pathlib import Path\n",
    "import pandas as pd\n",
    "import scipy.io\n",
    "from joblib import Parallel, delayed\n",
    "import multiprocessing\n",
    "num_cores = 6\n",
    "\n",
    "# 读取被试数据\n",
    "all_data = pd.read_csv(\"/Users/dddd1007/research/project9_fmri_spatial_stroop/data/input/behavioral_data/all_data_for_fmri_with_model_params.csv\")\n",
    "# 被试基本信息\n",
    "sub_num_list = pd.unique(all_data['sub_num'])\n",
    "session_num = 6\n",
    "\n",
    "# 数据位置\n",
    "root_dir = \"/Users/dddd1007/research/project9_fmri_spatial_stroop/data/input/fmri_data/nii\"\n",
    "output_dir = \"/Users/dddd1007/research/project9_fmri_spatial_stroop/data/output/fmri/\""
   ]
  },
  {
   "attachments": {},
   "cell_type": "markdown",
   "metadata": {},
   "source": [
    "## 1. GLM 分析"
   ]
  },
  {
   "cell_type": "code",
   "execution_count": 4,
   "metadata": {},
   "outputs": [
    {
     "name": "stdout",
     "output_type": "stream",
     "text": [
      "Save subject 8's data to /n/Users/dddd1007/research/project9_fmri_spatial_stroop/data/output/fmri/condGLM/reverse_control/1stLevel/condGLM/reverse_control/1stLevel/sub8\n"
     ]
    },
    {
     "name": "stderr",
     "output_type": "stream",
     "text": [
      "stty: stdin isn't a terminal\n",
      "stty: stdin isn't a terminal\n"
     ]
    }
   ],
   "source": [
    "factors_name = ['PC_factor']\n",
    "# for sub_num in sub_num_list:\n",
    "sub_num = 8\n",
    "estimate_result = xia_fmri_workflow.workflow_condition_glm_1stlevel(root_dir, sub_num, session_num, factors_name, all_data, output_dir)"
   ]
  },
  {
   "attachments": {},
   "cell_type": "markdown",
   "metadata": {},
   "source": [
    "## 2. Parametric GLM 分析\n",
    "### 2.1 Bayesian Model"
   ]
  },
  {
   "cell_type": "code",
   "execution_count": 2,
   "metadata": {},
   "outputs": [],
   "source": [
    "# Set the basic params\n",
    "params_name = ['congruency_num', 'bl_sr_v', 'bl_sr_PE']\n",
    "# make the contrast matrix\n",
    "condition_names = [\"run_1\", \"\", \"run_1xcongruency_num^1\", \"\", \"run_1xbl_sr_v^1\", \"\",\n",
    "                   \"run_1xbl_sr_PE^1\", \"\", \"run_error_1\", \"\", \"X\", \"Y\", \"Z\", \"x_r\", \"y_r\", \"z_r\",\n",
    "                   \"run_2\", \"\", \"run_2xcongruency_num^1\", \"\", \"run_2xbl_sr_v^1\", \"\",\n",
    "                   \"run_2xbl_sr_PE^1\", \"\", \"run_error_2\", \"\", \"X\", \"Y\", \"Z\", \"x_r\", \"y_r\", \"z_r\",\n",
    "                   \"run_3\", \"\", \"run_3xcongruency_num^1\", \"\", \"run_3xbl_sr_v^1\", \"\",\n",
    "                   \"run_3xbl_sr_PE^1\", \"\", \"run_error_3\", \"\", \"X\", \"Y\", \"Z\", \"x_r\", \"y_r\", \"z_r\",\n",
    "                   \"run_4\", \"\", \"run_4xcongruency_num^1\", \"\", \"run_4xbl_sr_v^1\", \"\",\n",
    "                   \"run_4xbl_sr_PE^1\", \"\", \"run_error_4\", \"\", \"X\", \"Y\", \"Z\", \"x_r\", \"y_r\", \"z_r\",\n",
    "                   \"run_5\", \"\", \"run_5xcongruency_num^1\", \"\", \"run_5xbl_sr_v^1\", \"\",\n",
    "                   \"run_5xbl_sr_PE^1\", \"\", \"run_error_5\", \"\", \"X\", \"Y\", \"Z\", \"x_r\", \"y_r\", \"z_r\",\n",
    "                   \"run_6\", \"\", \"run_6xcongruency_num^1\", \"\", \"run_6xbl_sr_v^1\", \"\",\n",
    "                   \"run_6xbl_sr_PE^1\", \"\", \"run_error_6\", \"\", \"X\", \"Y\", \"Z\", \"x_r\", \"y_r\", \"z_r\"]\n",
    "cont1 = [\"-V\", 'T', condition_names,   [0, 0, 0, 0,-1, 0, 0, 0, 0, 0, 0, 0, 0, 0, 0, 0,\n",
    "                                        0, 0, 0, 0,-1, 0, 0, 0, 0, 0, 0, 0, 0, 0, 0, 0,\n",
    "                                        0, 0, 0, 0,-1, 0, 0, 0, 0, 0, 0, 0, 0, 0, 0, 0,\n",
    "                                        0, 0, 0, 0,-1, 0, 0, 0, 0, 0, 0, 0, 0, 0, 0, 0,\n",
    "                                        0, 0, 0, 0,-1, 0, 0, 0, 0, 0, 0, 0, 0, 0, 0, 0,\n",
    "                                        0, 0, 0, 0,-1, 0, 0, 0, 0, 0, 0, 0, 0, 0, 0, 0]]\n",
    "cont2 = [\"PE\", 'T', condition_names,   [0, 0, 0, 0, 0, 0, 1, 0, 0, 0, 0, 0, 0, 0, 0, 0,\n",
    "                                        0, 0, 0, 0, 0, 0, 1, 0, 0, 0, 0, 0, 0, 0, 0, 0,\n",
    "                                        0, 0, 0, 0, 0, 0, 1, 0, 0, 0, 0, 0, 0, 0, 0, 0,\n",
    "                                        0, 0, 0, 0, 0, 0, 1, 0, 0, 0, 0, 0, 0, 0, 0, 0,\n",
    "                                        0, 0, 0, 0, 0, 0, 1, 0, 0, 0, 0, 0, 0, 0, 0, 0,\n",
    "                                        0, 0, 0, 0, 0, 0, 1, 0, 0, 0, 0, 0, 0, 0, 0, 0]]\n",
    "contrast_list = [cont1, cont2]"
   ]
  },
  {
   "cell_type": "code",
   "execution_count": 3,
   "metadata": {},
   "outputs": [
    {
     "name": "stderr",
     "output_type": "stream",
     "text": [
      "stty: stdin isn't a terminal\n",
      "stty: stdin isn't a terminal\n",
      "stty: stdin isn't a terminal\n",
      "stty: stdin isn't a terminal\n",
      "stty: stdin isn't a terminal\n",
      "stty: stdin isn't a terminal\n",
      "stty: stdin isn't a terminal\n",
      "stty: stdin isn't a terminal\n",
      "stty: stdin isn't a terminal\n",
      "stty: stdin isn't a terminal\n",
      "stty: stdin isn't a terminal\n",
      "stty: stdin isn't a terminal\n",
      "stty: stdin isn't a terminal\n",
      "stty: stdin isn't a terminal\n",
      "stty: stdin isn't a terminal\n",
      "stty: stdin isn't a terminal\n",
      "stty: stdin isn't a terminal\n",
      "stty: stdin isn't a terminal\n",
      "stty: stdin isn't a terminal\n",
      "stty: stdin isn't a terminal\n",
      "stty: stdin isn't a terminal\n",
      "stty: stdin isn't a terminal\n",
      "stty: stdin isn't a terminal\n",
      "stty: stdin isn't a terminal\n",
      "stty: stdin isn't a terminal\n",
      "stty: stdin isn't a terminal\n",
      "stty: stdin isn't a terminal\n",
      "stty: stdin isn't a terminal\n",
      "stty: stdin isn't a terminal\n",
      "stty: stdin isn't a terminal\n",
      "stty: stdin isn't a terminal\n",
      "stty: stdin isn't a terminal\n",
      "stty: stdin isn't a terminal\n",
      "stty: stdin isn't a terminal\n",
      "stty: stdin isn't a terminal\n",
      "stty: stdin isn't a terminal\n",
      "stty: stdin isn't a terminal\n",
      "stty: stdin isn't a terminal\n",
      "stty: stdin isn't a terminal\n",
      "stty: stdin isn't a terminal\n",
      "stty: stdin isn't a terminal\n",
      "stty: stdin isn't a terminal\n",
      "stty: stdin isn't a terminal\n",
      "stty: stdin isn't a terminal\n",
      "stty: stdin isn't a terminal\n",
      "stty: stdin isn't a terminal\n",
      "stty: stdin isn't a terminal\n",
      "stty: stdin isn't a terminal\n",
      "stty: stdin isn't a terminal\n",
      "stty: stdin isn't a terminal\n",
      "stty: stdin isn't a terminal\n",
      "stty: stdin isn't a terminal\n",
      "stty: stdin isn't a terminal\n",
      "stty: stdin isn't a terminal\n",
      "stty: stdin isn't a terminal\n",
      "stty: stdin isn't a terminal\n",
      "stty: stdin isn't a terminal\n",
      "stty: stdin isn't a terminal\n",
      "stty: stdin isn't a terminal\n",
      "stty: stdin isn't a terminal\n",
      "stty: stdin isn't a terminal\n",
      "stty: stdin isn't a terminal\n",
      "stty: stdin isn't a terminal\n",
      "stty: stdin isn't a terminal\n",
      "stty: stdin isn't a terminal\n",
      "stty: stdin isn't a terminal\n",
      "stty: stdin isn't a terminal\n",
      "stty: stdin isn't a terminal\n",
      "stty: stdin isn't a terminal\n",
      "stty: stdin isn't a terminal\n",
      "stty: stdin isn't a terminal\n",
      "stty: stdin isn't a terminal\n",
      "stty: stdin isn't a terminal\n",
      "stty: stdin isn't a terminal\n",
      "stty: stdin isn't a terminal\n",
      "stty: stdin isn't a terminal\n",
      "stty: stdin isn't a terminal\n",
      "stty: stdin isn't a terminal\n",
      "stty: stdin isn't a terminal\n",
      "stty: stdin isn't a terminal\n",
      "stty: stdin isn't a terminal\n",
      "stty: stdin isn't a terminal\n",
      "stty: stdin isn't a terminal\n",
      "stty: stdin isn't a terminal\n",
      "stty: stdin isn't a terminal\n",
      "stty: stdin isn't a terminal\n",
      "stty: stdin isn't a terminal\n",
      "stty: stdin isn't a terminal\n",
      "stty: stdin isn't a terminal\n",
      "stty: stdin isn't a terminal\n",
      "stty: stdin isn't a terminal\n",
      "stty: stdin isn't a terminal\n",
      "stty: stdin isn't a terminal\n",
      "stty: stdin isn't a terminal\n",
      "stty: stdin isn't a terminal\n",
      "stty: stdin isn't a terminal\n",
      "stty: stdin isn't a terminal\n",
      "stty: stdin isn't a terminal\n",
      "stty: stdin isn't a terminal\n",
      "stty: stdin isn't a terminal\n"
     ]
    },
    {
     "name": "stdout",
     "output_type": "stream",
     "text": [
      "Save subject 4's data to /n/Volumes/ResearchData/project9_fmri_spatial_stroop/data/output/fmri/paramGLM/bl/1stLevel/sub4\n",
      "Save subject 9's data to /n/Volumes/ResearchData/project9_fmri_spatial_stroop/data/output/fmri/paramGLM/bl/1stLevel/sub9\n",
      "Save subject 18's data to /n/Volumes/ResearchData/project9_fmri_spatial_stroop/data/output/fmri/paramGLM/bl/1stLevel/sub18\n",
      "Save subject 20's data to /n/Volumes/ResearchData/project9_fmri_spatial_stroop/data/output/fmri/paramGLM/bl/1stLevel/sub20\n",
      "Save subject 27's data to /n/Volumes/ResearchData/project9_fmri_spatial_stroop/data/output/fmri/paramGLM/bl/1stLevel/sub27\n",
      "Save subject 1's data to /n/Volumes/ResearchData/project9_fmri_spatial_stroop/data/output/fmri/paramGLM/bl/1stLevel/sub1\n",
      "Save subject 10's data to /n/Volumes/ResearchData/project9_fmri_spatial_stroop/data/output/fmri/paramGLM/bl/1stLevel/sub10\n",
      "Save subject 17's data to /n/Volumes/ResearchData/project9_fmri_spatial_stroop/data/output/fmri/paramGLM/bl/1stLevel/sub17\n",
      "Save subject 22's data to /n/Volumes/ResearchData/project9_fmri_spatial_stroop/data/output/fmri/paramGLM/bl/1stLevel/sub22\n",
      "Save subject 30's data to /n/Volumes/ResearchData/project9_fmri_spatial_stroop/data/output/fmri/paramGLM/bl/1stLevel/sub30\n"
     ]
    },
    {
     "name": "stderr",
     "output_type": "stream",
     "text": [
      "stty: stdin isn't a terminal\n",
      "stty: stdin isn't a terminal\n",
      "stty: stdin isn't a terminal\n",
      "stty: stdin isn't a terminal\n",
      "stty: stdin isn't a terminal\n",
      "stty: stdin isn't a terminal\n",
      "stty: stdin isn't a terminal\n",
      "stty: stdin isn't a terminal\n"
     ]
    }
   ],
   "source": [
    "# batch analysis\n",
    "inputs = sub_num_list\n",
    "def bl_processInput(sub_num):\n",
    "    estimate_result = xia_fmri_workflow.workflow_param_glm_1stlevel(root_dir, sub_num, session_num, params_name, all_data, output_dir, \"bl\")\n",
    "    contrast_result = xia_fmri_workflow.workflow_contrast(estimate_result, contrast_list)\n",
    "\n",
    "results = Parallel(n_jobs=num_cores)(delayed(bl_processInput)(sub_num) for sub_num in inputs)"
   ]
  },
  {
   "cell_type": "markdown",
   "metadata": {
    "collapsed": false
   },
   "source": [
    "### 2.2 Reinforcement learning"
   ]
  },
  {
   "cell_type": "code",
   "execution_count": 3,
   "metadata": {
    "collapsed": false
   },
   "outputs": [],
   "source": [
    "# Set the basic params\n",
    "params_name = ['congruency_num', 'rl_sr_v_pe']\n",
    "# make the contrast matrix\n",
    "condition_names = [\"run_1\", \"\", \"run_1xcongruency_num^1\", \"\", \"run_1xrl_sr_v_pe^1\", \"\",\n",
    "                   \"run_error_1\", \"\", \"X\", \"Y\", \"Z\", \"x_r\", \"y_r\", \"z_r\",\n",
    "                   \"run_2\", \"\", \"run_2xcongruency_num^1\", \"\", \"run_2xrl_sr_v_pe^1\", \"\",\n",
    "                   \"run_error_2\", \"\", \"X\", \"Y\", \"Z\", \"x_r\", \"y_r\", \"z_r\",\n",
    "                   \"run_3\", \"\", \"run_3xcongruency_num^1\", \"\", \"run_3xrl_sr_v_pe^1\", \"\",\n",
    "                   \"run_error_3\", \"\", \"X\", \"Y\", \"Z\", \"x_r\", \"y_r\", \"z_r\",\n",
    "                   \"run_4\", \"\", \"run_4xcongruency_num^1\", \"\", \"run_4xrl_sr_v_pe^1\", \"\",\n",
    "                   \"run_error_4\", \"\", \"X\", \"Y\", \"Z\", \"x_r\", \"y_r\", \"z_r\",\n",
    "                   \"run_5\", \"\", \"run_5xcongruency_num^1\", \"\", \"run_5xrl_sr_v_pe^1\", \"\",\n",
    "                   \"run_error_5\", \"\", \"X\", \"Y\", \"Z\", \"x_r\", \"y_r\", \"z_r\",\n",
    "                   \"run_6\", \"\", \"run_6xcongruency_num^1\", \"\", \"run_6xrl_sr_v_pe^1\", \"\",\n",
    "                   \"run_error_6\", \"\", \"X\", \"Y\", \"Z\", \"x_r\", \"y_r\", \"z_r\"]\n",
    "cont1 = [\"-V\", 'T', condition_names,   [0, 0, 0, 0, 1, 0, 0, 0, 0, 0, 0, 0, 0, 0,\n",
    "                                        0, 0, 0, 0, 1, 0, 0, 0, 0, 0, 0, 0, 0, 0,\n",
    "                                        0, 0, 0, 0, 1, 0, 0, 0, 0, 0, 0, 0, 0, 0,\n",
    "                                        0, 0, 0, 0, 1, 0, 0, 0, 0, 0, 0, 0, 0, 0,\n",
    "                                        0, 0, 0, 0, 1, 0, 0, 0, 0, 0, 0, 0, 0, 0,\n",
    "                                        0, 0, 0, 0, 1, 0, 0, 0, 0, 0, 0, 0, 0, 0]]\n",
    "contrast_list = [cont1]"
   ]
  },
  {
   "cell_type": "code",
   "execution_count": null,
   "metadata": {
    "collapsed": false,
    "pycharm": {
     "is_executing": true
    }
   },
   "outputs": [
    {
     "name": "stderr",
     "output_type": "stream",
     "text": [
      "stty: stdin isn't a terminal\n",
      "stty: stdin isn't a terminal\n",
      "stty: stdin isn't a terminal\n",
      "stty: stdin isn't a terminal\n",
      "stty: stdin isn't a terminal\n",
      "stty: stdin isn't a terminal\n",
      "stty: stdin isn't a terminal\n",
      "stty: stdin isn't a terminal\n",
      "stty: stdin isn't a terminal\n",
      "stty: stdin isn't a terminal\n",
      "stty: stdin isn't a terminal\n",
      "stty: stdin isn't a terminal\n",
      "stty: stdin isn't a terminal\n",
      "stty: stdin isn't a terminal\n",
      "stty: stdin isn't a terminal\n",
      "stty: stdin isn't a terminal\n",
      "stty: stdin isn't a terminal\n",
      "stty: stdin isn't a terminal\n",
      "stty: stdin isn't a terminal\n",
      "stty: stdin isn't a terminal\n",
      "stty: stdin isn't a terminal\n",
      "stty: stdin isn't a terminal\n",
      "stty: stdin isn't a terminal\n",
      "stty: stdin isn't a terminal\n",
      "stty: stdin isn't a terminal\n",
      "stty: stdin isn't a terminal\n",
      "stty: stdin isn't a terminal\n",
      "stty: stdin isn't a terminal\n",
      "stty: stdin isn't a terminal\n",
      "stty: stdin isn't a terminal\n"
     ]
    }
   ],
   "source": [
    "# batch analysis\n",
    "inputs = sub_num_list\n",
    "def rl_processInput(sub_num):\n",
    "    estimate_result = xia_fmri_workflow.workflow_param_glm_1stlevel(root_dir, sub_num, session_num, params_name, all_data, output_dir, \"rl\")\n",
    "    contrast_result = xia_fmri_workflow.workflow_contrast(estimate_result, contrast_list)\n",
    "\n",
    "results = Parallel(n_jobs=num_cores)(delayed(rl_processInput)(sub_num) for sub_num in inputs)"
   ]
  },
  {
   "cell_type": "code",
   "execution_count": null,
   "metadata": {
    "collapsed": false
   },
   "outputs": [],
   "source": []
  }
 ],
 "metadata": {
  "kernelspec": {
   "display_name": "base",
   "language": "python",
   "name": "python3"
  },
  "language_info": {
   "codemirror_mode": {
    "name": "ipython",
    "version": 3
   },
   "file_extension": ".py",
   "mimetype": "text/x-python",
   "name": "python",
   "nbconvert_exporter": "python",
   "pygments_lexer": "ipython3",
   "version": "3.10.11"
  },
  "orig_nbformat": 4,
  "vscode": {
   "interpreter": {
    "hash": "984040fab1ccb5ba6a68235d0db52f534f998eef5bc0a8ef165cb4656f5649ce"
   }
  }
 },
 "nbformat": 4,
 "nbformat_minor": 2
}
