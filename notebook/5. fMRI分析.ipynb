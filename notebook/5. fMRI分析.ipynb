{
 "cells": [
  {
   "attachments": {},
   "cell_type": "markdown",
   "metadata": {},
   "source": [
    "# fMRI 分析\n",
    "## 0. 环境配置"
   ]
  },
  {
   "cell_type": "code",
   "execution_count": 1,
   "metadata": {
    "ExecuteTime": {
     "end_time": "2023-06-13T09:46:06.126365Z",
     "start_time": "2023-06-13T09:46:04.377426Z"
    }
   },
   "outputs": [],
   "source": [
    "# 配置基本环境\n",
    "import os\n",
    "import re\n",
    "import xia_fmri_workflow\n",
    "from pathlib import Path\n",
    "import pandas as pd\n",
    "import scipy.io\n",
    "from joblib import Parallel, delayed\n",
    "import multiprocessing\n",
    "num_cores = 6\n",
    "\n",
    "# 读取被试数据\n",
    "all_data = pd.read_csv(\"/Volumes/XXK-DISK/project9_fmri_spatial_stroop/data/input/all_data_with_params.csv\")\n",
    "# 被试基本信息\n",
    "sub_num_list = pd.unique(all_data['sub_num'])\n",
    "session_num = 6\n",
    "\n",
    "# 数据位置\n",
    "root_dir = \"/Volumes/XXK-DISK/project9_fmri_spatial_stroop/data/input/fmri_data/nii\"\n",
    "output_dir = \"/Volumes/XXK-DISK/project9_fmri_spatial_stroop/data/output/fmri/\""
   ]
  },
  {
   "attachments": {},
   "cell_type": "markdown",
   "metadata": {},
   "source": [
    "## 1. GLM 分析"
   ]
  },
  {
   "attachments": {},
   "cell_type": "markdown",
   "metadata": {},
   "source": [
    "## 2. Parametric GLM 分析\n",
    "### 2.1 Bayesian Model"
   ]
  },
  {
   "cell_type": "code",
   "execution_count": 5,
   "metadata": {
    "ExecuteTime": {
     "end_time": "2023-06-13T09:44:55.430015Z",
     "start_time": "2023-06-13T09:44:11.396323Z"
    }
   },
   "outputs": [
    {
     "name": "stdout",
     "output_type": "stream",
     "text": [
      "Processing subject 40\n",
      "Save subject 40's data to \n",
      "/Volumes/XXK-DISK/project9_fmri_spatial_stroop/data/output/fmri/paramGLM/bl/1stLevel/sub40\n",
      "Generating SPM model for subject 40...\n",
      "Estimating SPM model for subject 40 (1/2)...\n"
     ]
    },
    {
     "name": "stderr",
     "output_type": "stream",
     "text": [
      "stty: stdin isn't a terminal\n",
      "stty: stdin isn't a terminal\n"
     ]
    },
    {
     "ename": "RuntimeError",
     "evalue": "Command:\nmatlab -nodesktop -nosplash -singleCompThread -r \"addpath('/Volumes/XXK-DISK/project9_fmri_spatial_stroop/data/output/fmri/paramGLM/bl/1stLevel/sub40');pyscript_level1design;exit\"\nStandard output:\n\n                            < M A T L A B (R) >\n                  Copyright 1984-2023 The MathWorks, Inc.\n              R2023a Update 2 (9.14.0.2254940) 64-bit (maci64)\n                               April 17, 2023\n\n \nTo get started, type doc.\nFor product information, visit www.mathworks.com.\n \nExecuting pyscript_level1design at 13-Jun-2023 17:44:35:\nExecuting pyscript_level1design at 13-Jun-2023 17:44:35:\n-----------------------------------------------------------------------------------------------------\nMATLAB Version: 9.14.0.2254940 (R2023a) Update 2\nMATLAB License Number: 40843189\nOperating System: macOS  Version: 14.0 Build: 23A5257q \nJava Version: Java 1.8.0_202-b08 with Oracle Corporation Java HotSpot(TM) 64-Bit Server VM mixed mode\n-----------------------------------------------------------------------------------------------------\nMATLAB                                                Version 9.14        (R2023a)\nSimulink                                              Version 10.7        (R2023a)\n5G Toolbox                                            Version 2.6         (R2023a)\nAUTOSAR Blockset                                      Version 3.1         (R2023a)\nAerospace Blockset                                    Version 6.0         (R2023a)\nAerospace Toolbox                                     Version 4.4         (R2023a)\nAntenna Toolbox                                       Version 5.4         (R2023a)\nAudio Toolbox                                         Version 3.4         (R2023a)\nAutomated Driving Toolbox                             Version 3.7         (R2023a)\nBioinformatics Toolbox                                Version 4.17        (R2023a)\nBluetooth Toolbox                                     Version 1.2         (R2023a)\nCommunications Toolbox                                Version 8.0         (R2023a)\nComputer Vision Toolbox                               Version 10.4        (R2023a)\nControl System Toolbox                                Version 10.13       (R2023a)\nCurve Fitting Toolbox                                 Version 3.9         (R2023a)\nDDS Blockset                                          Version 1.4         (R2023a)\nDSP HDL Toolbox                                       Version 1.2         (R2023a)\nDSP System Toolbox                                    Version 9.16        (R2023a)\nDatabase Toolbox                                      Version 11.0        (R2023a)\nDatafeed Toolbox                                      Version 6.4         (R2023a)\nDeep Learning Toolbox                                 Version 14.6        (R2023a)\nEEGLAB Toolbox to process EEG data                    Version -           see     \nEconometrics Toolbox                                  Version 6.2         (R2023a)\nEmbedded Coder                                        Version 7.10        (R2023a)\nFilter Design HDL Coder                               Version 3.1.13      (R2023a)\nFinancial Instruments Toolbox                         Version 3.6         (R2023a)\nFinancial Toolbox                                     Version 6.5         (R2023a)\nFixed-Point Designer                                  Version 7.6         (R2023a)\nFuzzy Logic Toolbox                                   Version 3.1         (R2023a)\nGlobal Optimization Toolbox                           Version 4.8.1       (R2023a)\nHDL Coder                                             Version 4.1         (R2023a)\nImage Acquisition Toolbox                             Version 6.7.1       (R2023a)\nImage Processing Toolbox                              Version 11.7        (R2023a)\nIndustrial Communication Toolbox                      Version 6.2         (R2023a)\nInstrument Control Toolbox                            Version 4.8         (R2023a)\nLTE Toolbox                                           Version 3.9         (R2023a)\nLidar Toolbox                                         Version 2.3         (R2023a)\nMATLAB Coder                                          Version 5.6         (R2023a)\nMATLAB Compiler                                       Version 8.6         (R2023a)\nMATLAB Compiler SDK                                   Version 7.2         (R2023a)\nMATLAB Report Generator                               Version 5.14        (R2023a)\nMATLAB Test                                           Version 1.0         (R2023a)\nMapping Toolbox                                       Version 5.5         (R2023a)\nMedical Imaging Toolbox                               Version 1.1         (R2023a)\nMixed-Signal Blockset                                 Version 2.4         (R2023a)\nModel Predictive Control Toolbox                      Version 8.1         (R2023a)\nMotor Control Blockset                                Version 2.0         (R2023a)\nNavigation Toolbox                                    Version 2.4         (R2023a)\nOptimization Toolbox                                  Version 9.5         (R2023a)\nParallel Computing Toolbox                            Version 7.8         (R2023a)\nPartial Differential Equation Toolbox                 Version 3.10        (R2023a)\nPhased Array System Toolbox                           Version 5.0         (R2023a)\nPowertrain Blockset                                   Version 2.0         (R2023a)\nPredictive Maintenance Toolbox                        Version 2.7         (R2023a)\nRF Blockset                                           Version 8.5         (R2023a)\nRF PCB Toolbox                                        Version 1.3         (R2023a)\nRF Toolbox                                            Version 4.5         (R2023a)\nROS Toolbox                                           Version 2.0         (R2023a)\nRadar Toolbox                                         Version 1.4         (R2023a)\nReinforcement Learning Toolbox                        Version 2.4         (R2023a)\nRequirements Toolbox                                  Version 2.2         (R2023a)\nRisk Management Toolbox                               Version 2.2         (R2023a)\nRobotics System Toolbox                               Version 4.2         (R2023a)\nRobust Control Toolbox                                Version 6.11.3      (R2023a)\nSatellite Communications Toolbox                      Version 1.4         (R2023a)\nSensor Fusion and Tracking Toolbox                    Version 2.5         (R2023a)\nSerDes Toolbox                                        Version 3.0         (R2023a)\nSignal Processing Toolbox                             Version 9.2         (R2023a)\nSimBiology                                            Version 6.4.1       (R2023a)\nSimEvents                                             Version 5.14        (R2023a)\nSimscape                                              Version 5.5         (R2023a)\nSimscape Battery                                      Version 1.1         (R2023a)\nSimscape Driveline                                    Version 3.7         (R2023a)\nSimscape Electrical                                   Version 7.9         (R2023a)\nSimscape Fluids                                       Version 3.6         (R2023a)\nSimscape Multibody                                    Version 7.7         (R2023a)\nSimulink 3D Animation                                 Version 9.6         (R2023a)\nSimulink Check                                        Version 6.2         (R2023a)\nSimulink Coder                                        Version 9.9         (R2023a)\nSimulink Compiler                                     Version 1.6         (R2023a)\nSimulink Control Design                               Version 7.0         (R2023a)\nSimulink Coverage                                     Version 5.6         (R2023a)\nSimulink Design Optimization                          Version 3.13        (R2023a)\nSimulink Design Verifier                              Version 4.9         (R2023a)\nSimulink Desktop Real-Time                            Version 5.16        (R2023a)\nSimulink PLC Coder                                    Version 3.8         (R2023a)\nSimulink Report Generator                             Version 5.14        (R2023a)\nSimulink Test                                         Version 3.8         (R2023a)\nStateflow                                             Version 10.8        (R2023a)\nStatistical Parametric Mapping                        Version 7771        (SPM12) \nStatistics and Machine Learning Toolbox               Version 12.5        (R2023a)\nSymbolic Math Toolbox                                 Version 9.3         (R2023a)\nSystem Composer                                       Version 2.4         (R2023a)\nSystem Identification Toolbox                         Version 10.1        (R2023a)\nText Analytics Toolbox                                Version 1.10        (R2023a)\nUAV Toolbox                                           Version 1.5         (R2023a)\nVehicle Dynamics Blockset                             Version 2.0         (R2023a)\nWLAN Toolbox                                          Version 3.6         (R2023a)\nWavelet Toolbox                                       Version 6.3         (R2023a)\nWireless HDL Toolbox                                  Version 2.6         (R2023a)\nSPM version: SPM12 Release: 7771\nSPM path: /Users/dddd1007/MATLAB/spm12/spm.m\nCan not initialise pmod value(s): job is not a struct.\nCan not initialise pmod value(s): job is not a struct.\nCan not initialise pmod value(s): job is not a struct.\nCan not initialise pmod value(s): job is not a struct.\nCan not initialise pmod value(s): job is not a struct.\nCan not initialise pmod value(s): job is not a struct.\n\n\n------------------------------------------------------------------------\n13-Jun-2023 17:44:52 - Running job #1\n------------------------------------------------------------------------\n13-Jun-2023 17:44:52 - Running 'fMRI model specification'\n\n= spm_run_fmri_spec ~~~~~~~~~~~~~~~~~~~~~~~~~~~~~~~~~~~~~~~~~~~~~~~~~~~~\n\tCurrent directory contains existing SPM file:\n\tContinuing will overwrite existing file!\n~~~~~~~~~~~~~~~~~~~~~~~~~~~~~~~~~~~~~~~~~~~~~~~~~~~~~~~~~~~~~~~~~~~~~~~~\n[s]top / [c]ontinue  (Default: stop)? 13-Jun-2023 17:44:52 - Failed  'fMRI model specification'\nOne or more output arguments not assigned during call to \"input\".\nIn file \"/Users/dddd1007/MATLAB/spm12/spm_input.m\" (v7564), function \"spm_input\" at line 1012.\nIn file \"/Users/dddd1007/MATLAB/spm12/config/spm_run_fmri_spec.m\" (v7739), function \"spm_run_fmri_spec\" at line 34.\n\nThe following modules did not run:\nFailed: fMRI model specification\n\nStandard error:\nMATLAB code threw an exception:\nJob execution failed. The full log of this run can be found in MATLAB command window, starting with the lines (look for the line showing the exact #job as displayed in this error message)\n------------------ \nRunning job #1\n------------------\n\nFile:\nName:MATLABbatch system\nLine:0\n2023-06-13 17:44:54.077 MATLAB_maci64[49155:11458391] CoreText note: Client requested name \".SFNS-Regular\", it will get TimesNewRomanPSMT rather than the intended font. All system UI font access should be through proper APIs such as CTFontCreateUIFontForLanguage() or +[NSFont systemFontOfSize:].\n2023-06-13 17:44:54.077 MATLAB_maci64[49155:11458391] CoreText note: Set a breakpoint on CTFontLogSystemFontNameRequest to debug.\n2023-06-13 17:44:54.079 MATLAB_maci64[49155:11458391] CoreText note: Client requested name \".SFNS-Bold\", it will get TimesNewRomanPSMT rather than the intended font. All system UI font access should be through proper APIs such as CTFontCreateUIFontForLanguage() or +[NSFont systemFontOfSize:].\n2023-06-13 17:44:54.089 MATLAB_maci64[49155:11458391] CoreText note: Client requested name \".SFNS-Regular\", it will get TimesNewRomanPSMT rather than the intended font. All system UI font access should be through proper APIs such as CTFontCreateUIFontForLanguage() or +[NSFont systemFontOfSize:].\n2023-06-13 17:44:54.089 MATLAB_maci64[49155:11458391] CoreText note: Client requested name \".SFNS-Bold\", it will get TimesNewRomanPSMT rather than the intended font. All system UI font access should be through proper APIs such as CTFontCreateUIFontForLanguage() or +[NSFont systemFontOfSize:].\nReturn code: -9",
     "output_type": "error",
     "traceback": [
      "\u001B[0;31m---------------------------------------------------------------------------\u001B[0m",
      "\u001B[0;31mRuntimeError\u001B[0m                              Traceback (most recent call last)",
      "Cell \u001B[0;32mIn[5], line 9\u001B[0m\n\u001B[1;32m      7\u001B[0m \u001B[38;5;28;01mfor\u001B[39;00m sub_num \u001B[38;5;129;01min\u001B[39;00m inputs:\n\u001B[1;32m      8\u001B[0m     \u001B[38;5;28mprint\u001B[39m(\u001B[38;5;124m\"\u001B[39m\u001B[38;5;124mProcessing subject \u001B[39m\u001B[38;5;132;01m%d\u001B[39;00m\u001B[38;5;124m\"\u001B[39m \u001B[38;5;241m%\u001B[39m sub_num)\n\u001B[0;32m----> 9\u001B[0m     \u001B[43mbl_processInput\u001B[49m\u001B[43m(\u001B[49m\u001B[43msub_num\u001B[49m\u001B[43m)\u001B[49m\n",
      "Cell \u001B[0;32mIn[5], line 4\u001B[0m, in \u001B[0;36mbl_processInput\u001B[0;34m(sub_num)\u001B[0m\n\u001B[1;32m      3\u001B[0m \u001B[38;5;28;01mdef\u001B[39;00m \u001B[38;5;21mbl_processInput\u001B[39m(sub_num):\n\u001B[0;32m----> 4\u001B[0m     estimate_result \u001B[38;5;241m=\u001B[39m \u001B[43mxia_fmri_workflow\u001B[49m\u001B[38;5;241;43m.\u001B[39;49m\u001B[43mworkflow_param_glm_1stlevel\u001B[49m\u001B[43m(\u001B[49m\u001B[43mroot_dir\u001B[49m\u001B[43m,\u001B[49m\u001B[43m \u001B[49m\u001B[43msub_num\u001B[49m\u001B[43m,\u001B[49m\u001B[43m \u001B[49m\u001B[43msession_num\u001B[49m\u001B[43m,\u001B[49m\u001B[43m \u001B[49m\u001B[43mparams_name\u001B[49m\u001B[43m,\u001B[49m\u001B[43m \u001B[49m\u001B[43mall_data\u001B[49m\u001B[43m,\u001B[49m\u001B[43m \u001B[49m\u001B[43moutput_dir\u001B[49m\u001B[43m,\u001B[49m\u001B[43m \u001B[49m\u001B[38;5;124;43m\"\u001B[39;49m\u001B[38;5;124;43mbl\u001B[39;49m\u001B[38;5;124;43m\"\u001B[39;49m\u001B[43m)\u001B[49m\n\u001B[1;32m      5\u001B[0m     contrast_result \u001B[38;5;241m=\u001B[39m xia_fmri_workflow\u001B[38;5;241m.\u001B[39mworkflow_contrast(estimate_result, contrast_list)\n",
      "File \u001B[0;32m~/.local/lib/python3.10/site-packages/xia_fmri_workflow/__init__.py:181\u001B[0m, in \u001B[0;36mworkflow_param_glm_1stlevel\u001B[0;34m(root_dir, sub_num, session_num, params_name, all_data, output_dir, folder_name)\u001B[0m\n\u001B[1;32m    172\u001B[0m \u001B[38;5;28mprint\u001B[39m(\u001B[38;5;124m\"\u001B[39m\u001B[38;5;124mEstimating SPM model for subject \u001B[39m\u001B[38;5;124m\"\u001B[39m \u001B[38;5;241m+\u001B[39m \u001B[38;5;28mstr\u001B[39m(sub_num) \u001B[38;5;241m+\u001B[39m \u001B[38;5;124m\"\u001B[39m\u001B[38;5;124m (1/2)...\u001B[39m\u001B[38;5;124m\"\u001B[39m)\n\u001B[1;32m    173\u001B[0m design_model \u001B[38;5;241m=\u001B[39m Level1Design(bases\u001B[38;5;241m=\u001B[39m{\u001B[38;5;124m'\u001B[39m\u001B[38;5;124mhrf\u001B[39m\u001B[38;5;124m'\u001B[39m: {\u001B[38;5;124m'\u001B[39m\u001B[38;5;124mderivs\u001B[39m\u001B[38;5;124m'\u001B[39m: [\u001B[38;5;241m1\u001B[39m, \u001B[38;5;241m0\u001B[39m]}},\n\u001B[1;32m    174\u001B[0m                             timing_units\u001B[38;5;241m=\u001B[39m\u001B[38;5;124m'\u001B[39m\u001B[38;5;124mscans\u001B[39m\u001B[38;5;124m'\u001B[39m,\n\u001B[1;32m    175\u001B[0m                             interscan_interval\u001B[38;5;241m=\u001B[39m\u001B[38;5;241m1.5\u001B[39m,\n\u001B[0;32m   (...)\u001B[0m\n\u001B[1;32m    178\u001B[0m                             session_info\u001B[38;5;241m=\u001B[39mspmModel\u001B[38;5;241m.\u001B[39moutputs\u001B[38;5;241m.\u001B[39msession_info,\n\u001B[1;32m    179\u001B[0m                             spm_mat_dir\u001B[38;5;241m=\u001B[39moutput_dir)\n\u001B[0;32m--> 181\u001B[0m firstLevelModel \u001B[38;5;241m=\u001B[39m \u001B[43mdesign_model\u001B[49m\u001B[38;5;241;43m.\u001B[39;49m\u001B[43mrun\u001B[49m\u001B[43m(\u001B[49m\u001B[43m)\u001B[49m\n\u001B[1;32m    183\u001B[0m \u001B[38;5;28mprint\u001B[39m(\u001B[38;5;124m\"\u001B[39m\u001B[38;5;124mContrast SPM model for subject \u001B[39m\u001B[38;5;124m\"\u001B[39m \u001B[38;5;241m+\u001B[39m \u001B[38;5;28mstr\u001B[39m(sub_num) \u001B[38;5;241m+\u001B[39m \u001B[38;5;124m\"\u001B[39m\u001B[38;5;124m (2/2)...\u001B[39m\u001B[38;5;124m\"\u001B[39m)\n\u001B[1;32m    184\u001B[0m estimator \u001B[38;5;241m=\u001B[39m EstimateModel(estimation_method\u001B[38;5;241m=\u001B[39m{\u001B[38;5;124m'\u001B[39m\u001B[38;5;124mClassical\u001B[39m\u001B[38;5;124m'\u001B[39m: \u001B[38;5;241m1\u001B[39m},\n\u001B[1;32m    185\u001B[0m                           spm_mat_file\u001B[38;5;241m=\u001B[39mfirstLevelModel\u001B[38;5;241m.\u001B[39moutputs\u001B[38;5;241m.\u001B[39mspm_mat_file)\n",
      "File \u001B[0;32m~/anaconda3/lib/python3.10/site-packages/nipype/interfaces/base/core.py:397\u001B[0m, in \u001B[0;36mBaseInterface.run\u001B[0;34m(self, cwd, ignore_exception, **inputs)\u001B[0m\n\u001B[1;32m    395\u001B[0m \u001B[38;5;66;03m# Run interface\u001B[39;00m\n\u001B[1;32m    396\u001B[0m runtime \u001B[38;5;241m=\u001B[39m \u001B[38;5;28mself\u001B[39m\u001B[38;5;241m.\u001B[39m_pre_run_hook(runtime)\n\u001B[0;32m--> 397\u001B[0m runtime \u001B[38;5;241m=\u001B[39m \u001B[38;5;28;43mself\u001B[39;49m\u001B[38;5;241;43m.\u001B[39;49m\u001B[43m_run_interface\u001B[49m\u001B[43m(\u001B[49m\u001B[43mruntime\u001B[49m\u001B[43m)\u001B[49m\n\u001B[1;32m    398\u001B[0m runtime \u001B[38;5;241m=\u001B[39m \u001B[38;5;28mself\u001B[39m\u001B[38;5;241m.\u001B[39m_post_run_hook(runtime)\n\u001B[1;32m    399\u001B[0m \u001B[38;5;66;03m# Collect outputs\u001B[39;00m\n",
      "File \u001B[0;32m~/anaconda3/lib/python3.10/site-packages/nipype/interfaces/spm/base.py:386\u001B[0m, in \u001B[0;36mSPMCommand._run_interface\u001B[0;34m(self, runtime)\u001B[0m\n\u001B[1;32m    382\u001B[0m \u001B[38;5;250m\u001B[39m\u001B[38;5;124;03m\"\"\"Executes the SPM function using MATLAB.\"\"\"\u001B[39;00m\n\u001B[1;32m    383\u001B[0m \u001B[38;5;28mself\u001B[39m\u001B[38;5;241m.\u001B[39mmlab\u001B[38;5;241m.\u001B[39minputs\u001B[38;5;241m.\u001B[39mscript \u001B[38;5;241m=\u001B[39m \u001B[38;5;28mself\u001B[39m\u001B[38;5;241m.\u001B[39m_make_matlab_command(\n\u001B[1;32m    384\u001B[0m     deepcopy(\u001B[38;5;28mself\u001B[39m\u001B[38;5;241m.\u001B[39m_parse_inputs())\n\u001B[1;32m    385\u001B[0m )\n\u001B[0;32m--> 386\u001B[0m results \u001B[38;5;241m=\u001B[39m \u001B[38;5;28;43mself\u001B[39;49m\u001B[38;5;241;43m.\u001B[39;49m\u001B[43mmlab\u001B[49m\u001B[38;5;241;43m.\u001B[39;49m\u001B[43mrun\u001B[49m\u001B[43m(\u001B[49m\u001B[43m)\u001B[49m\n\u001B[1;32m    387\u001B[0m runtime\u001B[38;5;241m.\u001B[39mreturncode \u001B[38;5;241m=\u001B[39m results\u001B[38;5;241m.\u001B[39mruntime\u001B[38;5;241m.\u001B[39mreturncode\n\u001B[1;32m    388\u001B[0m \u001B[38;5;28;01mif\u001B[39;00m \u001B[38;5;28mself\u001B[39m\u001B[38;5;241m.\u001B[39mmlab\u001B[38;5;241m.\u001B[39minputs\u001B[38;5;241m.\u001B[39muses_mcr:\n",
      "File \u001B[0;32m~/anaconda3/lib/python3.10/site-packages/nipype/interfaces/base/core.py:397\u001B[0m, in \u001B[0;36mBaseInterface.run\u001B[0;34m(self, cwd, ignore_exception, **inputs)\u001B[0m\n\u001B[1;32m    395\u001B[0m \u001B[38;5;66;03m# Run interface\u001B[39;00m\n\u001B[1;32m    396\u001B[0m runtime \u001B[38;5;241m=\u001B[39m \u001B[38;5;28mself\u001B[39m\u001B[38;5;241m.\u001B[39m_pre_run_hook(runtime)\n\u001B[0;32m--> 397\u001B[0m runtime \u001B[38;5;241m=\u001B[39m \u001B[38;5;28;43mself\u001B[39;49m\u001B[38;5;241;43m.\u001B[39;49m\u001B[43m_run_interface\u001B[49m\u001B[43m(\u001B[49m\u001B[43mruntime\u001B[49m\u001B[43m)\u001B[49m\n\u001B[1;32m    398\u001B[0m runtime \u001B[38;5;241m=\u001B[39m \u001B[38;5;28mself\u001B[39m\u001B[38;5;241m.\u001B[39m_post_run_hook(runtime)\n\u001B[1;32m    399\u001B[0m \u001B[38;5;66;03m# Collect outputs\u001B[39;00m\n",
      "File \u001B[0;32m~/anaconda3/lib/python3.10/site-packages/nipype/interfaces/matlab.py:164\u001B[0m, in \u001B[0;36mMatlabCommand._run_interface\u001B[0;34m(self, runtime)\u001B[0m\n\u001B[1;32m    162\u001B[0m     \u001B[38;5;28;01mpass\u001B[39;00m\n\u001B[1;32m    163\u001B[0m \u001B[38;5;28;01mif\u001B[39;00m \u001B[38;5;124m\"\u001B[39m\u001B[38;5;124mMATLAB code threw an exception\u001B[39m\u001B[38;5;124m\"\u001B[39m \u001B[38;5;129;01min\u001B[39;00m runtime\u001B[38;5;241m.\u001B[39mstderr:\n\u001B[0;32m--> 164\u001B[0m     \u001B[38;5;28;43mself\u001B[39;49m\u001B[38;5;241;43m.\u001B[39;49m\u001B[43mraise_exception\u001B[49m\u001B[43m(\u001B[49m\u001B[43mruntime\u001B[49m\u001B[43m)\u001B[49m\n\u001B[1;32m    165\u001B[0m \u001B[38;5;28;01mreturn\u001B[39;00m runtime\n",
      "File \u001B[0;32m~/anaconda3/lib/python3.10/site-packages/nipype/interfaces/base/core.py:685\u001B[0m, in \u001B[0;36mCommandLine.raise_exception\u001B[0;34m(self, runtime)\u001B[0m\n\u001B[1;32m    684\u001B[0m \u001B[38;5;28;01mdef\u001B[39;00m \u001B[38;5;21mraise_exception\u001B[39m(\u001B[38;5;28mself\u001B[39m, runtime):\n\u001B[0;32m--> 685\u001B[0m     \u001B[38;5;28;01mraise\u001B[39;00m \u001B[38;5;167;01mRuntimeError\u001B[39;00m(\n\u001B[1;32m    686\u001B[0m         (\n\u001B[1;32m    687\u001B[0m             \u001B[38;5;124m\"\u001B[39m\u001B[38;5;124mCommand:\u001B[39m\u001B[38;5;130;01m\\n\u001B[39;00m\u001B[38;5;132;01m{cmdline}\u001B[39;00m\u001B[38;5;130;01m\\n\u001B[39;00m\u001B[38;5;124mStandard output:\u001B[39m\u001B[38;5;130;01m\\n\u001B[39;00m\u001B[38;5;132;01m{stdout}\u001B[39;00m\u001B[38;5;130;01m\\n\u001B[39;00m\u001B[38;5;124m\"\u001B[39m\n\u001B[1;32m    688\u001B[0m             \u001B[38;5;124m\"\u001B[39m\u001B[38;5;124mStandard error:\u001B[39m\u001B[38;5;130;01m\\n\u001B[39;00m\u001B[38;5;132;01m{stderr}\u001B[39;00m\u001B[38;5;130;01m\\n\u001B[39;00m\u001B[38;5;124mReturn code: \u001B[39m\u001B[38;5;132;01m{returncode}\u001B[39;00m\u001B[38;5;124m\"\u001B[39m\n\u001B[1;32m    689\u001B[0m         )\u001B[38;5;241m.\u001B[39mformat(\u001B[38;5;241m*\u001B[39m\u001B[38;5;241m*\u001B[39mruntime\u001B[38;5;241m.\u001B[39mdictcopy())\n\u001B[1;32m    690\u001B[0m     )\n",
      "\u001B[0;31mRuntimeError\u001B[0m: Command:\nmatlab -nodesktop -nosplash -singleCompThread -r \"addpath('/Volumes/XXK-DISK/project9_fmri_spatial_stroop/data/output/fmri/paramGLM/bl/1stLevel/sub40');pyscript_level1design;exit\"\nStandard output:\n\n                            < M A T L A B (R) >\n                  Copyright 1984-2023 The MathWorks, Inc.\n              R2023a Update 2 (9.14.0.2254940) 64-bit (maci64)\n                               April 17, 2023\n\n \nTo get started, type doc.\nFor product information, visit www.mathworks.com.\n \nExecuting pyscript_level1design at 13-Jun-2023 17:44:35:\nExecuting pyscript_level1design at 13-Jun-2023 17:44:35:\n-----------------------------------------------------------------------------------------------------\nMATLAB Version: 9.14.0.2254940 (R2023a) Update 2\nMATLAB License Number: 40843189\nOperating System: macOS  Version: 14.0 Build: 23A5257q \nJava Version: Java 1.8.0_202-b08 with Oracle Corporation Java HotSpot(TM) 64-Bit Server VM mixed mode\n-----------------------------------------------------------------------------------------------------\nMATLAB                                                Version 9.14        (R2023a)\nSimulink                                              Version 10.7        (R2023a)\n5G Toolbox                                            Version 2.6         (R2023a)\nAUTOSAR Blockset                                      Version 3.1         (R2023a)\nAerospace Blockset                                    Version 6.0         (R2023a)\nAerospace Toolbox                                     Version 4.4         (R2023a)\nAntenna Toolbox                                       Version 5.4         (R2023a)\nAudio Toolbox                                         Version 3.4         (R2023a)\nAutomated Driving Toolbox                             Version 3.7         (R2023a)\nBioinformatics Toolbox                                Version 4.17        (R2023a)\nBluetooth Toolbox                                     Version 1.2         (R2023a)\nCommunications Toolbox                                Version 8.0         (R2023a)\nComputer Vision Toolbox                               Version 10.4        (R2023a)\nControl System Toolbox                                Version 10.13       (R2023a)\nCurve Fitting Toolbox                                 Version 3.9         (R2023a)\nDDS Blockset                                          Version 1.4         (R2023a)\nDSP HDL Toolbox                                       Version 1.2         (R2023a)\nDSP System Toolbox                                    Version 9.16        (R2023a)\nDatabase Toolbox                                      Version 11.0        (R2023a)\nDatafeed Toolbox                                      Version 6.4         (R2023a)\nDeep Learning Toolbox                                 Version 14.6        (R2023a)\nEEGLAB Toolbox to process EEG data                    Version -           see     \nEconometrics Toolbox                                  Version 6.2         (R2023a)\nEmbedded Coder                                        Version 7.10        (R2023a)\nFilter Design HDL Coder                               Version 3.1.13      (R2023a)\nFinancial Instruments Toolbox                         Version 3.6         (R2023a)\nFinancial Toolbox                                     Version 6.5         (R2023a)\nFixed-Point Designer                                  Version 7.6         (R2023a)\nFuzzy Logic Toolbox                                   Version 3.1         (R2023a)\nGlobal Optimization Toolbox                           Version 4.8.1       (R2023a)\nHDL Coder                                             Version 4.1         (R2023a)\nImage Acquisition Toolbox                             Version 6.7.1       (R2023a)\nImage Processing Toolbox                              Version 11.7        (R2023a)\nIndustrial Communication Toolbox                      Version 6.2         (R2023a)\nInstrument Control Toolbox                            Version 4.8         (R2023a)\nLTE Toolbox                                           Version 3.9         (R2023a)\nLidar Toolbox                                         Version 2.3         (R2023a)\nMATLAB Coder                                          Version 5.6         (R2023a)\nMATLAB Compiler                                       Version 8.6         (R2023a)\nMATLAB Compiler SDK                                   Version 7.2         (R2023a)\nMATLAB Report Generator                               Version 5.14        (R2023a)\nMATLAB Test                                           Version 1.0         (R2023a)\nMapping Toolbox                                       Version 5.5         (R2023a)\nMedical Imaging Toolbox                               Version 1.1         (R2023a)\nMixed-Signal Blockset                                 Version 2.4         (R2023a)\nModel Predictive Control Toolbox                      Version 8.1         (R2023a)\nMotor Control Blockset                                Version 2.0         (R2023a)\nNavigation Toolbox                                    Version 2.4         (R2023a)\nOptimization Toolbox                                  Version 9.5         (R2023a)\nParallel Computing Toolbox                            Version 7.8         (R2023a)\nPartial Differential Equation Toolbox                 Version 3.10        (R2023a)\nPhased Array System Toolbox                           Version 5.0         (R2023a)\nPowertrain Blockset                                   Version 2.0         (R2023a)\nPredictive Maintenance Toolbox                        Version 2.7         (R2023a)\nRF Blockset                                           Version 8.5         (R2023a)\nRF PCB Toolbox                                        Version 1.3         (R2023a)\nRF Toolbox                                            Version 4.5         (R2023a)\nROS Toolbox                                           Version 2.0         (R2023a)\nRadar Toolbox                                         Version 1.4         (R2023a)\nReinforcement Learning Toolbox                        Version 2.4         (R2023a)\nRequirements Toolbox                                  Version 2.2         (R2023a)\nRisk Management Toolbox                               Version 2.2         (R2023a)\nRobotics System Toolbox                               Version 4.2         (R2023a)\nRobust Control Toolbox                                Version 6.11.3      (R2023a)\nSatellite Communications Toolbox                      Version 1.4         (R2023a)\nSensor Fusion and Tracking Toolbox                    Version 2.5         (R2023a)\nSerDes Toolbox                                        Version 3.0         (R2023a)\nSignal Processing Toolbox                             Version 9.2         (R2023a)\nSimBiology                                            Version 6.4.1       (R2023a)\nSimEvents                                             Version 5.14        (R2023a)\nSimscape                                              Version 5.5         (R2023a)\nSimscape Battery                                      Version 1.1         (R2023a)\nSimscape Driveline                                    Version 3.7         (R2023a)\nSimscape Electrical                                   Version 7.9         (R2023a)\nSimscape Fluids                                       Version 3.6         (R2023a)\nSimscape Multibody                                    Version 7.7         (R2023a)\nSimulink 3D Animation                                 Version 9.6         (R2023a)\nSimulink Check                                        Version 6.2         (R2023a)\nSimulink Coder                                        Version 9.9         (R2023a)\nSimulink Compiler                                     Version 1.6         (R2023a)\nSimulink Control Design                               Version 7.0         (R2023a)\nSimulink Coverage                                     Version 5.6         (R2023a)\nSimulink Design Optimization                          Version 3.13        (R2023a)\nSimulink Design Verifier                              Version 4.9         (R2023a)\nSimulink Desktop Real-Time                            Version 5.16        (R2023a)\nSimulink PLC Coder                                    Version 3.8         (R2023a)\nSimulink Report Generator                             Version 5.14        (R2023a)\nSimulink Test                                         Version 3.8         (R2023a)\nStateflow                                             Version 10.8        (R2023a)\nStatistical Parametric Mapping                        Version 7771        (SPM12) \nStatistics and Machine Learning Toolbox               Version 12.5        (R2023a)\nSymbolic Math Toolbox                                 Version 9.3         (R2023a)\nSystem Composer                                       Version 2.4         (R2023a)\nSystem Identification Toolbox                         Version 10.1        (R2023a)\nText Analytics Toolbox                                Version 1.10        (R2023a)\nUAV Toolbox                                           Version 1.5         (R2023a)\nVehicle Dynamics Blockset                             Version 2.0         (R2023a)\nWLAN Toolbox                                          Version 3.6         (R2023a)\nWavelet Toolbox                                       Version 6.3         (R2023a)\nWireless HDL Toolbox                                  Version 2.6         (R2023a)\nSPM version: SPM12 Release: 7771\nSPM path: /Users/dddd1007/MATLAB/spm12/spm.m\nCan not initialise pmod value(s): job is not a struct.\nCan not initialise pmod value(s): job is not a struct.\nCan not initialise pmod value(s): job is not a struct.\nCan not initialise pmod value(s): job is not a struct.\nCan not initialise pmod value(s): job is not a struct.\nCan not initialise pmod value(s): job is not a struct.\n\n\n------------------------------------------------------------------------\n13-Jun-2023 17:44:52 - Running job #1\n------------------------------------------------------------------------\n13-Jun-2023 17:44:52 - Running 'fMRI model specification'\n\n= spm_run_fmri_spec ~~~~~~~~~~~~~~~~~~~~~~~~~~~~~~~~~~~~~~~~~~~~~~~~~~~~\n\tCurrent directory contains existing SPM file:\n\tContinuing will overwrite existing file!\n~~~~~~~~~~~~~~~~~~~~~~~~~~~~~~~~~~~~~~~~~~~~~~~~~~~~~~~~~~~~~~~~~~~~~~~~\n[s]top / [c]ontinue  (Default: stop)? 13-Jun-2023 17:44:52 - Failed  'fMRI model specification'\nOne or more output arguments not assigned during call to \"input\".\nIn file \"/Users/dddd1007/MATLAB/spm12/spm_input.m\" (v7564), function \"spm_input\" at line 1012.\nIn file \"/Users/dddd1007/MATLAB/spm12/config/spm_run_fmri_spec.m\" (v7739), function \"spm_run_fmri_spec\" at line 34.\n\nThe following modules did not run:\nFailed: fMRI model specification\n\nStandard error:\nMATLAB code threw an exception:\nJob execution failed. The full log of this run can be found in MATLAB command window, starting with the lines (look for the line showing the exact #job as displayed in this error message)\n------------------ \nRunning job #1\n------------------\n\nFile:\nName:MATLABbatch system\nLine:0\n2023-06-13 17:44:54.077 MATLAB_maci64[49155:11458391] CoreText note: Client requested name \".SFNS-Regular\", it will get TimesNewRomanPSMT rather than the intended font. All system UI font access should be through proper APIs such as CTFontCreateUIFontForLanguage() or +[NSFont systemFontOfSize:].\n2023-06-13 17:44:54.077 MATLAB_maci64[49155:11458391] CoreText note: Set a breakpoint on CTFontLogSystemFontNameRequest to debug.\n2023-06-13 17:44:54.079 MATLAB_maci64[49155:11458391] CoreText note: Client requested name \".SFNS-Bold\", it will get TimesNewRomanPSMT rather than the intended font. All system UI font access should be through proper APIs such as CTFontCreateUIFontForLanguage() or +[NSFont systemFontOfSize:].\n2023-06-13 17:44:54.089 MATLAB_maci64[49155:11458391] CoreText note: Client requested name \".SFNS-Regular\", it will get TimesNewRomanPSMT rather than the intended font. All system UI font access should be through proper APIs such as CTFontCreateUIFontForLanguage() or +[NSFont systemFontOfSize:].\n2023-06-13 17:44:54.089 MATLAB_maci64[49155:11458391] CoreText note: Client requested name \".SFNS-Bold\", it will get TimesNewRomanPSMT rather than the intended font. All system UI font access should be through proper APIs such as CTFontCreateUIFontForLanguage() or +[NSFont systemFontOfSize:].\nReturn code: -9"
     ]
    }
   ],
   "source": [
    "# Set the basic params\n",
    "params_name = ['congruency_num', 'bl_sr_v', 'bl_sr_PE']\n",
    "# make the contrast matrix\n",
    "condition_names = [\"run_1\", \"\", \"run_1xcongruency_num^1\", \"\", \"run_1xbl_sr_v^1\", \"\",\n",
    "                   \"run_1xbl_sr_PE^1\", \"\", \"run_error_1\", \"\", \"X\", \"Y\", \"Z\", \"x_r\", \"y_r\", \"z_r\",\n",
    "                   \"run_2\", \"\", \"run_2xcongruency_num^1\", \"\", \"run_2xbl_sr_v^1\", \"\",\n",
    "                   \"run_2xbl_sr_PE^1\", \"\", \"run_error_2\", \"\", \"X\", \"Y\", \"Z\", \"x_r\", \"y_r\", \"z_r\",\n",
    "                   \"run_3\", \"\", \"run_3xcongruency_num^1\", \"\", \"run_3xbl_sr_v^1\", \"\",\n",
    "                   \"run_3xbl_sr_PE^1\", \"\", \"run_error_3\", \"\", \"X\", \"Y\", \"Z\", \"x_r\", \"y_r\", \"z_r\",\n",
    "                   \"run_4\", \"\", \"run_4xcongruency_num^1\", \"\", \"run_4xbl_sr_v^1\", \"\",\n",
    "                   \"run_4xbl_sr_PE^1\", \"\", \"run_error_4\", \"\", \"X\", \"Y\", \"Z\", \"x_r\", \"y_r\", \"z_r\",\n",
    "                   \"run_5\", \"\", \"run_5xcongruency_num^1\", \"\", \"run_5xbl_sr_v^1\", \"\",\n",
    "                   \"run_5xbl_sr_PE^1\", \"\", \"run_error_5\", \"\", \"X\", \"Y\", \"Z\", \"x_r\", \"y_r\", \"z_r\",\n",
    "                   \"run_6\", \"\", \"run_6xcongruency_num^1\", \"\", \"run_6xbl_sr_v^1\", \"\",\n",
    "                   \"run_6xbl_sr_PE^1\", \"\", \"run_error_6\", \"\", \"X\", \"Y\", \"Z\", \"x_r\", \"y_r\", \"z_r\"]\n",
    "cont1 = [\"-V\", 'T', condition_names,   [0, 0, 0, 0,-1, 0, 0, 0, 0, 0, 0, 0, 0, 0, 0, 0,\n",
    "                                        0, 0, 0, 0,-1, 0, 0, 0, 0, 0, 0, 0, 0, 0, 0, 0,\n",
    "                                        0, 0, 0, 0,-1, 0, 0, 0, 0, 0, 0, 0, 0, 0, 0, 0,\n",
    "                                        0, 0, 0, 0,-1, 0, 0, 0, 0, 0, 0, 0, 0, 0, 0, 0,\n",
    "                                        0, 0, 0, 0,-1, 0, 0, 0, 0, 0, 0, 0, 0, 0, 0, 0,\n",
    "                                        0, 0, 0, 0,-1, 0, 0, 0, 0, 0, 0, 0, 0, 0, 0, 0]]\n",
    "cont2 = [\"PE\", 'T', condition_names,   [0, 0, 0, 0, 0, 0, 1, 0, 0, 0, 0, 0, 0, 0, 0, 0,\n",
    "                                        0, 0, 0, 0, 0, 0, 1, 0, 0, 0, 0, 0, 0, 0, 0, 0,\n",
    "                                        0, 0, 0, 0, 0, 0, 1, 0, 0, 0, 0, 0, 0, 0, 0, 0,\n",
    "                                        0, 0, 0, 0, 0, 0, 1, 0, 0, 0, 0, 0, 0, 0, 0, 0,\n",
    "                                        0, 0, 0, 0, 0, 0, 1, 0, 0, 0, 0, 0, 0, 0, 0, 0,\n",
    "                                        0, 0, 0, 0, 0, 0, 1, 0, 0, 0, 0, 0, 0, 0, 0, 0]]\n",
    "contrast_list = [cont1, cont2]\n",
    "# batch analysis\n",
    "inputs = [40]\n",
    "def bl_processInput(sub_num):\n",
    "    estimate_result = xia_fmri_workflow.workflow_param_glm_1stlevel(root_dir, sub_num, session_num, params_name, all_data, output_dir, \"bl\")\n",
    "    contrast_result = xia_fmri_workflow.workflow_contrast(estimate_result, contrast_list)\n",
    "\n",
    "for sub_num in inputs:\n",
    "    print(\"Processing subject %d\" % sub_num)\n",
    "    bl_processInput(sub_num)"
   ]
  },
  {
   "cell_type": "code",
   "execution_count": 11,
   "outputs": [
    {
     "name": "stdout",
     "output_type": "stream",
     "text": [
      "Generating SPM model for subject 41...\n"
     ]
    }
   ],
   "source": [
    "# The sub 41 don't have the session 1, so we treat it specially\n",
    "\n",
    "# Set the basic params\n",
    "params_name = ['congruency_num', 'bl_sr_v', 'bl_sr_PE']\n",
    "# make the contrast matrix\n",
    "condition_names = [\"run_2\", \"\", \"run_2xcongruency_num^1\", \"\", \"run_2xbl_sr_v^1\", \"\",\n",
    "                   \"run_2xbl_sr_PE^1\", \"\", \"run_error_2\", \"\", \"X\", \"Y\", \"Z\", \"x_r\", \"y_r\", \"z_r\",\n",
    "                   \"run_3\", \"\", \"run_3xcongruency_num^1\", \"\", \"run_3xbl_sr_v^1\", \"\",\n",
    "                   \"run_3xbl_sr_PE^1\", \"\", \"run_error_3\", \"\", \"X\", \"Y\", \"Z\", \"x_r\", \"y_r\", \"z_r\",\n",
    "                   \"run_4\", \"\", \"run_4xcongruency_num^1\", \"\", \"run_4xbl_sr_v^1\", \"\",\n",
    "                   \"run_4xbl_sr_PE^1\", \"\", \"run_error_4\", \"\", \"X\", \"Y\", \"Z\", \"x_r\", \"y_r\", \"z_r\",\n",
    "                   \"run_5\", \"\", \"run_5xcongruency_num^1\", \"\", \"run_5xbl_sr_v^1\", \"\",\n",
    "                   \"run_5xbl_sr_PE^1\", \"\", \"run_error_5\", \"\", \"X\", \"Y\", \"Z\", \"x_r\", \"y_r\", \"z_r\",\n",
    "                   \"run_6\", \"\", \"run_6xcongruency_num^1\", \"\", \"run_6xbl_sr_v^1\", \"\",\n",
    "                   \"run_6xbl_sr_PE^1\", \"\", \"run_error_6\", \"\", \"X\", \"Y\", \"Z\", \"x_r\", \"y_r\", \"z_r\"]\n",
    "cont1 = [\"-V\", 'T', condition_names,   [\n",
    "                                        0, 0, 0, 0,-1, 0, 0, 0, 0, 0, 0, 0, 0, 0, 0, 0,\n",
    "                                        0, 0, 0, 0,-1, 0, 0, 0, 0, 0, 0, 0, 0, 0, 0, 0,\n",
    "                                        0, 0, 0, 0,-1, 0, 0, 0, 0, 0, 0, 0, 0, 0, 0, 0,\n",
    "                                        0, 0, 0, 0,-1, 0, 0, 0, 0, 0, 0, 0, 0, 0, 0, 0,\n",
    "                                        0, 0, 0, 0,-1, 0, 0, 0, 0, 0, 0, 0, 0, 0, 0, 0]]\n",
    "cont2 = [\"PE\", 'T', condition_names,   [\n",
    "                                        0, 0, 0, 0, 0, 0, 1, 0, 0, 0, 0, 0, 0, 0, 0, 0,\n",
    "                                        0, 0, 0, 0, 0, 0, 1, 0, 0, 0, 0, 0, 0, 0, 0, 0,\n",
    "                                        0, 0, 0, 0, 0, 0, 1, 0, 0, 0, 0, 0, 0, 0, 0, 0,\n",
    "                                        0, 0, 0, 0, 0, 0, 1, 0, 0, 0, 0, 0, 0, 0, 0, 0,\n",
    "                                        0, 0, 0, 0, 0, 0, 1, 0, 0, 0, 0, 0, 0, 0, 0, 0]]\n",
    "contrast_list = [cont1, cont2]\n",
    "\n",
    "# Modified the function in the workflow\n",
    "import pandas as pd\n",
    "import os\n",
    "import re\n",
    "import scipy.io\n",
    "from pathlib import Path\n",
    "from nipype.interfaces.spm import Level1Design, EstimateModel, EstimateContrast\n",
    "from nipype.algorithms.modelgen import SpecifySPMModel\n",
    "def nii_selector(root_dir, sub_num, session_num, all_sub_dataframe, data_type=\"Smooth_8mm\"):\n",
    "    import os\n",
    "    import glob\n",
    "    session_list = [\"session\" + str(i) for i in range(2, session_num+1)]\n",
    "    sub_name = \"sub\"+str(sub_num)\n",
    "    # print(file_path)\n",
    "    nii_list = []\n",
    "    realignment_para_file_list = []\n",
    "    for s in session_list:\n",
    "        file_path = os.path.join(root_dir, sub_name, data_type, s)\n",
    "        Orig_path = os.path.join(root_dir, sub_name, 'Orig', s)\n",
    "        nii_list.append(sorted(glob.glob(file_path + \"/*.nii\")))\n",
    "        realignment_para_file_list.append(glob.glob(Orig_path + \"/rp_*.txt\"))\n",
    "\n",
    "    single_sub_data = all_sub_dataframe[all_sub_dataframe.sub_num == sub_num]\n",
    "    return (nii_list, realignment_para_file_list, single_sub_data, sub_name)\n",
    "\n",
    "\n",
    "def head_movement_regressor_generator(single_realignment_para_file):\n",
    "    import numpy as np\n",
    "    if type(single_realignment_para_file) is list:\n",
    "        single_realignment_para_file = single_realignment_para_file[0]\n",
    "    relignment_params = np.loadtxt(single_realignment_para_file)\n",
    "    head_movement_regressor = relignment_params.T.tolist()\n",
    "    return head_movement_regressor\n",
    "\n",
    "# Build the relationship between onsets and parameters\n",
    "\n",
    "\n",
    "def factor_condition_generator(single_sub_data, factors_name, realignment_para_file_list, duration=0):\n",
    "    \"\"\"Build a bunch to show the relationship between each onset and parameter\n",
    "\n",
    "    Build a bunch for make a design matrix for next analysis. This bunch is for describing the relationship\n",
    "    between each onset and parameter.\n",
    "\n",
    "    Args:\n",
    "        single_sub_data: A pandas DataFrame which contains data for one subject.\n",
    "                        It must contains the information about run, onsets, and parameters.\n",
    "        factors_name: A list of names of conditions which you want to analysis.\n",
    "        duration: The duration of a TR.\n",
    "\n",
    "    Returns:\n",
    "        subject_info: A list of bunch type which can be resolve by SpecifySPMModel interface in nipype.\n",
    "    \"\"\"\n",
    "    from nipype.interfaces.base import Bunch\n",
    "    run_num = set(single_sub_data.run)\n",
    "    subject_info = []\n",
    "    for i in run_num:\n",
    "        single_run_table = single_sub_data[single_sub_data.run == i]\n",
    "\n",
    "        tmp_table_right = single_run_table[single_run_table['stim_resp.corr'] == 1]\n",
    "        tmp_table_wrong = single_run_table[single_run_table['stim_resp.corr'] == 0]\n",
    "\n",
    "        condition_table = pd.DataFrame()\n",
    "        condition_table[factors_name] = tmp_table_right[factors_name].astype(\n",
    "            \"category\")\n",
    "        condition_table['onset'] = tmp_table_right.onset\n",
    "        onset_condition_table = condition_table.pivot(\n",
    "            values='onset', columns=factors_name)\n",
    "\n",
    "        bunch_condition = []\n",
    "        bunch_onsets = []\n",
    "        bunch_duration = []\n",
    "\n",
    "        error_onsets = tmp_table_wrong.onset.values.tolist()\n",
    "        if len(error_onsets) == 0:\n",
    "            error_onsets = [510]\n",
    "\n",
    "        for j in range(len(onset_condition_table.columns)):\n",
    "            bunch_condition.append(\n",
    "                'run_' + str(i) + '_' + str(onset_condition_table.columns[j]))\n",
    "            bunch_onsets.append(\n",
    "                onset_condition_table[onset_condition_table.columns[j]].dropna(how='all').tolist())\n",
    "            bunch_duration.append([duration])\n",
    "        bunch_condition.append(\"run_error_\"+str(i))\n",
    "        bunch_onsets.append(error_onsets)\n",
    "        bunch_duration.append([duration])\n",
    "        tmp_Bunch = Bunch(conditions=bunch_condition,\n",
    "                          onsets=bunch_onsets,\n",
    "                          durations=bunch_duration,\n",
    "                          regressor_names=['X', 'Y', 'Z', 'x_r', 'y_r', 'z_r'],\n",
    "                          regressors=head_movement_regressor_generator(realignment_para_file_list[i-1]))\n",
    "        subject_info.append(tmp_Bunch)\n",
    "    return subject_info\n",
    "\n",
    "\n",
    "def parametric_condition_generator(single_sub_data, params_name, realignment_para_file_list, duration=0, centering=True):\n",
    "    from nipype.interfaces.base import Bunch\n",
    "    import numpy as np\n",
    "    run_num = set(single_sub_data.run_num)\n",
    "    print(run_num)\n",
    "    subject_info = []\n",
    "    for i in run_num:\n",
    "        tmp_table = single_sub_data[single_sub_data.run == i]\n",
    "\n",
    "        tmp_table_right = tmp_table[tmp_table['stim_resp.corr'] == 1]\n",
    "        tmp_table_wrong = tmp_table[tmp_table['stim_resp.corr'] == 0]\n",
    "\n",
    "        pmod_names = []\n",
    "        pmod_params = []\n",
    "        pmod_poly = []\n",
    "        for param in params_name:\n",
    "            param_value = tmp_table_right[param].values.tolist()\n",
    "            demean_value = param_value - np.mean(param_value)\n",
    "            centered_value = demean_value / np.max(demean_value)\n",
    "            if centering == True:\n",
    "                # Doing the mean centering\n",
    "                pmod_params.append(centered_value.tolist())\n",
    "            elif centering == False:\n",
    "                pmod_params.append(param_value)\n",
    "            pmod_names.append(param)\n",
    "            pmod_poly.append(1)\n",
    "\n",
    "        error_onsets = tmp_table_wrong.onset.values.tolist()\n",
    "        if len(error_onsets) == 0:\n",
    "            error_onsets = [510]\n",
    "\n",
    "        tmp_Bunch = Bunch(conditions=[\"run_\"+str(i), \"run_error_\"+str(i)],\n",
    "                          onsets=[tmp_table_right.onset.values.tolist(),\n",
    "                                  error_onsets],\n",
    "                          durations=[[duration], [duration]],\n",
    "                          pmod=[Bunch(name=pmod_names, poly=pmod_poly,\n",
    "                                      param=pmod_params), None],\n",
    "                          regressor_names=['X', 'Y', 'Z', 'x_r', 'y_r', 'z_r'],\n",
    "                          regressors=head_movement_regressor_generator(realignment_para_file_list[i-2]))\n",
    "        subject_info.append(tmp_Bunch)\n",
    "\n",
    "    return subject_info\n",
    "\n",
    "\n",
    "def generate_spm_conditions(matfile):\n",
    "    spm = scipy.io.loadmat(matfile)\n",
    "    all_conditions_list = spm['SPM'][0][0]['xX']['name'][0][0][0].tolist()\n",
    "    all_conditions = [x.tolist()[0] for x in spm['SPM'][0][0]['xX']['name'][0][0][0].tolist()]\n",
    "    condition_names = [re.sub(\"Sn\\(.\\) \", \"\", i) for i in all_conditions]\n",
    "    conditions_count = len(all_conditions) / 6\n",
    "    single_run_conditions = [all_conditions_list[x][0] for x in range(int(conditions_count - 1))]\n",
    "\n",
    "    return condition_names, single_run_conditions\n",
    "\n",
    "output_dir = \"/Volumes/XXK-DISK/project9_fmri_spatial_stroop/data/output/fmri/paramGLM/bl/1stLevel/sub41\"\n",
    "Path(output_dir).mkdir(parents=True, exist_ok=True)\n",
    "os.chdir(output_dir)\n",
    "root_dir = \"/Volumes/XXK-DISK/project9_fmri_spatial_stroop/data/input/fmri_data/nii/\"\n",
    "sub_num = 41\n",
    "session_num = 6\n",
    "\n",
    "print(\"Generating SPM model for subject \" + str(sub_num) + \"...\")"
   ],
   "metadata": {
    "collapsed": false,
    "ExecuteTime": {
     "end_time": "2023-06-13T09:47:35.511446Z",
     "start_time": "2023-06-13T09:47:35.508668Z"
    }
   }
  },
  {
   "cell_type": "code",
   "execution_count": 12,
   "outputs": [],
   "source": [
    "nii_list, realignment_para_file_list, single_sub_data, sub_name = nii_selector(\n",
    "    root_dir, sub_num, session_num, all_data)"
   ],
   "metadata": {
    "collapsed": false,
    "ExecuteTime": {
     "end_time": "2023-06-13T09:47:37.200150Z",
     "start_time": "2023-06-13T09:47:37.188841Z"
    }
   }
  },
  {
   "cell_type": "code",
   "execution_count": 13,
   "outputs": [
    {
     "data": {
      "text/plain": "       run_num  sub_num  run volatile  volatile_num prop  prop_num congruency  \\\n29920        2       41    2        s             0   MC         1        inc   \n29921        2       41    2        s             0   MC         1        con   \n29922        2       41    2        s             0   MC         1        con   \n29923        2       41    2        s             0   MC         1        con   \n29924        2       41    2        s             0   MC         1        con   \n...        ...      ...  ...      ...           ...  ...       ...        ...   \n30715        6       41    6        v             1   MC         1        con   \n30716        6       41    6        v             1   MC         1        con   \n30717        6       41    6        v             1   MC         1        con   \n30718        6       41    6        v             1   MC         1        con   \n30719        6       41    6        v             1   MC         1        con   \n\n       congruency_num  corr_resp  ...   bl_ab_v  bl_ab_r_selected  bl_ab_PE  \\\n29920               0          1  ...  4.963209          0.773092  0.226908   \n29921               1          4  ...  4.963700          0.222919  0.777081   \n29922               1          1  ...  4.963956          0.213475  0.786525   \n29923               1          4  ...  4.965966          0.205910  0.794090   \n29924               1          1  ...  4.966732          0.199431  0.800569   \n...               ...        ...  ...       ...               ...       ...   \n30715               1          1  ...  4.281864          0.251991  0.748009   \n30716               1          4  ...  4.281881          0.232993  0.767007   \n30717               1          1  ...  4.283738          0.221885  0.778115   \n30718               1          1  ...  4.287053          0.212162  0.787838   \n30719               1          4  ...  4.284957          0.205788  0.794212   \n\n       bl_sr_ll  bl_sr_lr  bl_sr_rl  bl_sr_rr   bl_sr_v  bl_sr_r_selected  \\\n29920  0.808799  0.191201  0.277865  0.722135 -5.897234          0.808799   \n29921  0.809778  0.190222  0.275069  0.724931 -5.928867          0.190222   \n29922  0.811095  0.188905  0.268670  0.731330 -5.956105          0.268670   \n29923  0.812974  0.187026  0.262800  0.737200 -5.977163          0.187026   \n29924  0.813405  0.186595  0.257680  0.742320 -5.996497          0.257680   \n...         ...       ...       ...       ...       ...               ...   \n30715  0.778356  0.221644  0.298691  0.701309 -5.260125          0.298691   \n30716  0.784596  0.215404  0.292521  0.707479 -5.270535          0.215404   \n30717  0.788031  0.211969  0.287038  0.712962 -5.273093          0.287038   \n30718  0.791348  0.208652  0.284497  0.715503 -5.275823          0.284497   \n30719  0.793062  0.206938  0.281757  0.718243 -5.277349          0.206938   \n\n       bl_sr_PE  \n29920  0.191201  \n29921  0.809778  \n29922  0.731330  \n29923  0.812974  \n29924  0.742320  \n...         ...  \n30715  0.701309  \n30716  0.784596  \n30717  0.712962  \n30718  0.715503  \n30719  0.793062  \n\n[800 rows x 49 columns]",
      "text/html": "<div>\n<style scoped>\n    .dataframe tbody tr th:only-of-type {\n        vertical-align: middle;\n    }\n\n    .dataframe tbody tr th {\n        vertical-align: top;\n    }\n\n    .dataframe thead th {\n        text-align: right;\n    }\n</style>\n<table border=\"1\" class=\"dataframe\">\n  <thead>\n    <tr style=\"text-align: right;\">\n      <th></th>\n      <th>run_num</th>\n      <th>sub_num</th>\n      <th>run</th>\n      <th>volatile</th>\n      <th>volatile_num</th>\n      <th>prop</th>\n      <th>prop_num</th>\n      <th>congruency</th>\n      <th>congruency_num</th>\n      <th>corr_resp</th>\n      <th>...</th>\n      <th>bl_ab_v</th>\n      <th>bl_ab_r_selected</th>\n      <th>bl_ab_PE</th>\n      <th>bl_sr_ll</th>\n      <th>bl_sr_lr</th>\n      <th>bl_sr_rl</th>\n      <th>bl_sr_rr</th>\n      <th>bl_sr_v</th>\n      <th>bl_sr_r_selected</th>\n      <th>bl_sr_PE</th>\n    </tr>\n  </thead>\n  <tbody>\n    <tr>\n      <th>29920</th>\n      <td>2</td>\n      <td>41</td>\n      <td>2</td>\n      <td>s</td>\n      <td>0</td>\n      <td>MC</td>\n      <td>1</td>\n      <td>inc</td>\n      <td>0</td>\n      <td>1</td>\n      <td>...</td>\n      <td>4.963209</td>\n      <td>0.773092</td>\n      <td>0.226908</td>\n      <td>0.808799</td>\n      <td>0.191201</td>\n      <td>0.277865</td>\n      <td>0.722135</td>\n      <td>-5.897234</td>\n      <td>0.808799</td>\n      <td>0.191201</td>\n    </tr>\n    <tr>\n      <th>29921</th>\n      <td>2</td>\n      <td>41</td>\n      <td>2</td>\n      <td>s</td>\n      <td>0</td>\n      <td>MC</td>\n      <td>1</td>\n      <td>con</td>\n      <td>1</td>\n      <td>4</td>\n      <td>...</td>\n      <td>4.963700</td>\n      <td>0.222919</td>\n      <td>0.777081</td>\n      <td>0.809778</td>\n      <td>0.190222</td>\n      <td>0.275069</td>\n      <td>0.724931</td>\n      <td>-5.928867</td>\n      <td>0.190222</td>\n      <td>0.809778</td>\n    </tr>\n    <tr>\n      <th>29922</th>\n      <td>2</td>\n      <td>41</td>\n      <td>2</td>\n      <td>s</td>\n      <td>0</td>\n      <td>MC</td>\n      <td>1</td>\n      <td>con</td>\n      <td>1</td>\n      <td>1</td>\n      <td>...</td>\n      <td>4.963956</td>\n      <td>0.213475</td>\n      <td>0.786525</td>\n      <td>0.811095</td>\n      <td>0.188905</td>\n      <td>0.268670</td>\n      <td>0.731330</td>\n      <td>-5.956105</td>\n      <td>0.268670</td>\n      <td>0.731330</td>\n    </tr>\n    <tr>\n      <th>29923</th>\n      <td>2</td>\n      <td>41</td>\n      <td>2</td>\n      <td>s</td>\n      <td>0</td>\n      <td>MC</td>\n      <td>1</td>\n      <td>con</td>\n      <td>1</td>\n      <td>4</td>\n      <td>...</td>\n      <td>4.965966</td>\n      <td>0.205910</td>\n      <td>0.794090</td>\n      <td>0.812974</td>\n      <td>0.187026</td>\n      <td>0.262800</td>\n      <td>0.737200</td>\n      <td>-5.977163</td>\n      <td>0.187026</td>\n      <td>0.812974</td>\n    </tr>\n    <tr>\n      <th>29924</th>\n      <td>2</td>\n      <td>41</td>\n      <td>2</td>\n      <td>s</td>\n      <td>0</td>\n      <td>MC</td>\n      <td>1</td>\n      <td>con</td>\n      <td>1</td>\n      <td>1</td>\n      <td>...</td>\n      <td>4.966732</td>\n      <td>0.199431</td>\n      <td>0.800569</td>\n      <td>0.813405</td>\n      <td>0.186595</td>\n      <td>0.257680</td>\n      <td>0.742320</td>\n      <td>-5.996497</td>\n      <td>0.257680</td>\n      <td>0.742320</td>\n    </tr>\n    <tr>\n      <th>...</th>\n      <td>...</td>\n      <td>...</td>\n      <td>...</td>\n      <td>...</td>\n      <td>...</td>\n      <td>...</td>\n      <td>...</td>\n      <td>...</td>\n      <td>...</td>\n      <td>...</td>\n      <td>...</td>\n      <td>...</td>\n      <td>...</td>\n      <td>...</td>\n      <td>...</td>\n      <td>...</td>\n      <td>...</td>\n      <td>...</td>\n      <td>...</td>\n      <td>...</td>\n      <td>...</td>\n    </tr>\n    <tr>\n      <th>30715</th>\n      <td>6</td>\n      <td>41</td>\n      <td>6</td>\n      <td>v</td>\n      <td>1</td>\n      <td>MC</td>\n      <td>1</td>\n      <td>con</td>\n      <td>1</td>\n      <td>1</td>\n      <td>...</td>\n      <td>4.281864</td>\n      <td>0.251991</td>\n      <td>0.748009</td>\n      <td>0.778356</td>\n      <td>0.221644</td>\n      <td>0.298691</td>\n      <td>0.701309</td>\n      <td>-5.260125</td>\n      <td>0.298691</td>\n      <td>0.701309</td>\n    </tr>\n    <tr>\n      <th>30716</th>\n      <td>6</td>\n      <td>41</td>\n      <td>6</td>\n      <td>v</td>\n      <td>1</td>\n      <td>MC</td>\n      <td>1</td>\n      <td>con</td>\n      <td>1</td>\n      <td>4</td>\n      <td>...</td>\n      <td>4.281881</td>\n      <td>0.232993</td>\n      <td>0.767007</td>\n      <td>0.784596</td>\n      <td>0.215404</td>\n      <td>0.292521</td>\n      <td>0.707479</td>\n      <td>-5.270535</td>\n      <td>0.215404</td>\n      <td>0.784596</td>\n    </tr>\n    <tr>\n      <th>30717</th>\n      <td>6</td>\n      <td>41</td>\n      <td>6</td>\n      <td>v</td>\n      <td>1</td>\n      <td>MC</td>\n      <td>1</td>\n      <td>con</td>\n      <td>1</td>\n      <td>1</td>\n      <td>...</td>\n      <td>4.283738</td>\n      <td>0.221885</td>\n      <td>0.778115</td>\n      <td>0.788031</td>\n      <td>0.211969</td>\n      <td>0.287038</td>\n      <td>0.712962</td>\n      <td>-5.273093</td>\n      <td>0.287038</td>\n      <td>0.712962</td>\n    </tr>\n    <tr>\n      <th>30718</th>\n      <td>6</td>\n      <td>41</td>\n      <td>6</td>\n      <td>v</td>\n      <td>1</td>\n      <td>MC</td>\n      <td>1</td>\n      <td>con</td>\n      <td>1</td>\n      <td>1</td>\n      <td>...</td>\n      <td>4.287053</td>\n      <td>0.212162</td>\n      <td>0.787838</td>\n      <td>0.791348</td>\n      <td>0.208652</td>\n      <td>0.284497</td>\n      <td>0.715503</td>\n      <td>-5.275823</td>\n      <td>0.284497</td>\n      <td>0.715503</td>\n    </tr>\n    <tr>\n      <th>30719</th>\n      <td>6</td>\n      <td>41</td>\n      <td>6</td>\n      <td>v</td>\n      <td>1</td>\n      <td>MC</td>\n      <td>1</td>\n      <td>con</td>\n      <td>1</td>\n      <td>4</td>\n      <td>...</td>\n      <td>4.284957</td>\n      <td>0.205788</td>\n      <td>0.794212</td>\n      <td>0.793062</td>\n      <td>0.206938</td>\n      <td>0.281757</td>\n      <td>0.718243</td>\n      <td>-5.277349</td>\n      <td>0.206938</td>\n      <td>0.793062</td>\n    </tr>\n  </tbody>\n</table>\n<p>800 rows × 49 columns</p>\n</div>"
     },
     "execution_count": 13,
     "metadata": {},
     "output_type": "execute_result"
    }
   ],
   "source": [
    "single_sub_data = single_sub_data[single_sub_data.run_num >= 2]\n",
    "single_sub_data"
   ],
   "metadata": {
    "collapsed": false,
    "ExecuteTime": {
     "end_time": "2023-06-13T09:47:38.899921Z",
     "start_time": "2023-06-13T09:47:38.895956Z"
    }
   }
  },
  {
   "cell_type": "code",
   "execution_count": 14,
   "outputs": [
    {
     "name": "stdout",
     "output_type": "stream",
     "text": [
      "[['/Volumes/XXK-DISK/project9_fmri_spatial_stroop/data/input/fmri_data/nii/sub41/Orig/session2/rp_f202303076_wl-180354-00005-00005-1.txt'], ['/Volumes/XXK-DISK/project9_fmri_spatial_stroop/data/input/fmri_data/nii/sub41/Orig/session3/rp_f202303076_wl-181757-00005-00005-1.txt'], ['/Volumes/XXK-DISK/project9_fmri_spatial_stroop/data/input/fmri_data/nii/sub41/Orig/session4/rp_f202303076_wl-183251-00005-00005-1.txt'], ['/Volumes/XXK-DISK/project9_fmri_spatial_stroop/data/input/fmri_data/nii/sub41/Orig/session5/rp_f202303076_wl-184705-00005-00005-1.txt'], ['/Volumes/XXK-DISK/project9_fmri_spatial_stroop/data/input/fmri_data/nii/sub41/Orig/session6/rp_f202303076_wl-190109-00005-00005-1.txt']]\n",
      "{2, 3, 4, 5, 6}\n"
     ]
    }
   ],
   "source": [
    "print(realignment_para_file_list)\n",
    "subject_info = parametric_condition_generator(\n",
    "    single_sub_data, params_name, realignment_para_file_list, centering=False)"
   ],
   "metadata": {
    "collapsed": false,
    "ExecuteTime": {
     "end_time": "2023-06-13T09:47:39.870170Z",
     "start_time": "2023-06-13T09:47:39.841877Z"
    }
   }
  },
  {
   "cell_type": "code",
   "execution_count": 15,
   "outputs": [],
   "source": [
    "gen_model = SpecifySPMModel(concatenate_runs=False,\n",
    "                            input_units='scans',\n",
    "                            output_units='scans',\n",
    "                            time_repetition=1.5,\n",
    "                            high_pass_filter_cutoff=128,\n",
    "                            subject_info=subject_info,\n",
    "                            functional_runs=nii_list)\n",
    "spmModel = gen_model.run()"
   ],
   "metadata": {
    "collapsed": false,
    "ExecuteTime": {
     "end_time": "2023-06-13T09:47:49.287938Z",
     "start_time": "2023-06-13T09:47:49.232143Z"
    }
   }
  },
  {
   "cell_type": "code",
   "execution_count": 16,
   "outputs": [
    {
     "name": "stdout",
     "output_type": "stream",
     "text": [
      "Estimating SPM model for subject 41 (1/2)...\n"
     ]
    },
    {
     "name": "stderr",
     "output_type": "stream",
     "text": [
      "stty: stdin isn't a terminal\n",
      "stty: stdin isn't a terminal\n"
     ]
    },
    {
     "name": "stdout",
     "output_type": "stream",
     "text": [
      "Contrast SPM model for subject 41 (2/2)...\n"
     ]
    },
    {
     "name": "stderr",
     "output_type": "stream",
     "text": [
      "stty: stdin isn't a terminal\n"
     ]
    }
   ],
   "source": [
    "print(\"Estimating SPM model for subject \" + str(sub_num) + \" (1/2)...\")\n",
    "design_model = Level1Design(bases={'hrf': {'derivs': [1, 0]}},\n",
    "                            timing_units='scans',\n",
    "                            interscan_interval=1.5,\n",
    "                            microtime_resolution=32,\n",
    "                            microtime_onset=1,\n",
    "                            session_info=spmModel.outputs.session_info,\n",
    "                            spm_mat_dir=output_dir)\n",
    "\n",
    "firstLevelModel = design_model.run()\n",
    "\n",
    "print(\"Contrast SPM model for subject \" + str(sub_num) + \" (2/2)...\")\n",
    "estimator = EstimateModel(estimation_method={'Classical': 1},\n",
    "                          spm_mat_file=firstLevelModel.outputs.spm_mat_file)\n",
    "estimateResult = estimator.run()"
   ],
   "metadata": {
    "collapsed": false,
    "ExecuteTime": {
     "end_time": "2023-06-13T10:04:23.301241Z",
     "start_time": "2023-06-13T09:47:55.938595Z"
    }
   }
  },
  {
   "cell_type": "code",
   "execution_count": 17,
   "outputs": [
    {
     "name": "stdout",
     "output_type": "stream",
     "text": [
      "Contrast SPM model\n"
     ]
    },
    {
     "name": "stderr",
     "output_type": "stream",
     "text": [
      "stty: stdin isn't a terminal\n"
     ]
    }
   ],
   "source": [
    "print(\"Contrast SPM model\")\n",
    "level1conest = EstimateContrast(beta_images=estimateResult.outputs.beta_images,\n",
    "                                residual_image=estimateResult.outputs.residual_image,\n",
    "                                spm_mat_file=estimateResult.outputs.spm_mat_file,\n",
    "                                contrasts=contrast_list)\n",
    "contrastResult = level1conest.run()"
   ],
   "metadata": {
    "collapsed": false,
    "ExecuteTime": {
     "end_time": "2023-06-13T10:30:58.651492Z",
     "start_time": "2023-06-13T10:30:15.158300Z"
    }
   }
  },
  {
   "attachments": {},
   "cell_type": "markdown",
   "metadata": {
    "collapsed": false
   },
   "source": [
    "### 2.2 Reinforcement learning"
   ]
  },
  {
   "cell_type": "code",
   "execution_count": 19,
   "metadata": {
    "collapsed": false,
    "ExecuteTime": {
     "end_time": "2023-06-13T10:35:38.447944Z",
     "start_time": "2023-06-13T10:35:38.441449Z"
    }
   },
   "outputs": [],
   "source": [
    "# Set the basic params\n",
    "params_name = ['congruency_num', 'rl_sr_v_pe']\n",
    "# make the contrast matrix\n",
    "condition_names = [\"run_1\", \"\", \"run_1xcongruency_num^1\", \"\", \"run_1xrl_sr_v_pe^1\", \"\",\n",
    "                   \"run_error_1\", \"\", \"X\", \"Y\", \"Z\", \"x_r\", \"y_r\", \"z_r\",\n",
    "                   \"run_2\", \"\", \"run_2xcongruency_num^1\", \"\", \"run_2xrl_sr_v_pe^1\", \"\",\n",
    "                   \"run_error_2\", \"\", \"X\", \"Y\", \"Z\", \"x_r\", \"y_r\", \"z_r\",\n",
    "                   \"run_3\", \"\", \"run_3xcongruency_num^1\", \"\", \"run_3xrl_sr_v_pe^1\", \"\",\n",
    "                   \"run_error_3\", \"\", \"X\", \"Y\", \"Z\", \"x_r\", \"y_r\", \"z_r\",\n",
    "                   \"run_4\", \"\", \"run_4xcongruency_num^1\", \"\", \"run_4xrl_sr_v_pe^1\", \"\",\n",
    "                   \"run_error_4\", \"\", \"X\", \"Y\", \"Z\", \"x_r\", \"y_r\", \"z_r\",\n",
    "                   \"run_5\", \"\", \"run_5xcongruency_num^1\", \"\", \"run_5xrl_sr_v_pe^1\", \"\",\n",
    "                   \"run_error_5\", \"\", \"X\", \"Y\", \"Z\", \"x_r\", \"y_r\", \"z_r\",\n",
    "                   \"run_6\", \"\", \"run_6xcongruency_num^1\", \"\", \"run_6xrl_sr_v_pe^1\", \"\",\n",
    "                   \"run_error_6\", \"\", \"X\", \"Y\", \"Z\", \"x_r\", \"y_r\", \"z_r\"]\n",
    "cont1 = [\"-V\", 'T', condition_names,   [0, 0, 0, 0, 1, 0, 0, 0, 0, 0, 0, 0, 0, 0,\n",
    "                                        0, 0, 0, 0, 1, 0, 0, 0, 0, 0, 0, 0, 0, 0,\n",
    "                                        0, 0, 0, 0, 1, 0, 0, 0, 0, 0, 0, 0, 0, 0,\n",
    "                                        0, 0, 0, 0, 1, 0, 0, 0, 0, 0, 0, 0, 0, 0,\n",
    "                                        0, 0, 0, 0, 1, 0, 0, 0, 0, 0, 0, 0, 0, 0,\n",
    "                                        0, 0, 0, 0, 1, 0, 0, 0, 0, 0, 0, 0, 0, 0]]\n",
    "contrast_list = [cont1]"
   ]
  },
  {
   "cell_type": "code",
   "execution_count": null,
   "metadata": {
    "collapsed": false,
    "pycharm": {
     "is_executing": true
    },
    "is_executing": true,
    "ExecuteTime": {
     "start_time": "2023-06-13T12:08:06.057322Z"
    }
   },
   "outputs": [
    {
     "name": "stderr",
     "output_type": "stream",
     "text": [
      "stty: stdin isn't a terminal\n",
      "stty: stdin isn't a terminal\n"
     ]
    }
   ],
   "source": [
    "# batch analysis\n",
    "sub_num_list = pd.unique(all_data['sub_num'])\n",
    "inputs = [43] # sub_num_list[(sub_num_list >= 34) & (sub_num_list != 41)]\n",
    "def rl_processInput(sub_num):\n",
    "    estimate_result = xia_fmri_workflow.workflow_param_glm_1stlevel(root_dir, sub_num, session_num, params_name, all_data, output_dir, \"rl\")\n",
    "    contrast_result = xia_fmri_workflow.workflow_contrast(estimate_result, contrast_list)\n",
    "\n",
    "results = Parallel(n_jobs=num_cores)(delayed(rl_processInput)(sub_num) for sub_num in inputs)"
   ]
  },
  {
   "cell_type": "code",
   "execution_count": null,
   "outputs": [],
   "source": [],
   "metadata": {
    "collapsed": false
   }
  }
 ],
 "metadata": {
  "kernelspec": {
   "display_name": "base",
   "language": "python",
   "name": "python3"
  },
  "language_info": {
   "codemirror_mode": {
    "name": "ipython",
    "version": 3
   },
   "file_extension": ".py",
   "mimetype": "text/x-python",
   "name": "python",
   "nbconvert_exporter": "python",
   "pygments_lexer": "ipython3",
   "version": "3.10.11"
  },
  "orig_nbformat": 4,
  "vscode": {
   "interpreter": {
    "hash": "984040fab1ccb5ba6a68235d0db52f534f998eef5bc0a8ef165cb4656f5649ce"
   }
  }
 },
 "nbformat": 4,
 "nbformat_minor": 2
}
